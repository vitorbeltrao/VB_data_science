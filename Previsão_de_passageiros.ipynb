{
  "nbformat": 4,
  "nbformat_minor": 0,
  "metadata": {
    "colab": {
      "name": "Previsão de passageiros.ipynb",
      "provenance": [],
      "collapsed_sections": [],
      "authorship_tag": "ABX9TyN31zjJYMX0wMLK/n2LhlNQ",
      "include_colab_link": true
    },
    "kernelspec": {
      "name": "python3",
      "display_name": "Python 3"
    },
    "language_info": {
      "name": "python"
    }
  },
  "cells": [
    {
      "cell_type": "markdown",
      "metadata": {
        "id": "view-in-github",
        "colab_type": "text"
      },
      "source": [
        "<a href=\"https://colab.research.google.com/github/vitorbeltrao/VB_data_science/blob/main/Previs%C3%A3o_de_passageiros.ipynb\" target=\"_parent\"><img src=\"https://colab.research.google.com/assets/colab-badge.svg\" alt=\"Open In Colab\"/></a>"
      ]
    },
    {
      "cell_type": "markdown",
      "metadata": {
        "id": "iKtvFm9KZw_M"
      },
      "source": [
        "*by [Vitor Beltrão](https://www.linkedin.com/in/v%C3%ADtor-beltr%C3%A3o-56a912178/)*\n",
        "\n",
        "---"
      ]
    },
    {
      "cell_type": "markdown",
      "metadata": {
        "id": "9Ocgtxh7_vzg"
      },
      "source": [
        "# Séries Temporais - Previsões Utilizando Redes Neurais \n",
        "\n",
        "**As séries temporais estão por toda a parte!** Você as viu em preços de ações, previsões do tempo, em tendências históricas e demandas. Poderíamos ficar horas exemplificando onde as séries temporais estão presentes, então vamos em frente!\n",
        "\n",
        "<p align=center>\n",
        "<img src=\"https://images.unsplash.com/photo-1501139083538-0139583c060f?ixid=MnwxMjA3fDB8MHxwaG90by1wYWdlfHx8fGVufDB8fHx8&ixlib=rb-1.2.1&auto=format&fit=crop&w=750&q=80\" width=\"50%\"></p>\n",
        "\n",
        "Mas, o que exatamente é uma série temporal?\n",
        "\n",
        "**É uma sequência ordenada de valores, geralmente espaçadas igualmente ao longo do tempo todos os anos, meses, dias ou mesmo a cada poucos microssegundos.**\n",
        "\n",
        "As séries temporais, vem com diversas formas e tamanhos, mas alguns padrões são mais comuns do que outros, portanto, é bastante útil reconhecê-los. Um desses padrões, é a **tendência**. Um série temporal, pode ter uma tendência de alta ou de baixa, por exemplo, as vendas de uma loja ao longo do tempo, podem estar aumentando ou diminuindo.\n",
        "\n",
        "Outro padrão muito importante, é a **sazonalidade**. Ela se define quando os padrões de um determinado conjunto de dados se repetem em intervalos previsíveis, com \"picos\" e \"vales\" específicos nos gráficos. Por exemplo, as vendas de uma loja de chocolate, aumentam consideravelmente (picos) na época de pascoa, mas caem bruscamente durante as férias de verão (vales) e isso se repete todos os anos.\n",
        "\n",
        "Por fim, outro padrão que é interessante reconhecer, é o **ruído**. Dessa forma, as séries ficam completamente imprevisíveis. Um exemplo, seria o ruído branco, nele, seria interessante encontrar apenas sua distribuição de probabilidade e os seus parâmetros, como a média e a variância.\n",
        "\n",
        "* Quando temos um único valor, em cada intervalo de tempo, dizemos que é uma série temporal **univariada**.\n",
        "\n",
        "* Quando temos mais de um valor, em cada intervalo de tempo, dizemos que é uma série temporal **multivariada**.\n",
        "\n",
        "Como podemos ver, a série temporal pode ser utilizada para analisar quase tudo que evolui ao longo do tempo. Ela possui diversas aplicações, sendo a mais comum a **previsão**.\n",
        "\n",
        "**Este, portanto, será o objetivo desse projeto. Utilizar os dados de uma companhia aérea para prever a quantidade de passageiros que ela terá.**\n",
        "\n",
        "\n",
        "\n",
        "\n"
      ]
    },
    {
      "cell_type": "markdown",
      "metadata": {
        "id": "cNh4kt7Q_s8Z"
      },
      "source": [
        "## Aquisição dos dados\n",
        "\n",
        "Os dados deste trabalho foram adquiridos do [Kaggle](https://www.kaggle.com/rakannimer/air-passengers). Lá você encontra esse e outros datasets muito interessantes para fazer projetos como esse ou até participar de competições entre cientistas de dados."
      ]
    },
    {
      "cell_type": "code",
      "metadata": {
        "id": "YdcQAzRhnQc_"
      },
      "source": [
        "# Importar os pacotes necessários.\n",
        "import warnings\n",
        "warnings.simplefilter(action='ignore', category=FutureWarning)\n",
        "import pandas as pd\n",
        "import numpy as np\n",
        "import matplotlib.pyplot as plt\n",
        "import seaborn as sns\n",
        "from keras.models import Sequential\n",
        "from keras.layers import Dense\n",
        "from keras.layers import LSTM\n",
        "from keras.layers import Dropout\n",
        "from keras.layers import *\n",
        "from sklearn.preprocessing import MinMaxScaler\n",
        "from sklearn.metrics import mean_squared_error\n",
        "from sklearn.metrics import mean_absolute_error\n",
        "from sklearn.model_selection import train_test_split\n",
        "from keras.callbacks import EarlyStopping\n",
        "\n",
        "df = pd.read_csv(\"https://raw.githubusercontent.com/vitorbeltrao/Datasets/main/AirPassengers.csv\")"
      ],
      "execution_count": null,
      "outputs": []
    },
    {
      "cell_type": "markdown",
      "metadata": {
        "id": "9_uoOLLv_pF5"
      },
      "source": [
        "## Análise Exploratória dos dados\n",
        "\n",
        "Vamos, em primeiro lugar, fazer um reconhecimento do nosso dataset por meio da análise exploratória. Sabemos o quanto essa etapa de um projeto é importante!\n",
        "\n",
        "<p align=center>\n",
        "<img src=\"https://images.unsplash.com/photo-1527474305487-b87b222841cc?ixid=MnwxMjA3fDB8MHxwaG90by1wYWdlfHx8fGVufDB8fHx8&ixlib=rb-1.2.1&auto=format&fit=crop&w=667&q=80\" width=\"50%\"></p>\n",
        "\n",
        "* Vamos começar verificando as 5 primeiras entradas do dataset."
      ]
    },
    {
      "cell_type": "code",
      "metadata": {
        "colab": {
          "base_uri": "https://localhost:8080/",
          "height": 204
        },
        "id": "w-EeXZRKpSPv",
        "outputId": "6b63ddd6-f545-4fa9-b549-53f98caefda5"
      },
      "source": [
        "df.head()"
      ],
      "execution_count": null,
      "outputs": [
        {
          "output_type": "execute_result",
          "data": {
            "text/html": [
              "<div>\n",
              "<style scoped>\n",
              "    .dataframe tbody tr th:only-of-type {\n",
              "        vertical-align: middle;\n",
              "    }\n",
              "\n",
              "    .dataframe tbody tr th {\n",
              "        vertical-align: top;\n",
              "    }\n",
              "\n",
              "    .dataframe thead th {\n",
              "        text-align: right;\n",
              "    }\n",
              "</style>\n",
              "<table border=\"1\" class=\"dataframe\">\n",
              "  <thead>\n",
              "    <tr style=\"text-align: right;\">\n",
              "      <th></th>\n",
              "      <th>Month</th>\n",
              "      <th>#Passengers</th>\n",
              "    </tr>\n",
              "  </thead>\n",
              "  <tbody>\n",
              "    <tr>\n",
              "      <th>0</th>\n",
              "      <td>1949-01</td>\n",
              "      <td>112</td>\n",
              "    </tr>\n",
              "    <tr>\n",
              "      <th>1</th>\n",
              "      <td>1949-02</td>\n",
              "      <td>118</td>\n",
              "    </tr>\n",
              "    <tr>\n",
              "      <th>2</th>\n",
              "      <td>1949-03</td>\n",
              "      <td>132</td>\n",
              "    </tr>\n",
              "    <tr>\n",
              "      <th>3</th>\n",
              "      <td>1949-04</td>\n",
              "      <td>129</td>\n",
              "    </tr>\n",
              "    <tr>\n",
              "      <th>4</th>\n",
              "      <td>1949-05</td>\n",
              "      <td>121</td>\n",
              "    </tr>\n",
              "  </tbody>\n",
              "</table>\n",
              "</div>"
            ],
            "text/plain": [
              "     Month  #Passengers\n",
              "0  1949-01          112\n",
              "1  1949-02          118\n",
              "2  1949-03          132\n",
              "3  1949-04          129\n",
              "4  1949-05          121"
            ]
          },
          "metadata": {
            "tags": []
          },
          "execution_count": 2
        }
      ]
    },
    {
      "cell_type": "markdown",
      "metadata": {
        "id": "S5RZXdGKBquo"
      },
      "source": [
        "Esse é um dataset que possui apenas duas colunas. **Note como é nítido uma análise de série temporal, nesse caso**. Temos uma coluna com uma sequência de valores (passageiros) ao longo de um período de tempo (meses). Vamos verificar esses valores em um gráfico para tudo ficar mais claro. \n",
        "\n",
        "Antes da análise gráfica, vamos verificar os tipos das duas colunas, a quantidade de valores ausentes e alterar o que for necessário.\n",
        "\n",
        "* Verificar os tipos das colunas"
      ]
    },
    {
      "cell_type": "code",
      "metadata": {
        "colab": {
          "base_uri": "https://localhost:8080/"
        },
        "id": "D6LIW5724AjA",
        "outputId": "386625e4-4af6-4407-850d-5a499e0225fc"
      },
      "source": [
        "df[\"Month\"] = pd.to_datetime(df[\"Month\"])\n",
        "df.info()"
      ],
      "execution_count": null,
      "outputs": [
        {
          "output_type": "stream",
          "text": [
            "<class 'pandas.core.frame.DataFrame'>\n",
            "RangeIndex: 144 entries, 0 to 143\n",
            "Data columns (total 2 columns):\n",
            " #   Column       Non-Null Count  Dtype         \n",
            "---  ------       --------------  -----         \n",
            " 0   Month        144 non-null    datetime64[ns]\n",
            " 1   #Passengers  144 non-null    int64         \n",
            "dtypes: datetime64[ns](1), int64(1)\n",
            "memory usage: 2.4 KB\n"
          ],
          "name": "stdout"
        }
      ]
    },
    {
      "cell_type": "markdown",
      "metadata": {
        "id": "Nbz1k3qNE-Un"
      },
      "source": [
        "Aqui alteramos o tipo da coluna 'Month' para 'datetime', pois, como é uma coluna que representa as datas do conjunto de dados, esse é o tipo correto a se trabalhar.\n",
        "\n",
        "A coluna 'Passengers' se encontra como 'int'. Esse é também o tipo correto a se trabalhar com essa coluna, já que temos números inteiros em suas entradas.\n",
        "\n",
        "* Vamos verificar a ausência de algum dado, bem como renomear as nossas colunas e passar a coluna que representa as datas (Month) para o index do dataframe."
      ]
    },
    {
      "cell_type": "code",
      "metadata": {
        "colab": {
          "base_uri": "https://localhost:8080/",
          "height": 269
        },
        "id": "dan0-G-PAcdw",
        "outputId": "a29faa26-c4eb-4478-aa65-3bc58a47fb55"
      },
      "source": [
        "df.set_index(\"Month\", inplace=True)\n",
        "df.columns = [\"passengers\"]\n",
        "df.index.name = \"date\"\n",
        "\n",
        "print('Quantidade de linhas e colunas:', df.shape)\n",
        "print('Quantidade de dados nulos:', df.isna().sum().sum())\n",
        "\n",
        "df.head()"
      ],
      "execution_count": null,
      "outputs": [
        {
          "output_type": "stream",
          "text": [
            "Quantidade de linhas e colunas: (144, 1)\n",
            "Quantidade de dados nulos: 0\n"
          ],
          "name": "stdout"
        },
        {
          "output_type": "execute_result",
          "data": {
            "text/html": [
              "<div>\n",
              "<style scoped>\n",
              "    .dataframe tbody tr th:only-of-type {\n",
              "        vertical-align: middle;\n",
              "    }\n",
              "\n",
              "    .dataframe tbody tr th {\n",
              "        vertical-align: top;\n",
              "    }\n",
              "\n",
              "    .dataframe thead th {\n",
              "        text-align: right;\n",
              "    }\n",
              "</style>\n",
              "<table border=\"1\" class=\"dataframe\">\n",
              "  <thead>\n",
              "    <tr style=\"text-align: right;\">\n",
              "      <th></th>\n",
              "      <th>passengers</th>\n",
              "    </tr>\n",
              "    <tr>\n",
              "      <th>date</th>\n",
              "      <th></th>\n",
              "    </tr>\n",
              "  </thead>\n",
              "  <tbody>\n",
              "    <tr>\n",
              "      <th>1949-01-01</th>\n",
              "      <td>112</td>\n",
              "    </tr>\n",
              "    <tr>\n",
              "      <th>1949-02-01</th>\n",
              "      <td>118</td>\n",
              "    </tr>\n",
              "    <tr>\n",
              "      <th>1949-03-01</th>\n",
              "      <td>132</td>\n",
              "    </tr>\n",
              "    <tr>\n",
              "      <th>1949-04-01</th>\n",
              "      <td>129</td>\n",
              "    </tr>\n",
              "    <tr>\n",
              "      <th>1949-05-01</th>\n",
              "      <td>121</td>\n",
              "    </tr>\n",
              "  </tbody>\n",
              "</table>\n",
              "</div>"
            ],
            "text/plain": [
              "            passengers\n",
              "date                  \n",
              "1949-01-01         112\n",
              "1949-02-01         118\n",
              "1949-03-01         132\n",
              "1949-04-01         129\n",
              "1949-05-01         121"
            ]
          },
          "metadata": {
            "tags": []
          },
          "execution_count": 4
        }
      ]
    },
    {
      "cell_type": "markdown",
      "metadata": {
        "id": "kYTIEYD9G1RW"
      },
      "source": [
        "Esse conjunto de dados não possui nenhum valor ausente, o que é ótimo para nossa análise. **Ressalto que esse é um passo importante**. Se por acaso existir um dado nulo em uma determinada data e isso representar uma queda drástica no gráfico, nossa análise se modificará completamente.\n",
        "\n",
        "Feito isso, podemos partir para análises mais profundas!\n",
        "\n",
        "<p align=center>\n",
        "<img src=\"https://image.freepik.com/free-vector/site-stats-concept-illustration_114360-1434.jpg\" width=\"30%\"></p>\n",
        "\n",
        "* Verificação do aumento de passageiros por período de mês e aceleração desse aumento.\n",
        "\n"
      ]
    },
    {
      "cell_type": "code",
      "metadata": {
        "colab": {
          "base_uri": "https://localhost:8080/",
          "height": 235
        },
        "id": "nzX-9NXgAqvo",
        "outputId": "2a503d91-3dfb-4ab6-c215-f2fa35447a2b"
      },
      "source": [
        "df_2 = df.copy()\n",
        "df_2['aumento'] = df_2['passengers'].diff()\n",
        "df_2['aceleracao'] = df_2['aumento'].diff()\n",
        "df_2.head()"
      ],
      "execution_count": null,
      "outputs": [
        {
          "output_type": "execute_result",
          "data": {
            "text/html": [
              "<div>\n",
              "<style scoped>\n",
              "    .dataframe tbody tr th:only-of-type {\n",
              "        vertical-align: middle;\n",
              "    }\n",
              "\n",
              "    .dataframe tbody tr th {\n",
              "        vertical-align: top;\n",
              "    }\n",
              "\n",
              "    .dataframe thead th {\n",
              "        text-align: right;\n",
              "    }\n",
              "</style>\n",
              "<table border=\"1\" class=\"dataframe\">\n",
              "  <thead>\n",
              "    <tr style=\"text-align: right;\">\n",
              "      <th></th>\n",
              "      <th>passengers</th>\n",
              "      <th>aumento</th>\n",
              "      <th>aceleracao</th>\n",
              "    </tr>\n",
              "    <tr>\n",
              "      <th>date</th>\n",
              "      <th></th>\n",
              "      <th></th>\n",
              "      <th></th>\n",
              "    </tr>\n",
              "  </thead>\n",
              "  <tbody>\n",
              "    <tr>\n",
              "      <th>1949-01-01</th>\n",
              "      <td>112</td>\n",
              "      <td>NaN</td>\n",
              "      <td>NaN</td>\n",
              "    </tr>\n",
              "    <tr>\n",
              "      <th>1949-02-01</th>\n",
              "      <td>118</td>\n",
              "      <td>6.0</td>\n",
              "      <td>NaN</td>\n",
              "    </tr>\n",
              "    <tr>\n",
              "      <th>1949-03-01</th>\n",
              "      <td>132</td>\n",
              "      <td>14.0</td>\n",
              "      <td>8.0</td>\n",
              "    </tr>\n",
              "    <tr>\n",
              "      <th>1949-04-01</th>\n",
              "      <td>129</td>\n",
              "      <td>-3.0</td>\n",
              "      <td>-17.0</td>\n",
              "    </tr>\n",
              "    <tr>\n",
              "      <th>1949-05-01</th>\n",
              "      <td>121</td>\n",
              "      <td>-8.0</td>\n",
              "      <td>-5.0</td>\n",
              "    </tr>\n",
              "  </tbody>\n",
              "</table>\n",
              "</div>"
            ],
            "text/plain": [
              "            passengers  aumento  aceleracao\n",
              "date                                       \n",
              "1949-01-01         112      NaN         NaN\n",
              "1949-02-01         118      6.0         NaN\n",
              "1949-03-01         132     14.0         8.0\n",
              "1949-04-01         129     -3.0       -17.0\n",
              "1949-05-01         121     -8.0        -5.0"
            ]
          },
          "metadata": {
            "tags": []
          },
          "execution_count": 5
        }
      ]
    },
    {
      "cell_type": "markdown",
      "metadata": {
        "id": "y0uf591OJBvu"
      },
      "source": [
        "Aqui, criamos um novo dataframe com algumas colunas novas. Essas novas colunas 'aumento' e 'aceleracao' nos dizem o quanto de passageiros aumentou (ou diminuiu) de um intervalo de tempo para o outro e com qual aceleração esse aumento aconteceu, respectivamente.\n",
        "\n",
        "Os valores em ambas, são apenas a subtração de um valor em determinada data com a data anterior. A coluna 'aumento' tem seus valores vindo da coluna 'passengers' e a coluna 'aceleracao' tem seus valores vindo da coluna 'aumento'.\n",
        "\n",
        "* Vamos plotar um gráfico para verificar esses valores."
      ]
    },
    {
      "cell_type": "code",
      "metadata": {
        "id": "QvZOdQ6_A50g"
      },
      "source": [
        "def plot_comparacao(x, y1, y2, y3, dataset, titulo):\n",
        "  plt.figure(figsize=(16,12))\n",
        "  ax = plt.subplot(3,1,1)\n",
        "  ax.set_title(titulo, fontsize=18,loc='left')\n",
        "  sns.lineplot(x=x, y=y1, data=dataset)\n",
        "  plt.subplot(3,1,2)\n",
        "  sns.lineplot(x=x, y=y2, data=dataset)\n",
        "  plt.subplot(3,1,3)\n",
        "  sns.lineplot(x=x, y=y3, data=dataset)\n",
        "  ax = ax"
      ],
      "execution_count": null,
      "outputs": []
    },
    {
      "cell_type": "code",
      "metadata": {
        "colab": {
          "base_uri": "https://localhost:8080/",
          "height": 735
        },
        "id": "l_8qC4cGBAHY",
        "outputId": "d983f779-fafb-4977-e17b-e2232d106595"
      },
      "source": [
        "plot_comparacao('date', 'passengers', 'aumento', 'aceleracao',\n",
        "               df_2, 'Análise da quantidade de passageiros')"
      ],
      "execution_count": null,
      "outputs": [
        {
          "output_type": "display_data",
          "data": {
            "image/png": "[encoded data removed]",
            "text/plain": [
              "<Figure size 1152x864 with 3 Axes>"
            ]
          },
          "metadata": {
            "tags": [],
            "needs_background": "light"
          }
        }
      ]
    },
    {
      "cell_type": "markdown",
      "metadata": {
        "id": "3OQ6ssx3KcvN"
      },
      "source": [
        "Conseguimos ver claramente pelo primeiro gráfico (tempo x passageiros) uma nítida série temporal. Note que é um gráfico que possui padrões de **tendência** e **sazonalidade**.\n",
        "\n",
        "Nesse caso, temos uma tendência ascendente, visto que o número de passageiros está aumentando ao longo do tempo.\n",
        "\n",
        "Temos também uma sazonalidade bem perceptível. Note que ao longo do mesmo intervalo de tempo (mais ou menos), temos \"picos\" e \"vales\" bem característicos no gráfico. Os picos estão acontecendo, provavelmente, devido a determinadas datas mais propícias a viajar (Como nas férias escolares) e os vales exatamente ao contrário.\n",
        "\n",
        "Com relação aos ruídos, percebemos melhor pelo terceiro gráfico, na relação tempo x aceleração. Veja como o gráfico apenas \"sobe\" e \"desce\" de maneira desordenada, deixando uma certa imprevisibilidade na análise.\n"
      ]
    },
    {
      "cell_type": "markdown",
      "metadata": {
        "id": "iDELTcDwAGun"
      },
      "source": [
        "## Modelo de Machine Learning\n",
        "\n",
        "### Particionamento Fixo\n",
        "\n",
        "Após fazer todas as análises na etapa anterior, temos condições de finalmente montar nosso algoritmo de machine learning.\n",
        "\n",
        "A abordagem mais simples é pegar o último valor e supor que o próximo valor será o mesmo. Isso é chamado de **\"previsão ingênua\"**. Muitas vezes é interessante utilizar essa previsão ingênua, apenas para obter uma linha de base do desempenho do modelo.\n",
        "\n",
        "Para medir o desempenho do modelo de previsão, o ideal é dividir a série temporal em um período de treinamento, um período de validação e outro de teste. **Isso é chamado de particionamento fixo.**\n",
        "\n",
        "Se a série temporal tiver alguma sazonalidade, geralmente, temos que garantir que cada período contenha um número inteiro de \"temporadas\", como, um ano, dois anos, três anos, etc. Não queremos um ano e meio ou dois anos e meio, pois, alguns meses seriam mais representativos do que outros, causando uma confusão na análise.\n",
        "\n",
        "Vamos descrever aqui um passo a passo do algoritmo:\n",
        "\n",
        "* Primeiro, deve-se treinar o modelo no **período de treinamento**;\n",
        "* Depois, deve-se avalia-lo no **período de validação**. Aqui podemos itera-lo várias vezes (entre o período de treinamento e validação) para achar uma boa arquitetura da nossa rede neural e ajustar os hyperparâmetros;\n",
        "* Após finalizar os dois primeiros passos, teste o modelo no **período de teste**, para ter uma ideia de como será o desempenho do modelo em produção.\n",
        "\n",
        "<p align=center>\n",
        "<img src=\"https://github.com/vitorbeltrao/Pictures/blob/main/train_test_validation.png?raw=true\" width=\"80%\"></p>\n",
        "\n",
        "\n",
        "**Nem sempre teremos um excelente desempenho, porque a série temporal pode se comportar de maneira diferente no futuro, mas geralmente conseguiremos desempenhos razoáveis e aplicáveis.**\n",
        "\n",
        "* Para fechar o nosso passo a passo, devemos treinar a série temporal uma última vez, incluindo nesse treino o período que antes era de teste, para implantar o modelo. **Isso é diferente das práticas recomendadas usuais de machine learning, onde nunca treinamos no período de teste.** \n",
        "\n",
        "Aqui, contrariando as práticas recomendadas, isso vai ser necessário, pois, o período mais recente da série temporal costuma ser o que mais contém informações úteis para a previsão.\n",
        "\n",
        "<p align=center>\n",
        "<img src=\"https://github.com/vitorbeltrao/Pictures/blob/main/train_test_validation_2.png?raw=true\" width=\"80%\"></p>\n",
        "\n",
        "Agora, como o período de teste não é tão confiável quanto nas práticas usuais de machine learning, porque precisamos usá-lo para treinamento antes de implantar o modelo, é comum utilizar apenas um período de treinamento e um de validação. **Em outras palavras, o período de teste estará no futuro.**\n",
        "\n",
        "### Particionamento Rollforward\n",
        "\n",
        "O particionamento fixo é simples e intuitivo, mas há outra maneira de fazer previsões. **O particionamento rollforward.**\n",
        "\n",
        "Nesse método, começamos com um curto período de treinamento e gradualmente aumentamos, um dia de cada vez ou uma semana de cada vez. A cada iteração, treinamos o modelo no **período de treinamento** e o usamos para prever o dia seguinte ou a semana seguinte no **período de validação**.\n",
        "\n",
        "**Sua desvantagem é que exigirá muito mais tempo de treinamento, mas o benefício é que será mais próximo de imitar as condições de produção, pois você geralmente irá treinar regularmente o modelo a medida que novos dados são obtidos na produção.**\n",
        "\n",
        "<font color='red'>Para simplificar, neste projeto iremos seguir com o particionamento fixo.</font>\n",
        "\n",
        "\n",
        "\n",
        "\n"
      ]
    },
    {
      "cell_type": "code",
      "metadata": {
        "colab": {
          "base_uri": "https://localhost:8080/"
        },
        "id": "hFg_VpQ5rTjE",
        "outputId": "cedec947-a64e-4958-9c53-208d4f2ad213"
      },
      "source": [
        "from sklearn.preprocessing import MinMaxScaler\n",
        "train=df[:132]\n",
        "val=df[132:]\n",
        "scaler=MinMaxScaler()\n",
        "scaled_train=scaler.fit_transform(train)\n",
        "scaled_val=scaler.transform(val)\n",
        "\n",
        "print(\"Dados de treino:\", train)\n",
        "print(\"Dados de teste:\", val)"
      ],
      "execution_count": null,
      "outputs": [
        {
          "output_type": "stream",
          "text": [
            "Dados de treino:             passengers\n",
            "date                  \n",
            "1949-01-01         112\n",
            "1949-02-01         118\n",
            "1949-03-01         132\n",
            "1949-04-01         129\n",
            "1949-05-01         121\n",
            "...                ...\n",
            "1959-08-01         559\n",
            "1959-09-01         463\n",
            "1959-10-01         407\n",
            "1959-11-01         362\n",
            "1959-12-01         405\n",
            "\n",
            "[132 rows x 1 columns]\n",
            "Dados de teste:             passengers\n",
            "date                  \n",
            "1960-01-01         417\n",
            "1960-02-01         391\n",
            "1960-03-01         419\n",
            "1960-04-01         461\n",
            "1960-05-01         472\n",
            "1960-06-01         535\n",
            "1960-07-01         622\n",
            "1960-08-01         606\n",
            "1960-09-01         508\n",
            "1960-10-01         461\n",
            "1960-11-01         390\n",
            "1960-12-01         432\n"
          ],
          "name": "stdout"
        }
      ]
    },
    {
      "cell_type": "markdown",
      "metadata": {
        "id": "isLkMwalshns"
      },
      "source": [
        "Esses são os nossos dados de treino e validação respectivamente. Reservamos os últimos doze meses dos dados para a validação. Também fizemos uma normalização para melhorar o desempenho do modelo.\n",
        "\n",
        "Antes de treinar nosso modelo final, vamos criar um baseline utilizando a previsão ingênua. **Vamos utilizar o mean squared error como métrica de avaliação.**\n",
        "\n",
        "### Previsão ingênua"
      ]
    },
    {
      "cell_type": "code",
      "metadata": {
        "id": "3jTPU-SBsyGk"
      },
      "source": [
        "df['passengers']\n",
        "df['naive'] = df['passengers'].shift(1)\n",
        "\n",
        "df_naive = df[['passengers','naive']][1:]"
      ],
      "execution_count": null,
      "outputs": []
    },
    {
      "cell_type": "code",
      "metadata": {
        "colab": {
          "base_uri": "https://localhost:8080/"
        },
        "id": "ItoDwWZEUGhU",
        "outputId": "95282c95-43ed-49f7-fd61-9aee53902b5b"
      },
      "source": [
        "from sklearn.metrics import mean_squared_error\n",
        "\n",
        "naive_true = df_naive['passengers']\n",
        "naive_prediction = df_naive['naive']\n",
        "print(\"MSE:\\t\", mean_squared_error(naive_true, naive_prediction))"
      ],
      "execution_count": null,
      "outputs": [
        {
          "output_type": "stream",
          "text": [
            "MSE:\t 1136.3916083916083\n"
          ],
          "name": "stdout"
        }
      ]
    },
    {
      "cell_type": "markdown",
      "metadata": {
        "id": "AjzOOutIWjPU"
      },
      "source": [
        "Temos o baseline pela previsão ingênua! Vamos então treinar o algoritmo utilizando as redes neurais.\n",
        "\n",
        "### Modelo Final - LSTM\n",
        "\n",
        "LSTM (Long Short-Term Memory) é uma arquitetura baseada em Rede Neural Recorrente (RNN) que é amplamente usada no processamento de linguagem natural e previsão de séries temporais. **O LSTM corrige um grande problema que as redes neurais recorrentes sofrem: memória curta.**\n",
        "\n",
        "Vamos então ao que interessa!\n"
      ]
    },
    {
      "cell_type": "code",
      "metadata": {
        "colab": {
          "base_uri": "https://localhost:8080/"
        },
        "id": "49p-bnL0MRxR",
        "outputId": "f0a3acff-6dc6-45b0-f507-73c87163ea5b"
      },
      "source": [
        "from keras.preprocessing.sequence import TimeseriesGenerator\n",
        "n_input = 12\n",
        "n_features= 1\n",
        "generator = TimeseriesGenerator(scaled_train, scaled_train, length=n_input, batch_size=1)\n",
        "\n",
        "model=Sequential()\n",
        "model.add(LSTM(100,activation='relu',input_shape=(n_input,n_features),return_sequences=True))\n",
        "model.add(LSTM(50,activation='relu',return_sequences=True))\n",
        "model.add(LSTM(10,activation='relu'))\n",
        "model.add(Dense(1))\n",
        "\n",
        "model.compile(optimizer='adam',loss='mse')\n",
        "model.summary()\n",
        "\n",
        "model.fit(generator,epochs=30)"
      ],
      "execution_count": null,
      "outputs": [
        {
          "output_type": "stream",
          "text": [
            "Model: \"sequential\"\n",
            "_________________________________________________________________\n",
            "Layer (type)                 Output Shape              Param #   \n",
            "=================================================================\n",
            "lstm (LSTM)                  (None, 12, 100)           40800     \n",
            "_________________________________________________________________\n",
            "lstm_1 (LSTM)                (None, 12, 50)            30200     \n",
            "_________________________________________________________________\n",
            "lstm_2 (LSTM)                (None, 10)                2440      \n",
            "_________________________________________________________________\n",
            "dense (Dense)                (None, 1)                 11        \n",
            "=================================================================\n",
            "Total params: 73,451\n",
            "Trainable params: 73,451\n",
            "Non-trainable params: 0\n",
            "_________________________________________________________________\n",
            "Epoch 1/30\n",
            "120/120 [==============================] - 26s 13ms/step - loss: 0.1134\n",
            "Epoch 2/30\n",
            "120/120 [==============================] - 2s 13ms/step - loss: 0.0195\n",
            "Epoch 3/30\n",
            "120/120 [==============================] - 2s 13ms/step - loss: 0.0129\n",
            "Epoch 4/30\n",
            "120/120 [==============================] - 2s 13ms/step - loss: 0.0127\n",
            "Epoch 5/30\n",
            "120/120 [==============================] - 2s 13ms/step - loss: 0.0094\n",
            "Epoch 6/30\n",
            "120/120 [==============================] - 2s 13ms/step - loss: 0.0080\n",
            "Epoch 7/30\n",
            "120/120 [==============================] - 2s 13ms/step - loss: 0.0065\n",
            "Epoch 8/30\n",
            "120/120 [==============================] - 2s 13ms/step - loss: 0.0071\n",
            "Epoch 9/30\n",
            "120/120 [==============================] - 2s 13ms/step - loss: 0.0077\n",
            "Epoch 10/30\n",
            "120/120 [==============================] - 2s 13ms/step - loss: 0.0070\n",
            "Epoch 11/30\n",
            "120/120 [==============================] - 2s 13ms/step - loss: 0.0047\n",
            "Epoch 12/30\n",
            "120/120 [==============================] - 2s 14ms/step - loss: 0.0043\n",
            "Epoch 13/30\n",
            "120/120 [==============================] - 2s 13ms/step - loss: 0.0037\n",
            "Epoch 14/30\n",
            "120/120 [==============================] - 2s 13ms/step - loss: 0.0035\n",
            "Epoch 15/30\n",
            "120/120 [==============================] - 2s 13ms/step - loss: 0.0037\n",
            "Epoch 16/30\n",
            "120/120 [==============================] - 2s 14ms/step - loss: 0.0039\n",
            "Epoch 17/30\n",
            "120/120 [==============================] - 2s 13ms/step - loss: 0.0052\n",
            "Epoch 18/30\n",
            "120/120 [==============================] - 2s 14ms/step - loss: 0.0054\n",
            "Epoch 19/30\n",
            "120/120 [==============================] - 2s 14ms/step - loss: 0.0035\n",
            "Epoch 20/30\n",
            "120/120 [==============================] - 2s 14ms/step - loss: 0.0031\n",
            "Epoch 21/30\n",
            "120/120 [==============================] - 2s 13ms/step - loss: 0.0026\n",
            "Epoch 22/30\n",
            "120/120 [==============================] - 2s 13ms/step - loss: 0.0025\n",
            "Epoch 23/30\n",
            "120/120 [==============================] - 2s 14ms/step - loss: 0.0034\n",
            "Epoch 24/30\n",
            "120/120 [==============================] - 2s 14ms/step - loss: 0.0027\n",
            "Epoch 25/30\n",
            "120/120 [==============================] - 2s 13ms/step - loss: 0.0019\n",
            "Epoch 26/30\n",
            "120/120 [==============================] - 2s 13ms/step - loss: 0.0016\n",
            "Epoch 27/30\n",
            "120/120 [==============================] - 2s 14ms/step - loss: 0.0019\n",
            "Epoch 28/30\n",
            "120/120 [==============================] - 2s 13ms/step - loss: 0.0017\n",
            "Epoch 29/30\n",
            "120/120 [==============================] - 2s 14ms/step - loss: 0.0016\n",
            "Epoch 30/30\n",
            "120/120 [==============================] - 2s 13ms/step - loss: 0.0018\n"
          ],
          "name": "stdout"
        },
        {
          "output_type": "execute_result",
          "data": {
            "text/plain": [
              "<keras.callbacks.History at 0x7f67f864c1d0>"
            ]
          },
          "metadata": {
            "tags": []
          },
          "execution_count": 11
        }
      ]
    },
    {
      "cell_type": "markdown",
      "metadata": {
        "id": "KdLLsq5XdmgN"
      },
      "source": [
        "Treinamos a nossa rede, e, para finalizar vamos fazer previsões e comparar o desempenho com o baseline."
      ]
    },
    {
      "cell_type": "code",
      "metadata": {
        "colab": {
          "base_uri": "https://localhost:8080/"
        },
        "id": "ZU-iUjWtZg9v",
        "outputId": "287f7b9f-54fe-47cf-f921-6b3c8be4f9fa"
      },
      "source": [
        "lstm_predictions_scaled = list()\n",
        "\n",
        "batch = scaled_train[-n_input:]\n",
        "current_batch = batch.reshape((1, n_input, n_features))\n",
        "\n",
        "for i in range(len(val)):   \n",
        "    lstm_pred = model.predict(current_batch)[0]\n",
        "    lstm_predictions_scaled.append(lstm_pred) \n",
        "    current_batch = np.append(current_batch[:,1:,:],[[lstm_pred]],axis=1)\n",
        "\n",
        "lstm_predictions_scaled"
      ],
      "execution_count": null,
      "outputs": [
        {
          "output_type": "execute_result",
          "data": {
            "text/plain": [
              "[array([0.66651845], dtype=float32),\n",
              " array([0.64089525], dtype=float32),\n",
              " array([0.7838521], dtype=float32),\n",
              " array([0.7611133], dtype=float32),\n",
              " array([0.8567718], dtype=float32),\n",
              " array([1.042348], dtype=float32),\n",
              " array([1.1125877], dtype=float32),\n",
              " array([1.1182342], dtype=float32),\n",
              " array([0.96033096], dtype=float32),\n",
              " array([0.7933109], dtype=float32),\n",
              " array([0.6854322], dtype=float32),\n",
              " array([0.7908375], dtype=float32)]"
            ]
          },
          "metadata": {
            "tags": []
          },
          "execution_count": 12
        }
      ]
    },
    {
      "cell_type": "code",
      "metadata": {
        "colab": {
          "base_uri": "https://localhost:8080/"
        },
        "id": "mCV7jPFwZ6yd",
        "outputId": "43284551-b56c-4256-da53-2776a3f403f2"
      },
      "source": [
        "lstm_predictions = scaler.inverse_transform(lstm_predictions_scaled)\n",
        "lstm_predictions"
      ],
      "execution_count": null,
      "outputs": [
        {
          "output_type": "execute_result",
          "data": {
            "text/plain": [
              "array([[407.26589465],\n",
              "       [395.60733759],\n",
              "       [460.65270567],\n",
              "       [450.30654514],\n",
              "       [493.83118117],\n",
              "       [578.26835239],\n",
              "       [610.22739911],\n",
              "       [612.79654169],\n",
              "       [540.95058823],\n",
              "       [464.9564507 ],\n",
              "       [415.87164903],\n",
              "       [463.83107448]])"
            ]
          },
          "metadata": {
            "tags": []
          },
          "execution_count": 13
        }
      ]
    },
    {
      "cell_type": "code",
      "metadata": {
        "colab": {
          "base_uri": "https://localhost:8080/",
          "height": 554
        },
        "id": "bDRUUEt_aB86",
        "outputId": "a802430f-69ef-41e0-a17f-cdbdb6bca49d"
      },
      "source": [
        "val['LSTM_Predictions'] = lstm_predictions\n",
        "val"
      ],
      "execution_count": null,
      "outputs": [
        {
          "output_type": "stream",
          "text": [
            "/usr/local/lib/python3.7/dist-packages/ipykernel_launcher.py:1: SettingWithCopyWarning: \n",
            "A value is trying to be set on a copy of a slice from a DataFrame.\n",
            "Try using .loc[row_indexer,col_indexer] = value instead\n",
            "\n",
            "See the caveats in the documentation: https://pandas.pydata.org/pandas-docs/stable/user_guide/indexing.html#returning-a-view-versus-a-copy\n",
            "  \"\"\"Entry point for launching an IPython kernel.\n"
          ],
          "name": "stderr"
        },
        {
          "output_type": "execute_result",
          "data": {
            "text/html": [
              "<div>\n",
              "<style scoped>\n",
              "    .dataframe tbody tr th:only-of-type {\n",
              "        vertical-align: middle;\n",
              "    }\n",
              "\n",
              "    .dataframe tbody tr th {\n",
              "        vertical-align: top;\n",
              "    }\n",
              "\n",
              "    .dataframe thead th {\n",
              "        text-align: right;\n",
              "    }\n",
              "</style>\n",
              "<table border=\"1\" class=\"dataframe\">\n",
              "  <thead>\n",
              "    <tr style=\"text-align: right;\">\n",
              "      <th></th>\n",
              "      <th>passengers</th>\n",
              "      <th>LSTM_Predictions</th>\n",
              "    </tr>\n",
              "    <tr>\n",
              "      <th>date</th>\n",
              "      <th></th>\n",
              "      <th></th>\n",
              "    </tr>\n",
              "  </thead>\n",
              "  <tbody>\n",
              "    <tr>\n",
              "      <th>1960-01-01</th>\n",
              "      <td>417</td>\n",
              "      <td>407.265895</td>\n",
              "    </tr>\n",
              "    <tr>\n",
              "      <th>1960-02-01</th>\n",
              "      <td>391</td>\n",
              "      <td>395.607338</td>\n",
              "    </tr>\n",
              "    <tr>\n",
              "      <th>1960-03-01</th>\n",
              "      <td>419</td>\n",
              "      <td>460.652706</td>\n",
              "    </tr>\n",
              "    <tr>\n",
              "      <th>1960-04-01</th>\n",
              "      <td>461</td>\n",
              "      <td>450.306545</td>\n",
              "    </tr>\n",
              "    <tr>\n",
              "      <th>1960-05-01</th>\n",
              "      <td>472</td>\n",
              "      <td>493.831181</td>\n",
              "    </tr>\n",
              "    <tr>\n",
              "      <th>1960-06-01</th>\n",
              "      <td>535</td>\n",
              "      <td>578.268352</td>\n",
              "    </tr>\n",
              "    <tr>\n",
              "      <th>1960-07-01</th>\n",
              "      <td>622</td>\n",
              "      <td>610.227399</td>\n",
              "    </tr>\n",
              "    <tr>\n",
              "      <th>1960-08-01</th>\n",
              "      <td>606</td>\n",
              "      <td>612.796542</td>\n",
              "    </tr>\n",
              "    <tr>\n",
              "      <th>1960-09-01</th>\n",
              "      <td>508</td>\n",
              "      <td>540.950588</td>\n",
              "    </tr>\n",
              "    <tr>\n",
              "      <th>1960-10-01</th>\n",
              "      <td>461</td>\n",
              "      <td>464.956451</td>\n",
              "    </tr>\n",
              "    <tr>\n",
              "      <th>1960-11-01</th>\n",
              "      <td>390</td>\n",
              "      <td>415.871649</td>\n",
              "    </tr>\n",
              "    <tr>\n",
              "      <th>1960-12-01</th>\n",
              "      <td>432</td>\n",
              "      <td>463.831074</td>\n",
              "    </tr>\n",
              "  </tbody>\n",
              "</table>\n",
              "</div>"
            ],
            "text/plain": [
              "            passengers  LSTM_Predictions\n",
              "date                                    \n",
              "1960-01-01         417        407.265895\n",
              "1960-02-01         391        395.607338\n",
              "1960-03-01         419        460.652706\n",
              "1960-04-01         461        450.306545\n",
              "1960-05-01         472        493.831181\n",
              "1960-06-01         535        578.268352\n",
              "1960-07-01         622        610.227399\n",
              "1960-08-01         606        612.796542\n",
              "1960-09-01         508        540.950588\n",
              "1960-10-01         461        464.956451\n",
              "1960-11-01         390        415.871649\n",
              "1960-12-01         432        463.831074"
            ]
          },
          "metadata": {
            "tags": []
          },
          "execution_count": 14
        }
      ]
    },
    {
      "cell_type": "markdown",
      "metadata": {
        "id": "FjXdK5MoeFOM"
      },
      "source": [
        "Aqui estão nossas predições! Vamos dar uma olhada graficamente e calcular seu desempenho na métrica que adotamos."
      ]
    },
    {
      "cell_type": "code",
      "metadata": {
        "colab": {
          "base_uri": "https://localhost:8080/",
          "height": 345
        },
        "id": "bqM2weBuaI32",
        "outputId": "6bfaaa33-6dc6-4b37-f8e0-59ffad67a47e"
      },
      "source": [
        "val['passengers'].plot(figsize = (16,5), legend=True)\n",
        "val['LSTM_Predictions'].plot(legend = True);"
      ],
      "execution_count": null,
      "outputs": [
        {
          "output_type": "display_data",
          "data": {
            "image/png": "[encoded data removed]",
            "text/plain": [
              "<Figure size 1152x360 with 1 Axes>"
            ]
          },
          "metadata": {
            "tags": [],
            "needs_background": "light"
          }
        }
      ]
    },
    {
      "cell_type": "code",
      "metadata": {
        "colab": {
          "base_uri": "https://localhost:8080/"
        },
        "id": "WzJbcJ83ZicQ",
        "outputId": "82ee056a-79bc-46d5-e6ec-721244c8ee4e"
      },
      "source": [
        "val = val['passengers'].values\n",
        "print(\"MSE:\\t\", mean_squared_error(val, lstm_predictions))"
      ],
      "execution_count": null,
      "outputs": [
        {
          "output_type": "stream",
          "text": [
            "MSE:\t 606.8975354788307\n"
          ],
          "name": "stdout"
        }
      ]
    },
    {
      "cell_type": "markdown",
      "metadata": {
        "id": "-JYmEJY4oVHr"
      },
      "source": [
        "Vejam o desempenho na métrica adotada, veja como o erro caiu quase pela metade! Nada mal, não é mesmo?\n",
        "\n",
        "\n",
        "\n",
        "\n"
      ]
    },
    {
      "cell_type": "markdown",
      "metadata": {
        "id": "krD362HFvwIL"
      },
      "source": [
        "## Conclusão\n",
        "\n",
        "**Independente das vantagens/desvantagens de usar uma rede neural sobre os métodos clássicos, gostaria de pontuar algumas coisas:**\n",
        "\n",
        "1. É muito importante pesar o custo/benefício de usar um modelo complexo versus um modelo mais simples. Um ligeiro aumento na precisão pode não valer o tempo, esforço e perda de interpretabilidade introduzidos pelos modelos mais complexos.\n",
        "\n",
        "2. Existem muitas outras técnicas que podemos utilizar, como os modelos ARIMA e suas vertentes. Essa última, em muitos casos geralmente superam os modelos de machine learning para séries temporais.\n",
        "\n",
        "3. Com todas essas diversas possibilidades de criar um modelo preditivo, ressalto a importância de sempre realizar diversos testes de pré-processamento dos dados, de testar algoritmos diferentes (que enquadrem na solução) e também do tunning dos hiperparâmetros. Dificilmente iremos encontrar uma solução ótima logo de primeira, na prática esses testes fazem parte do trabalho.\n",
        "\n",
        "Para fechar, ressalto o quanto a previsão de séries temporais é complexa. Caso contrário o mercado de ações estaria resolvido. Há um elemento inerente de ruído em todos os dados de série temporal que não podemos capturar de forma viável, assim como fatores externos incontroláveis, independente do quão bom seja o modelo.\n",
        "\n",
        "**Espero ter contribuído!**"
      ]
    }
  ]
}