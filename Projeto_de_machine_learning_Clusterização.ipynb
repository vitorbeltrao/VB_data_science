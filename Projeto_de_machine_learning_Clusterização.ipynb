{
  "nbformat": 4,
  "nbformat_minor": 0,
  "metadata": {
    "colab": {
      "name": "Projeto de machine learning - Clusterização.ipynb",
      "provenance": [],
      "collapsed_sections": [],
      "authorship_tag": "ABX9TyOe8756yNyx/bDZDwbmd0Ei",
      "include_colab_link": true
    },
    "kernelspec": {
      "name": "python3",
      "display_name": "Python 3"
    },
    "language_info": {
      "name": "python"
    }
  },
  "cells": [
    {
      "cell_type": "markdown",
      "metadata": {
        "id": "view-in-github",
        "colab_type": "text"
      },
      "source": [
        "<a href=\"https://colab.research.google.com/github/vitorbeltrao/VB_data_science/blob/main/Projeto_de_machine_learning_Clusteriza%C3%A7%C3%A3o.ipynb\" target=\"_parent\"><img src=\"https://colab.research.google.com/assets/colab-badge.svg\" alt=\"Open In Colab\"/></a>"
      ]
    },
    {
      "cell_type": "markdown",
      "metadata": {
        "id": "XYlP3YwSZ2T1"
      },
      "source": [
        "# Clusterização de dados: Segmentação de clientes\n",
        "\n",
        "Entender o seu negócio e como os clientes se relacionam com sua empresa e seu produto é fundamental para desenvolver a melhor estratégia.\n",
        "\n",
        "**Um bom caminho a ser seguido nesse sentido é a clusterização**. Uma prática nascida no universo do marketing, a formação de clusters vai além da publicidade e impacta o resultado geral da organização.\n",
        "\n",
        "<p align=center>\n",
        "<img src=\"https://image.freepik.com/free-vector/audience-segmentation-abstract-concept-illustration_335657-1854.jpg\" width=\"35%\"></p>\n",
        "\n",
        "Cluster são formações de grupos de pessoas, produtos, ações, etc, que tenham características semelhantes.\n",
        "\n",
        "Por meio da clusterização, a empresa melhora o tipo de mensagem que envia ao público, como promoções de produtos com mais propensão de aquisição ou um serviço alinhado com a situação atual do cliente. Isso fortalece a relação e, consequentemente, incrementa os lucros.\n",
        "\n",
        "<p align=center>\n",
        "<img src=\"https://image.flaticon.com/icons/png/512/627/627416.png\" width=\"15%\"></p>\n",
        "\n",
        "**Com um mercado mais segmentado, surge a necessidade por produtos e serviços mais customizados, criando assim novas demandas. A análise dos clientes por meio dos clusters ajuda a enxergar e tomar decisões melhores, aperfeiçoando toda a estratégia de atração e vendas.**\n",
        "\n",
        "Por ser uma excelente estratégia de mercado, é que vamos, neste projeto, fazer uma clusterização de clientes para definir algum plano de ação para a empresa."
      ]
    },
    {
      "cell_type": "markdown",
      "metadata": {
        "id": "Mk040lJyaF7E"
      },
      "source": [
        "## Aquisição dos Dados\n",
        "\n",
        "Os dados deste trabalho foram adquiridos do [Kaggle](https://www.kaggle.com/arjunbhasin2013/ccdata). Lá você encontra esse e outros datasets muito interessantes para fazer projetos como esse ou até participar de competições entre cientistas de dados.\n",
        "\n",
        "**Informação das variáveis:**\n",
        "\n",
        "**CUSTID** : Identificação do titular do cartão de crédito;\n",
        "\n",
        "**BALANCE** : Saldo restante na conta para fazer compras;\n",
        "\n",
        "**BALANCEFREQUENCY** : com que frequência o saldo é atualizado, pontuação entre 0 e 1 (1 = atualizado com frequência, 0 = não atualizado com frequência);\n",
        "\n",
        "**PURCHASES** : Valor das compras realizadas;\n",
        "\n",
        "**ONEOFFPURCHASES** : Valor máximo da compra realizada de uma só vez;\n",
        "\n",
        "**INSTALLMENTSPURCHASES** : Valor da compra parcelada;\n",
        "\n",
        "**CASHADVANCE** : Antecipado dado pelo usuário;\n",
        "\n",
        "**PURCHASESFREQUENCY** : Frequência com que as compras estão sendo feitas, pontuação entre 0 e 1 (1 = frequentemente comprado, 0 = não frequentemente comprado);\n",
        "\n",
        "**ONEOFFPURCHASESFREQUENCY** : Com que frequência as compras acontecem de uma vez (1 = frequentemente comprado, 0 = não frequentemente comprado);\n",
        "\n",
        "**PURCHASESINSTALLMENTSFREQUENCY** : Frequência com que as compras a prazo estão sendo feitas (1 = frequentemente, 0 = não frequentemente);\n",
        "\n",
        "**CASHADVANCEFREQUENCY** : Frequência com que o dinheiro antecipado está sendo pago;\n",
        "\n",
        "**CASHADVANCETRX** : Número de transações feitas com \"Dinheiro adiantado\";\n",
        "\n",
        "**PURCHASESTRX** : Número de transações de compras feitas;\n",
        "\n",
        "**CREDITLIMIT** : Limite do cartão de crédito;\n",
        "\n",
        "**PAYMENTS** : Valor do pagamento feito pelo usuário;\n",
        "\n",
        "**MINIMUM_PAYMENTS** : Valor mínimo dos pagamentos feitos pelo usuário;\n",
        "\n",
        "**PRCFULLPAYMENT** : Porcentagem do pagamento total pago pelo usuário;\n",
        "\n",
        "**TENURE** : Posse do serviço de cartão de crédito para o usuário.\n",
        "\n",
        "**OBJETIVO DO TRABALHO: Desenvolvimento de uma segmentação de clientes para definir a estratégia de marketing.**"
      ]
    },
    {
      "cell_type": "code",
      "metadata": {
        "id": "Dt4LnrcNaOvF"
      },
      "source": [
        "# Importar os pacotes necessários.\n",
        "import warnings\n",
        "warnings.simplefilter(action='ignore', category=FutureWarning)\n",
        "import pandas as pd\n",
        "import numpy as np\n",
        "import matplotlib.pyplot as plt\n",
        "import seaborn as sns\n",
        "\n",
        "df = pd.read_csv(\"https://raw.githubusercontent.com/vitorbeltrao/Datasets/main/CC%20GENERAL.csv\")"
      ],
      "execution_count": null,
      "outputs": []
    },
    {
      "cell_type": "markdown",
      "metadata": {
        "id": "HxsgZSG6aeYl"
      },
      "source": [
        "## Análise exploratória dos dados\n",
        "\n",
        "Em primeiro lugar, vamos fazer uma análise exploratória bem sucinta desses dados para conseguirmos extrair informações valiosas que nos ajudará na criação e no melhor desempenho do nosso algoritmo de clusterização. \n",
        "\n",
        "**Para tornar a análise exploratória simples de entender vamos dividir as tarefas em tópicos e ir detalhando uma a uma.**\n",
        "\n",
        "* Verificar as 05 primeiras entradas do dataset"
      ]
    },
    {
      "cell_type": "code",
      "metadata": {
        "colab": {
          "base_uri": "https://localhost:8080/",
          "height": 224
        },
        "id": "CsMG2OTSiCUg",
        "outputId": "93c6eb5e-bba4-46e7-ec7d-3232d3058ffd"
      },
      "source": [
        "df.head()"
      ],
      "execution_count": null,
      "outputs": [
        {
          "output_type": "execute_result",
          "data": {
            "text/html": [
              "<div>\n",
              "<style scoped>\n",
              "    .dataframe tbody tr th:only-of-type {\n",
              "        vertical-align: middle;\n",
              "    }\n",
              "\n",
              "    .dataframe tbody tr th {\n",
              "        vertical-align: top;\n",
              "    }\n",
              "\n",
              "    .dataframe thead th {\n",
              "        text-align: right;\n",
              "    }\n",
              "</style>\n",
              "<table border=\"1\" class=\"dataframe\">\n",
              "  <thead>\n",
              "    <tr style=\"text-align: right;\">\n",
              "      <th></th>\n",
              "      <th>CUST_ID</th>\n",
              "      <th>BALANCE</th>\n",
              "      <th>BALANCE_FREQUENCY</th>\n",
              "      <th>PURCHASES</th>\n",
              "      <th>ONEOFF_PURCHASES</th>\n",
              "      <th>INSTALLMENTS_PURCHASES</th>\n",
              "      <th>CASH_ADVANCE</th>\n",
              "      <th>PURCHASES_FREQUENCY</th>\n",
              "      <th>ONEOFF_PURCHASES_FREQUENCY</th>\n",
              "      <th>PURCHASES_INSTALLMENTS_FREQUENCY</th>\n",
              "      <th>CASH_ADVANCE_FREQUENCY</th>\n",
              "      <th>CASH_ADVANCE_TRX</th>\n",
              "      <th>PURCHASES_TRX</th>\n",
              "      <th>CREDIT_LIMIT</th>\n",
              "      <th>PAYMENTS</th>\n",
              "      <th>MINIMUM_PAYMENTS</th>\n",
              "      <th>PRC_FULL_PAYMENT</th>\n",
              "      <th>TENURE</th>\n",
              "    </tr>\n",
              "  </thead>\n",
              "  <tbody>\n",
              "    <tr>\n",
              "      <th>0</th>\n",
              "      <td>C10001</td>\n",
              "      <td>40.900749</td>\n",
              "      <td>0.818182</td>\n",
              "      <td>95.40</td>\n",
              "      <td>0.00</td>\n",
              "      <td>95.4</td>\n",
              "      <td>0.000000</td>\n",
              "      <td>0.166667</td>\n",
              "      <td>0.000000</td>\n",
              "      <td>0.083333</td>\n",
              "      <td>0.000000</td>\n",
              "      <td>0</td>\n",
              "      <td>2</td>\n",
              "      <td>1000.0</td>\n",
              "      <td>201.802084</td>\n",
              "      <td>139.509787</td>\n",
              "      <td>0.000000</td>\n",
              "      <td>12</td>\n",
              "    </tr>\n",
              "    <tr>\n",
              "      <th>1</th>\n",
              "      <td>C10002</td>\n",
              "      <td>3202.467416</td>\n",
              "      <td>0.909091</td>\n",
              "      <td>0.00</td>\n",
              "      <td>0.00</td>\n",
              "      <td>0.0</td>\n",
              "      <td>6442.945483</td>\n",
              "      <td>0.000000</td>\n",
              "      <td>0.000000</td>\n",
              "      <td>0.000000</td>\n",
              "      <td>0.250000</td>\n",
              "      <td>4</td>\n",
              "      <td>0</td>\n",
              "      <td>7000.0</td>\n",
              "      <td>4103.032597</td>\n",
              "      <td>1072.340217</td>\n",
              "      <td>0.222222</td>\n",
              "      <td>12</td>\n",
              "    </tr>\n",
              "    <tr>\n",
              "      <th>2</th>\n",
              "      <td>C10003</td>\n",
              "      <td>2495.148862</td>\n",
              "      <td>1.000000</td>\n",
              "      <td>773.17</td>\n",
              "      <td>773.17</td>\n",
              "      <td>0.0</td>\n",
              "      <td>0.000000</td>\n",
              "      <td>1.000000</td>\n",
              "      <td>1.000000</td>\n",
              "      <td>0.000000</td>\n",
              "      <td>0.000000</td>\n",
              "      <td>0</td>\n",
              "      <td>12</td>\n",
              "      <td>7500.0</td>\n",
              "      <td>622.066742</td>\n",
              "      <td>627.284787</td>\n",
              "      <td>0.000000</td>\n",
              "      <td>12</td>\n",
              "    </tr>\n",
              "    <tr>\n",
              "      <th>3</th>\n",
              "      <td>C10004</td>\n",
              "      <td>1666.670542</td>\n",
              "      <td>0.636364</td>\n",
              "      <td>1499.00</td>\n",
              "      <td>1499.00</td>\n",
              "      <td>0.0</td>\n",
              "      <td>205.788017</td>\n",
              "      <td>0.083333</td>\n",
              "      <td>0.083333</td>\n",
              "      <td>0.000000</td>\n",
              "      <td>0.083333</td>\n",
              "      <td>1</td>\n",
              "      <td>1</td>\n",
              "      <td>7500.0</td>\n",
              "      <td>0.000000</td>\n",
              "      <td>NaN</td>\n",
              "      <td>0.000000</td>\n",
              "      <td>12</td>\n",
              "    </tr>\n",
              "    <tr>\n",
              "      <th>4</th>\n",
              "      <td>C10005</td>\n",
              "      <td>817.714335</td>\n",
              "      <td>1.000000</td>\n",
              "      <td>16.00</td>\n",
              "      <td>16.00</td>\n",
              "      <td>0.0</td>\n",
              "      <td>0.000000</td>\n",
              "      <td>0.083333</td>\n",
              "      <td>0.083333</td>\n",
              "      <td>0.000000</td>\n",
              "      <td>0.000000</td>\n",
              "      <td>0</td>\n",
              "      <td>1</td>\n",
              "      <td>1200.0</td>\n",
              "      <td>678.334763</td>\n",
              "      <td>244.791237</td>\n",
              "      <td>0.000000</td>\n",
              "      <td>12</td>\n",
              "    </tr>\n",
              "  </tbody>\n",
              "</table>\n",
              "</div>"
            ],
            "text/plain": [
              "  CUST_ID      BALANCE  ...  PRC_FULL_PAYMENT  TENURE\n",
              "0  C10001    40.900749  ...          0.000000      12\n",
              "1  C10002  3202.467416  ...          0.222222      12\n",
              "2  C10003  2495.148862  ...          0.000000      12\n",
              "3  C10004  1666.670542  ...          0.000000      12\n",
              "4  C10005   817.714335  ...          0.000000      12\n",
              "\n",
              "[5 rows x 18 columns]"
            ]
          },
          "metadata": {
            "tags": []
          },
          "execution_count": 2
        }
      ]
    },
    {
      "cell_type": "markdown",
      "metadata": {
        "id": "oo7M47oQiMne"
      },
      "source": [
        "Note que apenas com esse comando, conseguimos ter uma visão geral do nosso dataset, identificando nossas variáveis (colunas) e nossas entradas (linhas) e assim já conseguindo obter alguns insights de como proceder com esse dataset.\n",
        "\n",
        "* Verificar os tipos das variáveis e tamanho do dataset"
      ]
    },
    {
      "cell_type": "code",
      "metadata": {
        "colab": {
          "base_uri": "https://localhost:8080/"
        },
        "id": "jF2KJ3M5iDTW",
        "outputId": "8ee777df-b7ec-43ad-c00c-d10aba878f32"
      },
      "source": [
        "df.info()"
      ],
      "execution_count": null,
      "outputs": [
        {
          "output_type": "stream",
          "text": [
            "<class 'pandas.core.frame.DataFrame'>\n",
            "RangeIndex: 8950 entries, 0 to 8949\n",
            "Data columns (total 18 columns):\n",
            " #   Column                            Non-Null Count  Dtype  \n",
            "---  ------                            --------------  -----  \n",
            " 0   CUST_ID                           8950 non-null   object \n",
            " 1   BALANCE                           8950 non-null   float64\n",
            " 2   BALANCE_FREQUENCY                 8950 non-null   float64\n",
            " 3   PURCHASES                         8950 non-null   float64\n",
            " 4   ONEOFF_PURCHASES                  8950 non-null   float64\n",
            " 5   INSTALLMENTS_PURCHASES            8950 non-null   float64\n",
            " 6   CASH_ADVANCE                      8950 non-null   float64\n",
            " 7   PURCHASES_FREQUENCY               8950 non-null   float64\n",
            " 8   ONEOFF_PURCHASES_FREQUENCY        8950 non-null   float64\n",
            " 9   PURCHASES_INSTALLMENTS_FREQUENCY  8950 non-null   float64\n",
            " 10  CASH_ADVANCE_FREQUENCY            8950 non-null   float64\n",
            " 11  CASH_ADVANCE_TRX                  8950 non-null   int64  \n",
            " 12  PURCHASES_TRX                     8950 non-null   int64  \n",
            " 13  CREDIT_LIMIT                      8949 non-null   float64\n",
            " 14  PAYMENTS                          8950 non-null   float64\n",
            " 15  MINIMUM_PAYMENTS                  8637 non-null   float64\n",
            " 16  PRC_FULL_PAYMENT                  8950 non-null   float64\n",
            " 17  TENURE                            8950 non-null   int64  \n",
            "dtypes: float64(14), int64(3), object(1)\n",
            "memory usage: 1.2+ MB\n"
          ],
          "name": "stdout"
        }
      ]
    },
    {
      "cell_type": "markdown",
      "metadata": {
        "id": "P4N4i7l3ld01"
      },
      "source": [
        "Esse dataset é composto por 18 variáveis e 8950 entradas.\n",
        "Com exceção do ID do cliente, o restante das variáveis são todas numéricas.\n",
        "\n",
        "* Verificar o resumo estatístico do dataframe"
      ]
    },
    {
      "cell_type": "code",
      "metadata": {
        "colab": {
          "base_uri": "https://localhost:8080/",
          "height": 317
        },
        "id": "Opqmsj3Hie5i",
        "outputId": "d17b25b1-0aef-4e17-8b28-178eb096e6b7"
      },
      "source": [
        "df.describe()"
      ],
      "execution_count": null,
      "outputs": [
        {
          "output_type": "execute_result",
          "data": {
            "text/html": [
              "<div>\n",
              "<style scoped>\n",
              "    .dataframe tbody tr th:only-of-type {\n",
              "        vertical-align: middle;\n",
              "    }\n",
              "\n",
              "    .dataframe tbody tr th {\n",
              "        vertical-align: top;\n",
              "    }\n",
              "\n",
              "    .dataframe thead th {\n",
              "        text-align: right;\n",
              "    }\n",
              "</style>\n",
              "<table border=\"1\" class=\"dataframe\">\n",
              "  <thead>\n",
              "    <tr style=\"text-align: right;\">\n",
              "      <th></th>\n",
              "      <th>BALANCE</th>\n",
              "      <th>BALANCE_FREQUENCY</th>\n",
              "      <th>PURCHASES</th>\n",
              "      <th>ONEOFF_PURCHASES</th>\n",
              "      <th>INSTALLMENTS_PURCHASES</th>\n",
              "      <th>CASH_ADVANCE</th>\n",
              "      <th>PURCHASES_FREQUENCY</th>\n",
              "      <th>ONEOFF_PURCHASES_FREQUENCY</th>\n",
              "      <th>PURCHASES_INSTALLMENTS_FREQUENCY</th>\n",
              "      <th>CASH_ADVANCE_FREQUENCY</th>\n",
              "      <th>CASH_ADVANCE_TRX</th>\n",
              "      <th>PURCHASES_TRX</th>\n",
              "      <th>CREDIT_LIMIT</th>\n",
              "      <th>PAYMENTS</th>\n",
              "      <th>MINIMUM_PAYMENTS</th>\n",
              "      <th>PRC_FULL_PAYMENT</th>\n",
              "      <th>TENURE</th>\n",
              "    </tr>\n",
              "  </thead>\n",
              "  <tbody>\n",
              "    <tr>\n",
              "      <th>count</th>\n",
              "      <td>8950.000000</td>\n",
              "      <td>8950.000000</td>\n",
              "      <td>8950.000000</td>\n",
              "      <td>8950.000000</td>\n",
              "      <td>8950.000000</td>\n",
              "      <td>8950.000000</td>\n",
              "      <td>8950.000000</td>\n",
              "      <td>8950.000000</td>\n",
              "      <td>8950.000000</td>\n",
              "      <td>8950.000000</td>\n",
              "      <td>8950.000000</td>\n",
              "      <td>8950.000000</td>\n",
              "      <td>8949.000000</td>\n",
              "      <td>8950.000000</td>\n",
              "      <td>8637.000000</td>\n",
              "      <td>8950.000000</td>\n",
              "      <td>8950.000000</td>\n",
              "    </tr>\n",
              "    <tr>\n",
              "      <th>mean</th>\n",
              "      <td>1564.474828</td>\n",
              "      <td>0.877271</td>\n",
              "      <td>1003.204834</td>\n",
              "      <td>592.437371</td>\n",
              "      <td>411.067645</td>\n",
              "      <td>978.871112</td>\n",
              "      <td>0.490351</td>\n",
              "      <td>0.202458</td>\n",
              "      <td>0.364437</td>\n",
              "      <td>0.135144</td>\n",
              "      <td>3.248827</td>\n",
              "      <td>14.709832</td>\n",
              "      <td>4494.449450</td>\n",
              "      <td>1733.143852</td>\n",
              "      <td>864.206542</td>\n",
              "      <td>0.153715</td>\n",
              "      <td>11.517318</td>\n",
              "    </tr>\n",
              "    <tr>\n",
              "      <th>std</th>\n",
              "      <td>2081.531879</td>\n",
              "      <td>0.236904</td>\n",
              "      <td>2136.634782</td>\n",
              "      <td>1659.887917</td>\n",
              "      <td>904.338115</td>\n",
              "      <td>2097.163877</td>\n",
              "      <td>0.401371</td>\n",
              "      <td>0.298336</td>\n",
              "      <td>0.397448</td>\n",
              "      <td>0.200121</td>\n",
              "      <td>6.824647</td>\n",
              "      <td>24.857649</td>\n",
              "      <td>3638.815725</td>\n",
              "      <td>2895.063757</td>\n",
              "      <td>2372.446607</td>\n",
              "      <td>0.292499</td>\n",
              "      <td>1.338331</td>\n",
              "    </tr>\n",
              "    <tr>\n",
              "      <th>min</th>\n",
              "      <td>0.000000</td>\n",
              "      <td>0.000000</td>\n",
              "      <td>0.000000</td>\n",
              "      <td>0.000000</td>\n",
              "      <td>0.000000</td>\n",
              "      <td>0.000000</td>\n",
              "      <td>0.000000</td>\n",
              "      <td>0.000000</td>\n",
              "      <td>0.000000</td>\n",
              "      <td>0.000000</td>\n",
              "      <td>0.000000</td>\n",
              "      <td>0.000000</td>\n",
              "      <td>50.000000</td>\n",
              "      <td>0.000000</td>\n",
              "      <td>0.019163</td>\n",
              "      <td>0.000000</td>\n",
              "      <td>6.000000</td>\n",
              "    </tr>\n",
              "    <tr>\n",
              "      <th>25%</th>\n",
              "      <td>128.281915</td>\n",
              "      <td>0.888889</td>\n",
              "      <td>39.635000</td>\n",
              "      <td>0.000000</td>\n",
              "      <td>0.000000</td>\n",
              "      <td>0.000000</td>\n",
              "      <td>0.083333</td>\n",
              "      <td>0.000000</td>\n",
              "      <td>0.000000</td>\n",
              "      <td>0.000000</td>\n",
              "      <td>0.000000</td>\n",
              "      <td>1.000000</td>\n",
              "      <td>1600.000000</td>\n",
              "      <td>383.276166</td>\n",
              "      <td>169.123707</td>\n",
              "      <td>0.000000</td>\n",
              "      <td>12.000000</td>\n",
              "    </tr>\n",
              "    <tr>\n",
              "      <th>50%</th>\n",
              "      <td>873.385231</td>\n",
              "      <td>1.000000</td>\n",
              "      <td>361.280000</td>\n",
              "      <td>38.000000</td>\n",
              "      <td>89.000000</td>\n",
              "      <td>0.000000</td>\n",
              "      <td>0.500000</td>\n",
              "      <td>0.083333</td>\n",
              "      <td>0.166667</td>\n",
              "      <td>0.000000</td>\n",
              "      <td>0.000000</td>\n",
              "      <td>7.000000</td>\n",
              "      <td>3000.000000</td>\n",
              "      <td>856.901546</td>\n",
              "      <td>312.343947</td>\n",
              "      <td>0.000000</td>\n",
              "      <td>12.000000</td>\n",
              "    </tr>\n",
              "    <tr>\n",
              "      <th>75%</th>\n",
              "      <td>2054.140036</td>\n",
              "      <td>1.000000</td>\n",
              "      <td>1110.130000</td>\n",
              "      <td>577.405000</td>\n",
              "      <td>468.637500</td>\n",
              "      <td>1113.821139</td>\n",
              "      <td>0.916667</td>\n",
              "      <td>0.300000</td>\n",
              "      <td>0.750000</td>\n",
              "      <td>0.222222</td>\n",
              "      <td>4.000000</td>\n",
              "      <td>17.000000</td>\n",
              "      <td>6500.000000</td>\n",
              "      <td>1901.134317</td>\n",
              "      <td>825.485459</td>\n",
              "      <td>0.142857</td>\n",
              "      <td>12.000000</td>\n",
              "    </tr>\n",
              "    <tr>\n",
              "      <th>max</th>\n",
              "      <td>19043.138560</td>\n",
              "      <td>1.000000</td>\n",
              "      <td>49039.570000</td>\n",
              "      <td>40761.250000</td>\n",
              "      <td>22500.000000</td>\n",
              "      <td>47137.211760</td>\n",
              "      <td>1.000000</td>\n",
              "      <td>1.000000</td>\n",
              "      <td>1.000000</td>\n",
              "      <td>1.500000</td>\n",
              "      <td>123.000000</td>\n",
              "      <td>358.000000</td>\n",
              "      <td>30000.000000</td>\n",
              "      <td>50721.483360</td>\n",
              "      <td>76406.207520</td>\n",
              "      <td>1.000000</td>\n",
              "      <td>12.000000</td>\n",
              "    </tr>\n",
              "  </tbody>\n",
              "</table>\n",
              "</div>"
            ],
            "text/plain": [
              "            BALANCE  BALANCE_FREQUENCY  ...  PRC_FULL_PAYMENT       TENURE\n",
              "count   8950.000000        8950.000000  ...       8950.000000  8950.000000\n",
              "mean    1564.474828           0.877271  ...          0.153715    11.517318\n",
              "std     2081.531879           0.236904  ...          0.292499     1.338331\n",
              "min        0.000000           0.000000  ...          0.000000     6.000000\n",
              "25%      128.281915           0.888889  ...          0.000000    12.000000\n",
              "50%      873.385231           1.000000  ...          0.000000    12.000000\n",
              "75%     2054.140036           1.000000  ...          0.142857    12.000000\n",
              "max    19043.138560           1.000000  ...          1.000000    12.000000\n",
              "\n",
              "[8 rows x 17 columns]"
            ]
          },
          "metadata": {
            "tags": []
          },
          "execution_count": 4
        }
      ]
    },
    {
      "cell_type": "markdown",
      "metadata": {
        "id": "F6_WB34zmgNM"
      },
      "source": [
        "Com esse método, conseguimos um resumo estatístico completo com as quantidades, média, desvio padrão, os quartis e valores máximos.\n",
        "\n",
        "É muito importante termos essa visão estatística dos nossos dados para identificarmos possíveis outliers e analisar se as quantidades apresentadas fazem sentido no problema em questão.\n",
        "\n",
        "* Verificar a porcentagem de valores ausentes nas colunas"
      ]
    },
    {
      "cell_type": "code",
      "metadata": {
        "colab": {
          "base_uri": "https://localhost:8080/"
        },
        "id": "-lDX0QvJmGns",
        "outputId": "a735c656-77f2-44e7-b420-2d7209d4c776"
      },
      "source": [
        "# Porcentagem de valores ausentes\n",
        "df.isnull().sum() / df.shape[0]"
      ],
      "execution_count": null,
      "outputs": [
        {
          "output_type": "execute_result",
          "data": {
            "text/plain": [
              "CUST_ID                             0.000000\n",
              "BALANCE                             0.000000\n",
              "BALANCE_FREQUENCY                   0.000000\n",
              "PURCHASES                           0.000000\n",
              "ONEOFF_PURCHASES                    0.000000\n",
              "INSTALLMENTS_PURCHASES              0.000000\n",
              "CASH_ADVANCE                        0.000000\n",
              "PURCHASES_FREQUENCY                 0.000000\n",
              "ONEOFF_PURCHASES_FREQUENCY          0.000000\n",
              "PURCHASES_INSTALLMENTS_FREQUENCY    0.000000\n",
              "CASH_ADVANCE_FREQUENCY              0.000000\n",
              "CASH_ADVANCE_TRX                    0.000000\n",
              "PURCHASES_TRX                       0.000000\n",
              "CREDIT_LIMIT                        0.000112\n",
              "PAYMENTS                            0.000000\n",
              "MINIMUM_PAYMENTS                    0.034972\n",
              "PRC_FULL_PAYMENT                    0.000000\n",
              "TENURE                              0.000000\n",
              "dtype: float64"
            ]
          },
          "metadata": {
            "tags": []
          },
          "execution_count": 5
        }
      ]
    },
    {
      "cell_type": "markdown",
      "metadata": {
        "id": "MXTvCD1_nH7k"
      },
      "source": [
        "Esse dataset está bem completo, ou seja, ele possui poucos valores ausentes. Apenas duas variáveis, como podemos ver, possuem uma quantidade muito pequena de valores ausentes.\n",
        "\n",
        "**Na próxima etapa do projeto, que é uma etapa de preparação e limpeza dos dados iremos tratar esses valores ausentes.**"
      ]
    },
    {
      "cell_type": "markdown",
      "metadata": {
        "id": "0bpHTMNbq1ZL"
      },
      "source": [
        "## Preparação e limpeza dos dados\n",
        "\n",
        "Nesta segunda etapa do projeto, iremos fazer um trabalho muito importante que é manipular os dados para que eles fiquem na sua melhor forma possível, para finalmente, na próxima etapa, modelarmos o algoritmo de machine learning, para que o mesmo apresente um melhor desempenho.\n",
        "\n",
        "**Para tornar essa etapa mais didática, também vou dividi-la em tópicos, e detalhar cada etapa, como fizemos na análise exploratória.**\n",
        "\n",
        "* Criar uma cópia do dataframe\n",
        "\n"
      ]
    },
    {
      "cell_type": "code",
      "metadata": {
        "id": "ldAGialEx98N"
      },
      "source": [
        "# Criar uma cópia do dataframe\n",
        "df_clean = df.copy()"
      ],
      "execution_count": null,
      "outputs": []
    },
    {
      "cell_type": "markdown",
      "metadata": {
        "id": "5p6jttrPyDW8"
      },
      "source": [
        "* Eliminar as colunas que não irão ter utilidade para nosso modelo"
      ]
    },
    {
      "cell_type": "code",
      "metadata": {
        "colab": {
          "base_uri": "https://localhost:8080/",
          "height": 224
        },
        "id": "PJA9Oq5RyKpM",
        "outputId": "647302f3-8910-4aa2-cb66-6deec1df92fa"
      },
      "source": [
        "# Eliminar colunas que não contém informações úteis para o modelo\n",
        "df_clean = df_clean.drop([\"CUST_ID\" , \"TENURE\"], axis = 1)\n",
        "df_clean.head()"
      ],
      "execution_count": null,
      "outputs": [
        {
          "output_type": "execute_result",
          "data": {
            "text/html": [
              "<div>\n",
              "<style scoped>\n",
              "    .dataframe tbody tr th:only-of-type {\n",
              "        vertical-align: middle;\n",
              "    }\n",
              "\n",
              "    .dataframe tbody tr th {\n",
              "        vertical-align: top;\n",
              "    }\n",
              "\n",
              "    .dataframe thead th {\n",
              "        text-align: right;\n",
              "    }\n",
              "</style>\n",
              "<table border=\"1\" class=\"dataframe\">\n",
              "  <thead>\n",
              "    <tr style=\"text-align: right;\">\n",
              "      <th></th>\n",
              "      <th>BALANCE</th>\n",
              "      <th>BALANCE_FREQUENCY</th>\n",
              "      <th>PURCHASES</th>\n",
              "      <th>ONEOFF_PURCHASES</th>\n",
              "      <th>INSTALLMENTS_PURCHASES</th>\n",
              "      <th>CASH_ADVANCE</th>\n",
              "      <th>PURCHASES_FREQUENCY</th>\n",
              "      <th>ONEOFF_PURCHASES_FREQUENCY</th>\n",
              "      <th>PURCHASES_INSTALLMENTS_FREQUENCY</th>\n",
              "      <th>CASH_ADVANCE_FREQUENCY</th>\n",
              "      <th>CASH_ADVANCE_TRX</th>\n",
              "      <th>PURCHASES_TRX</th>\n",
              "      <th>CREDIT_LIMIT</th>\n",
              "      <th>PAYMENTS</th>\n",
              "      <th>MINIMUM_PAYMENTS</th>\n",
              "      <th>PRC_FULL_PAYMENT</th>\n",
              "    </tr>\n",
              "  </thead>\n",
              "  <tbody>\n",
              "    <tr>\n",
              "      <th>0</th>\n",
              "      <td>40.900749</td>\n",
              "      <td>0.818182</td>\n",
              "      <td>95.40</td>\n",
              "      <td>0.00</td>\n",
              "      <td>95.4</td>\n",
              "      <td>0.000000</td>\n",
              "      <td>0.166667</td>\n",
              "      <td>0.000000</td>\n",
              "      <td>0.083333</td>\n",
              "      <td>0.000000</td>\n",
              "      <td>0</td>\n",
              "      <td>2</td>\n",
              "      <td>1000.0</td>\n",
              "      <td>201.802084</td>\n",
              "      <td>139.509787</td>\n",
              "      <td>0.000000</td>\n",
              "    </tr>\n",
              "    <tr>\n",
              "      <th>1</th>\n",
              "      <td>3202.467416</td>\n",
              "      <td>0.909091</td>\n",
              "      <td>0.00</td>\n",
              "      <td>0.00</td>\n",
              "      <td>0.0</td>\n",
              "      <td>6442.945483</td>\n",
              "      <td>0.000000</td>\n",
              "      <td>0.000000</td>\n",
              "      <td>0.000000</td>\n",
              "      <td>0.250000</td>\n",
              "      <td>4</td>\n",
              "      <td>0</td>\n",
              "      <td>7000.0</td>\n",
              "      <td>4103.032597</td>\n",
              "      <td>1072.340217</td>\n",
              "      <td>0.222222</td>\n",
              "    </tr>\n",
              "    <tr>\n",
              "      <th>2</th>\n",
              "      <td>2495.148862</td>\n",
              "      <td>1.000000</td>\n",
              "      <td>773.17</td>\n",
              "      <td>773.17</td>\n",
              "      <td>0.0</td>\n",
              "      <td>0.000000</td>\n",
              "      <td>1.000000</td>\n",
              "      <td>1.000000</td>\n",
              "      <td>0.000000</td>\n",
              "      <td>0.000000</td>\n",
              "      <td>0</td>\n",
              "      <td>12</td>\n",
              "      <td>7500.0</td>\n",
              "      <td>622.066742</td>\n",
              "      <td>627.284787</td>\n",
              "      <td>0.000000</td>\n",
              "    </tr>\n",
              "    <tr>\n",
              "      <th>3</th>\n",
              "      <td>1666.670542</td>\n",
              "      <td>0.636364</td>\n",
              "      <td>1499.00</td>\n",
              "      <td>1499.00</td>\n",
              "      <td>0.0</td>\n",
              "      <td>205.788017</td>\n",
              "      <td>0.083333</td>\n",
              "      <td>0.083333</td>\n",
              "      <td>0.000000</td>\n",
              "      <td>0.083333</td>\n",
              "      <td>1</td>\n",
              "      <td>1</td>\n",
              "      <td>7500.0</td>\n",
              "      <td>0.000000</td>\n",
              "      <td>NaN</td>\n",
              "      <td>0.000000</td>\n",
              "    </tr>\n",
              "    <tr>\n",
              "      <th>4</th>\n",
              "      <td>817.714335</td>\n",
              "      <td>1.000000</td>\n",
              "      <td>16.00</td>\n",
              "      <td>16.00</td>\n",
              "      <td>0.0</td>\n",
              "      <td>0.000000</td>\n",
              "      <td>0.083333</td>\n",
              "      <td>0.083333</td>\n",
              "      <td>0.000000</td>\n",
              "      <td>0.000000</td>\n",
              "      <td>0</td>\n",
              "      <td>1</td>\n",
              "      <td>1200.0</td>\n",
              "      <td>678.334763</td>\n",
              "      <td>244.791237</td>\n",
              "      <td>0.000000</td>\n",
              "    </tr>\n",
              "  </tbody>\n",
              "</table>\n",
              "</div>"
            ],
            "text/plain": [
              "       BALANCE  BALANCE_FREQUENCY  ...  MINIMUM_PAYMENTS  PRC_FULL_PAYMENT\n",
              "0    40.900749           0.818182  ...        139.509787          0.000000\n",
              "1  3202.467416           0.909091  ...       1072.340217          0.222222\n",
              "2  2495.148862           1.000000  ...        627.284787          0.000000\n",
              "3  1666.670542           0.636364  ...               NaN          0.000000\n",
              "4   817.714335           1.000000  ...        244.791237          0.000000\n",
              "\n",
              "[5 rows x 16 columns]"
            ]
          },
          "metadata": {
            "tags": []
          },
          "execution_count": 7
        }
      ]
    },
    {
      "cell_type": "markdown",
      "metadata": {
        "id": "urzUWxWvyUHN"
      },
      "source": [
        "As colunas 'CUST_ID' E 'TENURE', não possuem informações relevantes para o nosso problema em questão, visto que, a variável 'CUST_ID' é apenas uma identificação do cliente e a variável 'TENURE' representa quanto tempo o usuário ficou com a posse do cartão. Nesse caso, vamos removê-las.\n",
        "\n",
        "* Substituindo os valores ausentes pela mediana"
      ]
    },
    {
      "cell_type": "code",
      "metadata": {
        "colab": {
          "base_uri": "https://localhost:8080/"
        },
        "id": "b1JubljYzq4r",
        "outputId": "78ddea4d-864a-4017-cb37-3a7c59ea023b"
      },
      "source": [
        "# Substituindo os valores ausentes pela mediana\n",
        "df_clean.fillna(df_clean.median(), inplace=True)\n",
        "df_clean.isnull().sum() / df_clean.shape[0]"
      ],
      "execution_count": null,
      "outputs": [
        {
          "output_type": "execute_result",
          "data": {
            "text/plain": [
              "BALANCE                             0.0\n",
              "BALANCE_FREQUENCY                   0.0\n",
              "PURCHASES                           0.0\n",
              "ONEOFF_PURCHASES                    0.0\n",
              "INSTALLMENTS_PURCHASES              0.0\n",
              "CASH_ADVANCE                        0.0\n",
              "PURCHASES_FREQUENCY                 0.0\n",
              "ONEOFF_PURCHASES_FREQUENCY          0.0\n",
              "PURCHASES_INSTALLMENTS_FREQUENCY    0.0\n",
              "CASH_ADVANCE_FREQUENCY              0.0\n",
              "CASH_ADVANCE_TRX                    0.0\n",
              "PURCHASES_TRX                       0.0\n",
              "CREDIT_LIMIT                        0.0\n",
              "PAYMENTS                            0.0\n",
              "MINIMUM_PAYMENTS                    0.0\n",
              "PRC_FULL_PAYMENT                    0.0\n",
              "dtype: float64"
            ]
          },
          "metadata": {
            "tags": []
          },
          "execution_count": 8
        }
      ]
    },
    {
      "cell_type": "markdown",
      "metadata": {
        "id": "te3e3GtV3i8i"
      },
      "source": [
        "Os valores ausentes foram preenchidos pela mediana de seus respectivos valores. Optei pela mediana, pois, como vimos na análise exploratória, a maioria dos valores se encontra mais ou menos no intervalo da mediana. Se optássemos pela média, esses valores ficariam mais distorcidos da realidade.\n",
        "\n",
        "Agora todo o nosso dataframe está completo sem nenhum valor ausente. Vamos em frente!\n",
        "\n",
        "* Padronização dos dados\n",
        "\n"
      ]
    },
    {
      "cell_type": "code",
      "metadata": {
        "id": "38zkKQLW4QK5",
        "colab": {
          "base_uri": "https://localhost:8080/"
        },
        "outputId": "6d48498d-1ecf-47ab-a06f-7d2c1bed5b98"
      },
      "source": [
        "from sklearn.preprocessing import StandardScaler\n",
        "from sklearn import preprocessing\n",
        "scaler = preprocessing.StandardScaler().fit(df_clean)\n",
        "df_clean_scaled = scaler.transform(df_clean)\n",
        "print(df_clean_scaled)"
      ],
      "execution_count": null,
      "outputs": [
        {
          "output_type": "stream",
          "text": [
            "[[-0.73198937 -0.24943448 -0.42489974 ... -0.52897879 -0.3024\n",
            "  -0.52555097]\n",
            " [ 0.78696085  0.13432467 -0.46955188 ...  0.81864213  0.09749953\n",
            "   0.2342269 ]\n",
            " [ 0.44713513  0.51808382 -0.10766823 ... -0.38380474 -0.0932934\n",
            "  -0.52555097]\n",
            " ...\n",
            " [-0.7403981  -0.18547673 -0.40196519 ... -0.5706145  -0.32687479\n",
            "   0.32919999]\n",
            " [-0.74517423 -0.18547673 -0.46955188 ... -0.58053567 -0.33830497\n",
            "   0.32919999]\n",
            " [-0.57257511 -0.88903307  0.04214581 ... -0.57686873 -0.3243581\n",
            "  -0.52555097]]\n"
          ],
          "name": "stdout"
        }
      ]
    },
    {
      "cell_type": "markdown",
      "metadata": {
        "id": "Uq3Rl4F64XHI"
      },
      "source": [
        "Padronização é quando as features sofrem uma mudança de escala, e passa a ter as propriedades de uma distribuição normal com média $\\mu = 0$ e desvio padrão $\\sigma = 1$.\n",
        "\n",
        "Na padronização, os z-scores são calculados da seguinte maneira:\n",
        "\n",
        "$$\n",
        "z = \\frac{x - \\mu}{\\sigma}\n",
        "$$\n",
        "\n",
        "**A padronização é essencial na análise de clusters, uma vez que se compara a similaridade das features por meio das distâncias**. Note que na análise exploratória, vimos que cada uma das nossas features possuíam valores e escalas distintas, por esse motivo aplicamos a padronização, para as mesmas ficarem em uma mesma escala e não prejudicarem o desempenho do nosso modelo. "
      ]
    },
    {
      "cell_type": "markdown",
      "metadata": {
        "id": "CjTQufSE5dmY"
      },
      "source": [
        "## Modelo de clustering\n",
        "\n",
        "Finalizada a parte de limpeza e preparação dos dados, vamos agora executar o nosso algoritmo de cluster. Inicialmente vamos começar com um algoritmo muito utilizado que é o [KMeans](https://scikit-learn.org/stable/modules/generated/sklearn.cluster.KMeans.html?highlight=kmeans#sklearn.cluster.KMeans). \n",
        "\n",
        "Vou começar tentando encontrar um número ótimo de clusters, o 'n_clusters', que é o número de clusters a serem formados, bem como o número de centroides a serem gerados, vou começar criando um loop para o algoritmo testar vários números de clusters e validar com o método do cotovelo."
      ]
    },
    {
      "cell_type": "code",
      "metadata": {
        "id": "vdejqMzz5kp4",
        "colab": {
          "base_uri": "https://localhost:8080/",
          "height": 279
        },
        "outputId": "65f51724-a628-493c-cffb-ac0d5b531242"
      },
      "source": [
        "from sklearn.cluster import KMeans\n",
        "\n",
        "sse = {}\n",
        "for k in range(2, 10):\n",
        "    kmeans = KMeans(n_clusters=k, max_iter=1000).fit(df_clean_scaled)\n",
        "    sse[k] = kmeans.inertia_ # Inertia: Soma das distâncias das amostras até o centro do cluster mais próximo\n",
        "plt.figure()\n",
        "plt.plot(list(sse.keys()), list(sse.values()))\n",
        "plt.xlabel(\"Number of cluster\")\n",
        "plt.ylabel(\"SSE\")\n",
        "plt.show()"
      ],
      "execution_count": null,
      "outputs": [
        {
          "output_type": "display_data",
          "data": {
            "image/png": "[encoded data removed]",
            "text/plain": [
              "<Figure size 432x288 with 1 Axes>"
            ]
          },
          "metadata": {
            "tags": [],
            "needs_background": "light"
          }
        }
      ]
    },
    {
      "cell_type": "markdown",
      "metadata": {
        "id": "ufT9IBuNQLGx"
      },
      "source": [
        "O que fizemos aqui foi rodar o KMeans diversas vezes, para vários números diferentes de clusters (Nesse caso foi de 2 a 10), e dizer qual dessas quantidades foi o número ótimo de clusters.\n",
        "\n",
        "O que geralmente acontece ao aumentar a quantidade de clusters no KMeans é que as diferenças entre clusters se tornam muito pequenas, e as diferenças das observações intra-clusters vão aumentando. Então é preciso achar um equilíbrio em que as observações que formam cada agrupamento sejam o mais homogêneas possíveis e que os agrupamentos formados sejam o mais diferentes um dos outros.\n",
        "\n",
        "Mas como saber qual é esse ponto onde atingimos o número ótimo de clusters, de acordo com esse gráfico acima, por exemplo?\n",
        "\n",
        "Vamos utilizar uma outra métrica de desempenho para nos ajudar nessa tarefa!"
      ]
    },
    {
      "cell_type": "markdown",
      "metadata": {
        "id": "fn_oxdyoBgHb"
      },
      "source": [
        "##  Outros critérios de validação\n",
        "\n",
        "Conforme sabemos, um modelo de machine learning deve ser quantificável, seja em termos de desempenho ou precisão.\n",
        "\n",
        "Avaliar o desempenho de um algoritmo de agrupamento não é tão trivial quanto contar o número de erros ou a precisão e recuperação de um algoritmo de classificação supervisionado. Em particular, qualquer métrica de avaliação não deve levar em consideração os valores absolutos dos rótulos do cluster, mas sim se esse cluster definir separações dos dados analisados. Essas separações devem satisfazer a algum conjunto de classes verdadeiras ou alguma suposição de modo que os membros pertençam à mesma classe de acordo com alguma métrica de similaridade.\n",
        "\n",
        "No caso de modelos de clusterização, podemos testar o desempenho do modelo utilizando as seguintes métricas:\n",
        "\n",
        "* Coeficiente de silhueta;\n",
        "* Pontuação do davies bouldin;\n",
        "* Pontuação do Calinski;\n",
        "\n",
        "**Neste trabalho irei trabalhar apenas com o coeficiente de silhueta (além do método do cotovelo) para verificar o desempenho do nosso cluster.**"
      ]
    },
    {
      "cell_type": "markdown",
      "metadata": {
        "id": "kYNhkq9pCoz0"
      },
      "source": [
        "### Coeficiente de silhueta\n",
        "\n",
        "O Coeficiente silhueta é calculado usando a distância média dentro do cluster (a) e a distância média do cluster mais próximo (b) para cada amostra.\n",
        "\n",
        "Para esclarecer, é a distância entre uma amostra e o cluster mais próximo do qual a amostra não faz parte. \n",
        "\n",
        "Matematicamente, o coeficiente de silhueta é definido da seguinte forma:\n",
        "\n",
        "$$\n",
        "s = \\frac{b - a}{max(a,b)}\n",
        "$$\n",
        "\n",
        "O melhor valor é 1 e o pior valor é -1. Valores próximos a 0 indicam clusters sobrepostos. Valores negativos geralmente indicam que uma amostra foi atribuída ao cluster errado, pois um cluster diferente é \"mais semelhante\".\n",
        "\n"
      ]
    },
    {
      "cell_type": "code",
      "metadata": {
        "id": "ESbaZehsFEYl",
        "colab": {
          "base_uri": "https://localhost:8080/",
          "height": 279
        },
        "outputId": "3458d4aa-69c3-47d1-a290-ae694179b8d7"
      },
      "source": [
        "from sklearn import metrics\n",
        "from sklearn.metrics import silhouette_score\n",
        "\n",
        "# Avaliando o modelo pelo coeficiente de silhueta\n",
        "silhouette_scores = [] \n",
        "\n",
        "for n_cluster in range(2, 10):\n",
        "    silhouette_scores.append( \n",
        "      silhouette_score(df_clean_scaled, KMeans(n_clusters = n_cluster).fit_predict(df_clean_scaled))) \n",
        "    \n",
        "# Plotando um gráfico para comparar os resultados \n",
        "k = [2, 3, 4, 5, 6, 7, 8, 9] \n",
        "plt.bar(k, silhouette_scores) \n",
        "plt.xlabel('Number of clusters', fontsize = 10) \n",
        "plt.ylabel('Silhouette Score', fontsize = 10) \n",
        "plt.show() "
      ],
      "execution_count": null,
      "outputs": [
        {
          "output_type": "display_data",
          "data": {
            "image/png": "[encoded data removed]",
            "text/plain": [
              "<Figure size 432x288 with 1 Axes>"
            ]
          },
          "metadata": {
            "tags": [],
            "needs_background": "light"
          }
        }
      ]
    },
    {
      "cell_type": "markdown",
      "metadata": {
        "id": "EatVmLThF3iF"
      },
      "source": [
        "O melhor valor para o número de clusters foi 3. Apesar do valor do coeficiente de silhueta ter dado positivo (por volta de 0,25), ainda está um pouco distante do máximo ideal que seria 1,0. Podemos considerar esse valor bom, pois, foi apenas nosso primeiro teste utilizando o KMeans + standard scaler. \n",
        "\n",
        "Em projetos de machine learning tanto supervisionado quanto não supervisionado, devemos sempre fazer diversos testes com vários modelos de machine learning, vários modelos de pré-processamento e vários hyperparâmetros diferentes. É testando e avaliando que conseguimos melhorar nossos resultados."
      ]
    },
    {
      "cell_type": "markdown",
      "metadata": {
        "id": "jsbSSuiwwl1n"
      },
      "source": [
        "##  Bônus - Teste do KMeans com outros métodos de pré-processamento\n",
        "\n",
        "Conforme falado no tópico anterior, é sempre muito recomendado que se teste os modelos de machine learning de diversas formas diferentes. Vamos testar o KMeans com outras formas de pré-processamento dos dados para conseguir alcançar desempenhos melhores. \n",
        "\n",
        "Já fizemos o algoritmo com a padronização pelo standard scaler. Vou fazer mais três testes, um utilizando o normalizer e outro utilizando o PCA, que um algoritmo de redução de dimensionalidade das variáveis.\n",
        "\n",
        "Vamos lá !"
      ]
    },
    {
      "cell_type": "markdown",
      "metadata": {
        "id": "ibi5wQufYM63"
      },
      "source": [
        "### Teste 1 - KMeans + Normalizer"
      ]
    },
    {
      "cell_type": "code",
      "metadata": {
        "colab": {
          "base_uri": "https://localhost:8080/"
        },
        "id": "2QxwHlXmY6Xf",
        "outputId": "25618cc3-8939-4899-8f6f-6fb1f34ee1e5"
      },
      "source": [
        "from sklearn.preprocessing import Normalizer\n",
        "\n",
        "df_clean_normalized = Normalizer().fit_transform(df_clean)\n",
        "print(df_clean_normalized)"
      ],
      "execution_count": null,
      "outputs": [
        {
          "output_type": "stream",
          "text": [
            "[[3.93555441e-02 7.87271593e-04 9.17958473e-02 ... 1.94178127e-01\n",
            "  1.34239194e-01 0.00000000e+00]\n",
            " [2.93875903e-01 8.34231560e-05 0.00000000e+00 ... 3.76516684e-01\n",
            "  9.84037959e-02 2.03923046e-05]\n",
            " [3.10798149e-01 1.24560965e-04 9.63068011e-02 ... 7.74852335e-02\n",
            "  7.81351982e-02 0.00000000e+00]\n",
            " ...\n",
            " [2.27733092e-02 8.11060955e-04 1.40540698e-01 ... 7.90986945e-02\n",
            "  8.02156174e-02 2.43318384e-04]\n",
            " [2.65257948e-02 1.64255731e-03 0.00000000e+00 ... 1.03579625e-01\n",
            "  1.09898221e-01 4.92767391e-04]\n",
            " [1.86406219e-01 3.33426837e-04 5.46778061e-01 ... 3.15915455e-02\n",
            "  4.41568390e-02 0.00000000e+00]]\n"
          ],
          "name": "stdout"
        }
      ]
    },
    {
      "cell_type": "code",
      "metadata": {
        "colab": {
          "base_uri": "https://localhost:8080/",
          "height": 279
        },
        "id": "Y5WB-4XlaPGu",
        "outputId": "c87e5b1d-2a93-4858-bbf1-b80fc79b0aa6"
      },
      "source": [
        "sse = {}\n",
        "for k in range(2, 10):\n",
        "    kmeans = KMeans(n_clusters=k, max_iter=1000).fit(df_clean_normalized)\n",
        "    sse[k] = kmeans.inertia_ # Inertia: Soma das distâncias das amostras até o centro do cluster mais próximo\n",
        "plt.figure()\n",
        "plt.plot(list(sse.keys()), list(sse.values()))\n",
        "plt.xlabel(\"Number of cluster\")\n",
        "plt.ylabel(\"SSE\")\n",
        "plt.show()"
      ],
      "execution_count": null,
      "outputs": [
        {
          "output_type": "display_data",
          "data": {
            "image/png": "[encoded data removed]",
            "text/plain": [
              "<Figure size 432x288 with 1 Axes>"
            ]
          },
          "metadata": {
            "tags": [],
            "needs_background": "light"
          }
        }
      ]
    },
    {
      "cell_type": "code",
      "metadata": {
        "colab": {
          "base_uri": "https://localhost:8080/",
          "height": 279
        },
        "id": "PlhsthOyaqDu",
        "outputId": "2a5d196b-fd7f-4109-e3d1-01e417988e8e"
      },
      "source": [
        "# Avaliando o modelo pelo coeficiente de silhueta\n",
        "silhouette_scores = [] \n",
        "\n",
        "for n_cluster in range(2, 10):\n",
        "    silhouette_scores.append( \n",
        "      silhouette_score(df_clean_normalized, KMeans(n_clusters = n_cluster).fit_predict(df_clean_normalized))) \n",
        "    \n",
        "# Plotando um gráfico para comparar os resultados \n",
        "k = [2, 3, 4, 5, 6, 7, 8, 9] \n",
        "plt.bar(k, silhouette_scores) \n",
        "plt.xlabel('Number of clusters', fontsize = 10) \n",
        "plt.ylabel('Silhouette Score', fontsize = 10) \n",
        "plt.show() "
      ],
      "execution_count": null,
      "outputs": [
        {
          "output_type": "display_data",
          "data": {
            "image/png": "[encoded data removed]",
            "text/plain": [
              "<Figure size 432x288 with 1 Axes>"
            ]
          },
          "metadata": {
            "tags": [],
            "needs_background": "light"
          }
        }
      ]
    },
    {
      "cell_type": "markdown",
      "metadata": {
        "id": "E8vXv8A_cu69"
      },
      "source": [
        "Note como o teste de várias hipóteses é muito importante. Conseguimos aumentar significativamente o nosso coeficiente de silhueta, agora ele está em aproximadamente 0,35.\n",
        "\n",
        "Vamos para mais um teste!"
      ]
    },
    {
      "cell_type": "markdown",
      "metadata": {
        "id": "9zHyQwGrc6VN"
      },
      "source": [
        "### Teste 2 - KMeans + PCA + StandardScaler\n",
        "\n",
        "O PCA tem que ser utilizado combinado com um algoritmo de padronização/normalização dos dados. Aqui vamos testar utilizando os dois que já havíamos trabalhado."
      ]
    },
    {
      "cell_type": "code",
      "metadata": {
        "colab": {
          "base_uri": "https://localhost:8080/",
          "height": 204
        },
        "id": "FjmgH04Vc-91",
        "outputId": "59c87920-54e6-4d65-bccb-9de6fda35ac6"
      },
      "source": [
        "from sklearn.decomposition import PCA\n",
        "\n",
        "# Reduzindo as dimensões dos dados \n",
        "pca = PCA(n_components = 2) \n",
        "df_clean_pca1 = pca.fit_transform(df_clean_scaled) \n",
        "df_clean_pca1 = pd.DataFrame(df_clean_pca1) \n",
        "df_clean_pca1.columns = ['P1', 'P2'] \n",
        "  \n",
        "df_clean_pca1.head()"
      ],
      "execution_count": null,
      "outputs": [
        {
          "output_type": "execute_result",
          "data": {
            "text/html": [
              "<div>\n",
              "<style scoped>\n",
              "    .dataframe tbody tr th:only-of-type {\n",
              "        vertical-align: middle;\n",
              "    }\n",
              "\n",
              "    .dataframe tbody tr th {\n",
              "        vertical-align: top;\n",
              "    }\n",
              "\n",
              "    .dataframe thead th {\n",
              "        text-align: right;\n",
              "    }\n",
              "</style>\n",
              "<table border=\"1\" class=\"dataframe\">\n",
              "  <thead>\n",
              "    <tr style=\"text-align: right;\">\n",
              "      <th></th>\n",
              "      <th>P1</th>\n",
              "      <th>P2</th>\n",
              "    </tr>\n",
              "  </thead>\n",
              "  <tbody>\n",
              "    <tr>\n",
              "      <th>0</th>\n",
              "      <td>-1.720363</td>\n",
              "      <td>-1.068785</td>\n",
              "    </tr>\n",
              "    <tr>\n",
              "      <th>1</th>\n",
              "      <td>-1.165128</td>\n",
              "      <td>2.511938</td>\n",
              "    </tr>\n",
              "    <tr>\n",
              "      <th>2</th>\n",
              "      <td>0.938101</td>\n",
              "      <td>-0.382674</td>\n",
              "    </tr>\n",
              "    <tr>\n",
              "      <th>3</th>\n",
              "      <td>-0.921951</td>\n",
              "      <td>0.007290</td>\n",
              "    </tr>\n",
              "    <tr>\n",
              "      <th>4</th>\n",
              "      <td>-1.638459</td>\n",
              "      <td>-0.680247</td>\n",
              "    </tr>\n",
              "  </tbody>\n",
              "</table>\n",
              "</div>"
            ],
            "text/plain": [
              "         P1        P2\n",
              "0 -1.720363 -1.068785\n",
              "1 -1.165128  2.511938\n",
              "2  0.938101 -0.382674\n",
              "3 -0.921951  0.007290\n",
              "4 -1.638459 -0.680247"
            ]
          },
          "metadata": {
            "tags": []
          },
          "execution_count": 15
        }
      ]
    },
    {
      "cell_type": "markdown",
      "metadata": {
        "id": "P5ZsqS5UM2sE"
      },
      "source": [
        "Redução das variáveis após a aplicação do PCA."
      ]
    },
    {
      "cell_type": "code",
      "metadata": {
        "colab": {
          "base_uri": "https://localhost:8080/",
          "height": 279
        },
        "id": "YfvGWvXteQa1",
        "outputId": "a34a62ba-ae0d-4955-8e50-4352662c72b7"
      },
      "source": [
        "sse = {}\n",
        "for k in range(2, 10):\n",
        "    kmeans = KMeans(n_clusters=k, max_iter=1000).fit(df_clean_pca1)\n",
        "    sse[k] = kmeans.inertia_ # Inertia: Soma das distâncias das amostras até o centro do cluster mais próximo\n",
        "plt.figure()\n",
        "plt.plot(list(sse.keys()), list(sse.values()))\n",
        "plt.xlabel(\"Number of cluster\")\n",
        "plt.ylabel(\"SSE\")\n",
        "plt.show()"
      ],
      "execution_count": null,
      "outputs": [
        {
          "output_type": "display_data",
          "data": {
            "image/png": "[encoded data removed]",
            "text/plain": [
              "<Figure size 432x288 with 1 Axes>"
            ]
          },
          "metadata": {
            "tags": [],
            "needs_background": "light"
          }
        }
      ]
    },
    {
      "cell_type": "code",
      "metadata": {
        "colab": {
          "base_uri": "https://localhost:8080/",
          "height": 296
        },
        "id": "Op5ooZwzeW-t",
        "outputId": "0b22030c-d7bc-405f-fe72-947f9f4f9627"
      },
      "source": [
        "# Avaliando o modelo pelo coeficiente de silhueta\n",
        "silhouette_scores = [] \n",
        "\n",
        "for n_cluster in range(2, 10):\n",
        "    silhouette_scores.append( \n",
        "      silhouette_score(df_clean_pca1, KMeans(n_clusters = n_cluster).fit_predict(df_clean_pca1))) \n",
        "    \n",
        "# Plotando um gráfico para comparar os resultados \n",
        "k = [2, 3, 4, 5, 6, 7, 8, 9] \n",
        "plt.bar(k, silhouette_scores) \n",
        "plt.xlabel('Number of clusters', fontsize = 10) \n",
        "plt.ylabel('Silhouette Score', fontsize = 10) \n",
        "plt.show() \n",
        "print(silhouette_scores)"
      ],
      "execution_count": null,
      "outputs": [
        {
          "output_type": "display_data",
          "data": {
            "image/png": "[encoded data removed]",
            "text/plain": [
              "<Figure size 432x288 with 1 Axes>"
            ]
          },
          "metadata": {
            "tags": [],
            "needs_background": "light"
          }
        },
        {
          "output_type": "stream",
          "text": [
            "[0.4668137870595848, 0.4531356717348491, 0.4093352270218348, 0.403710526481438, 0.3941118890045636, 0.3819380583897981, 0.3942955223483481, 0.37639142808276504]\n"
          ],
          "name": "stdout"
        }
      ]
    },
    {
      "cell_type": "markdown",
      "metadata": {
        "id": "qCYerPBBfCL0"
      },
      "source": [
        "Conseguimos mais uma vez superar o último teste. Agora o coeficiente de silhueta está em quase 0,5.\n",
        "\n",
        "Vamos para nosso último teste!"
      ]
    },
    {
      "cell_type": "markdown",
      "metadata": {
        "id": "ujZq1wD4ficT"
      },
      "source": [
        "### Teste 3 - KMeans + PCA + Normalizer"
      ]
    },
    {
      "cell_type": "code",
      "metadata": {
        "colab": {
          "base_uri": "https://localhost:8080/",
          "height": 204
        },
        "id": "7rN1iIdjfnW1",
        "outputId": "e6d5daf3-5249-4db9-f986-5fbad6c1b8ad"
      },
      "source": [
        "# Reduzindo as dimensões dos dados \n",
        "pca = PCA(n_components = 2) \n",
        "df_clean_pca2 = pca.fit_transform(df_clean_normalized) \n",
        "df_clean_pca2 = pd.DataFrame(df_clean_pca2) \n",
        "df_clean_pca2.columns = ['P1', 'P2'] \n",
        "  \n",
        "df_clean_pca2.head()"
      ],
      "execution_count": null,
      "outputs": [
        {
          "output_type": "execute_result",
          "data": {
            "text/html": [
              "<div>\n",
              "<style scoped>\n",
              "    .dataframe tbody tr th:only-of-type {\n",
              "        vertical-align: middle;\n",
              "    }\n",
              "\n",
              "    .dataframe tbody tr th {\n",
              "        vertical-align: top;\n",
              "    }\n",
              "\n",
              "    .dataframe thead th {\n",
              "        text-align: right;\n",
              "    }\n",
              "</style>\n",
              "<table border=\"1\" class=\"dataframe\">\n",
              "  <thead>\n",
              "    <tr style=\"text-align: right;\">\n",
              "      <th></th>\n",
              "      <th>P1</th>\n",
              "      <th>P2</th>\n",
              "    </tr>\n",
              "  </thead>\n",
              "  <tbody>\n",
              "    <tr>\n",
              "      <th>0</th>\n",
              "      <td>-0.315292</td>\n",
              "      <td>-0.041621</td>\n",
              "    </tr>\n",
              "    <tr>\n",
              "      <th>1</th>\n",
              "      <td>0.318365</td>\n",
              "      <td>-0.161004</td>\n",
              "    </tr>\n",
              "    <tr>\n",
              "      <th>2</th>\n",
              "      <td>-0.207151</td>\n",
              "      <td>-0.180748</td>\n",
              "    </tr>\n",
              "    <tr>\n",
              "      <th>3</th>\n",
              "      <td>-0.291842</td>\n",
              "      <td>-0.113087</td>\n",
              "    </tr>\n",
              "    <tr>\n",
              "      <th>4</th>\n",
              "      <td>0.142324</td>\n",
              "      <td>-0.090895</td>\n",
              "    </tr>\n",
              "  </tbody>\n",
              "</table>\n",
              "</div>"
            ],
            "text/plain": [
              "         P1        P2\n",
              "0 -0.315292 -0.041621\n",
              "1  0.318365 -0.161004\n",
              "2 -0.207151 -0.180748\n",
              "3 -0.291842 -0.113087\n",
              "4  0.142324 -0.090895"
            ]
          },
          "metadata": {
            "tags": []
          },
          "execution_count": 18
        }
      ]
    },
    {
      "cell_type": "code",
      "metadata": {
        "colab": {
          "base_uri": "https://localhost:8080/",
          "height": 279
        },
        "id": "UTWMI0Dufz6U",
        "outputId": "a1845610-c8ed-478f-cc4d-132cd0313b23"
      },
      "source": [
        "sse = {}\n",
        "for k in range(2, 10):\n",
        "    kmeans = KMeans(n_clusters=k, max_iter=1000).fit(df_clean_pca2)\n",
        "    sse[k] = kmeans.inertia_ # Inertia: Soma das distâncias das amostras até o centro do cluster mais próximo\n",
        "plt.figure()\n",
        "plt.plot(list(sse.keys()), list(sse.values()))\n",
        "plt.xlabel(\"Number of cluster\")\n",
        "plt.ylabel(\"SSE\")\n",
        "plt.show()"
      ],
      "execution_count": null,
      "outputs": [
        {
          "output_type": "display_data",
          "data": {
            "image/png": "[encoded data removed]",
            "text/plain": [
              "<Figure size 432x288 with 1 Axes>"
            ]
          },
          "metadata": {
            "tags": [],
            "needs_background": "light"
          }
        }
      ]
    },
    {
      "cell_type": "code",
      "metadata": {
        "colab": {
          "base_uri": "https://localhost:8080/",
          "height": 316
        },
        "id": "2-tEQPCef222",
        "outputId": "500f3531-6d23-42f6-e42f-7c857bedd3ae"
      },
      "source": [
        "# Avaliando o modelo pelo coeficiente de silhueta\n",
        "silhouette_scores = [] \n",
        "\n",
        "for n_cluster in range(2, 10):\n",
        "    silhouette_scores.append( \n",
        "      silhouette_score(df_clean_pca2, KMeans(n_clusters = n_cluster).fit_predict(df_clean_pca2))) \n",
        "    \n",
        "# Plotando um gráfico para comparar os resultados \n",
        "k = [2, 3, 4, 5, 6, 7, 8, 9] \n",
        "plt.bar(k, silhouette_scores) \n",
        "plt.xlabel('Number of clusters', fontsize = 10) \n",
        "plt.ylabel('Silhouette Score', fontsize = 10) \n",
        "plt.show() \n",
        "print(silhouette_scores)"
      ],
      "execution_count": null,
      "outputs": [
        {
          "output_type": "display_data",
          "data": {
            "image/png": "[encoded data removed]",
            "text/plain": [
              "<Figure size 432x288 with 1 Axes>"
            ]
          },
          "metadata": {
            "tags": [],
            "needs_background": "light"
          }
        },
        {
          "output_type": "stream",
          "text": [
            "[0.44552830843047303, 0.5081709881069851, 0.48921118159019544, 0.4612621320864556, 0.4551635969568813, 0.44449916897476194, 0.42099848531542416, 0.4415982816697102]\n"
          ],
          "name": "stdout"
        }
      ]
    },
    {
      "cell_type": "markdown",
      "metadata": {
        "id": "MFPfMRXhgIer"
      },
      "source": [
        "Chegamos em um valor ótimo para os nossos testes com o número de clusters igual a 3 e o coeficiente de silhueta em quase 0,51.\n",
        "\n",
        "Vamos utilizar este modelo (teste 3) para elaborar nosso modelo final e entender melhor o que foi feito."
      ]
    },
    {
      "cell_type": "markdown",
      "metadata": {
        "id": "rFiknHZPsPiJ"
      },
      "source": [
        "## Modelo final\n",
        "\n",
        "Com todos os testes que foram propostos para esse trabalho feitos, vamos instanciar, treinar e fazer previsões com o modelo final adotado e tirar conclusões que definam alguma estratégia para o problema em questão."
      ]
    },
    {
      "cell_type": "code",
      "metadata": {
        "id": "5EQd3pYNr71a"
      },
      "source": [
        "kmeans = KMeans(n_clusters=3)\n",
        "y_pred = kmeans.fit_predict(df_clean_pca2)"
      ],
      "execution_count": null,
      "outputs": []
    },
    {
      "cell_type": "code",
      "metadata": {
        "colab": {
          "base_uri": "https://localhost:8080/"
        },
        "id": "yTizJ0L5ljiM",
        "outputId": "e1e57f2b-a9e6-4187-dd8e-b036f9721fa2"
      },
      "source": [
        "y_pred = y_pred.reshape(len(y_pred), 1)\n",
        "b = np.concatenate((y_pred, df_clean), axis=1)\n",
        "df_final = pd.DataFrame(data=b, columns=['Cluster_Num','BALANCE', 'BALANCE_FREQUENCY', 'PURCHASES', 'ONEOFF_PURCHASES',\n",
        "       'INSTALLMENTS_PURCHASES', 'CASH_ADVANCE', 'PURCHASES_FREQUENCY',\n",
        "       'ONEOFF_PURCHASES_FREQUENCY', 'PURCHASES_INSTALLMENTS_FREQUENCY',\n",
        "       'CASH_ADVANCE_FREQUENCY', 'CASH_ADVANCE_TRX', 'PURCHASES_TRX',\n",
        "       'CREDIT_LIMIT', 'PAYMENTS', 'MINIMUM_PAYMENTS', 'PRC_FULL_PAYMENT'])\n",
        "df_final.Cluster_Num.value_counts().sort_index()"
      ],
      "execution_count": null,
      "outputs": [
        {
          "output_type": "execute_result",
          "data": {
            "text/plain": [
              "0.0    1894\n",
              "1.0    3560\n",
              "2.0    3496\n",
              "Name: Cluster_Num, dtype: int64"
            ]
          },
          "metadata": {
            "tags": []
          },
          "execution_count": 22
        }
      ]
    },
    {
      "cell_type": "markdown",
      "metadata": {
        "id": "s2A5gKxviuvj"
      },
      "source": [
        "Essa é a contagem da quantidade de clientes em cada um dos três clusters."
      ]
    },
    {
      "cell_type": "code",
      "metadata": {
        "colab": {
          "base_uri": "https://localhost:8080/",
          "height": 224
        },
        "id": "HAK_luu-vRsQ",
        "outputId": "50dbbb8b-ea5b-44b6-8917-2a800f990e58"
      },
      "source": [
        "df_final.head()"
      ],
      "execution_count": null,
      "outputs": [
        {
          "output_type": "execute_result",
          "data": {
            "text/html": [
              "<div>\n",
              "<style scoped>\n",
              "    .dataframe tbody tr th:only-of-type {\n",
              "        vertical-align: middle;\n",
              "    }\n",
              "\n",
              "    .dataframe tbody tr th {\n",
              "        vertical-align: top;\n",
              "    }\n",
              "\n",
              "    .dataframe thead th {\n",
              "        text-align: right;\n",
              "    }\n",
              "</style>\n",
              "<table border=\"1\" class=\"dataframe\">\n",
              "  <thead>\n",
              "    <tr style=\"text-align: right;\">\n",
              "      <th></th>\n",
              "      <th>Cluster_Num</th>\n",
              "      <th>BALANCE</th>\n",
              "      <th>BALANCE_FREQUENCY</th>\n",
              "      <th>PURCHASES</th>\n",
              "      <th>ONEOFF_PURCHASES</th>\n",
              "      <th>INSTALLMENTS_PURCHASES</th>\n",
              "      <th>CASH_ADVANCE</th>\n",
              "      <th>PURCHASES_FREQUENCY</th>\n",
              "      <th>ONEOFF_PURCHASES_FREQUENCY</th>\n",
              "      <th>PURCHASES_INSTALLMENTS_FREQUENCY</th>\n",
              "      <th>CASH_ADVANCE_FREQUENCY</th>\n",
              "      <th>CASH_ADVANCE_TRX</th>\n",
              "      <th>PURCHASES_TRX</th>\n",
              "      <th>CREDIT_LIMIT</th>\n",
              "      <th>PAYMENTS</th>\n",
              "      <th>MINIMUM_PAYMENTS</th>\n",
              "      <th>PRC_FULL_PAYMENT</th>\n",
              "    </tr>\n",
              "  </thead>\n",
              "  <tbody>\n",
              "    <tr>\n",
              "      <th>0</th>\n",
              "      <td>1.0</td>\n",
              "      <td>40.900749</td>\n",
              "      <td>0.818182</td>\n",
              "      <td>95.40</td>\n",
              "      <td>0.00</td>\n",
              "      <td>95.4</td>\n",
              "      <td>0.000000</td>\n",
              "      <td>0.166667</td>\n",
              "      <td>0.000000</td>\n",
              "      <td>0.083333</td>\n",
              "      <td>0.000000</td>\n",
              "      <td>0.0</td>\n",
              "      <td>2.0</td>\n",
              "      <td>1000.0</td>\n",
              "      <td>201.802084</td>\n",
              "      <td>139.509787</td>\n",
              "      <td>0.000000</td>\n",
              "    </tr>\n",
              "    <tr>\n",
              "      <th>1</th>\n",
              "      <td>2.0</td>\n",
              "      <td>3202.467416</td>\n",
              "      <td>0.909091</td>\n",
              "      <td>0.00</td>\n",
              "      <td>0.00</td>\n",
              "      <td>0.0</td>\n",
              "      <td>6442.945483</td>\n",
              "      <td>0.000000</td>\n",
              "      <td>0.000000</td>\n",
              "      <td>0.000000</td>\n",
              "      <td>0.250000</td>\n",
              "      <td>4.0</td>\n",
              "      <td>0.0</td>\n",
              "      <td>7000.0</td>\n",
              "      <td>4103.032597</td>\n",
              "      <td>1072.340217</td>\n",
              "      <td>0.222222</td>\n",
              "    </tr>\n",
              "    <tr>\n",
              "      <th>2</th>\n",
              "      <td>1.0</td>\n",
              "      <td>2495.148862</td>\n",
              "      <td>1.000000</td>\n",
              "      <td>773.17</td>\n",
              "      <td>773.17</td>\n",
              "      <td>0.0</td>\n",
              "      <td>0.000000</td>\n",
              "      <td>1.000000</td>\n",
              "      <td>1.000000</td>\n",
              "      <td>0.000000</td>\n",
              "      <td>0.000000</td>\n",
              "      <td>0.0</td>\n",
              "      <td>12.0</td>\n",
              "      <td>7500.0</td>\n",
              "      <td>622.066742</td>\n",
              "      <td>627.284787</td>\n",
              "      <td>0.000000</td>\n",
              "    </tr>\n",
              "    <tr>\n",
              "      <th>3</th>\n",
              "      <td>1.0</td>\n",
              "      <td>1666.670542</td>\n",
              "      <td>0.636364</td>\n",
              "      <td>1499.00</td>\n",
              "      <td>1499.00</td>\n",
              "      <td>0.0</td>\n",
              "      <td>205.788017</td>\n",
              "      <td>0.083333</td>\n",
              "      <td>0.083333</td>\n",
              "      <td>0.000000</td>\n",
              "      <td>0.083333</td>\n",
              "      <td>1.0</td>\n",
              "      <td>1.0</td>\n",
              "      <td>7500.0</td>\n",
              "      <td>0.000000</td>\n",
              "      <td>312.343947</td>\n",
              "      <td>0.000000</td>\n",
              "    </tr>\n",
              "    <tr>\n",
              "      <th>4</th>\n",
              "      <td>2.0</td>\n",
              "      <td>817.714335</td>\n",
              "      <td>1.000000</td>\n",
              "      <td>16.00</td>\n",
              "      <td>16.00</td>\n",
              "      <td>0.0</td>\n",
              "      <td>0.000000</td>\n",
              "      <td>0.083333</td>\n",
              "      <td>0.083333</td>\n",
              "      <td>0.000000</td>\n",
              "      <td>0.000000</td>\n",
              "      <td>0.0</td>\n",
              "      <td>1.0</td>\n",
              "      <td>1200.0</td>\n",
              "      <td>678.334763</td>\n",
              "      <td>244.791237</td>\n",
              "      <td>0.000000</td>\n",
              "    </tr>\n",
              "  </tbody>\n",
              "</table>\n",
              "</div>"
            ],
            "text/plain": [
              "   Cluster_Num      BALANCE  ...  MINIMUM_PAYMENTS  PRC_FULL_PAYMENT\n",
              "0          1.0    40.900749  ...        139.509787          0.000000\n",
              "1          2.0  3202.467416  ...       1072.340217          0.222222\n",
              "2          1.0  2495.148862  ...        627.284787          0.000000\n",
              "3          1.0  1666.670542  ...        312.343947          0.000000\n",
              "4          2.0   817.714335  ...        244.791237          0.000000\n",
              "\n",
              "[5 rows x 17 columns]"
            ]
          },
          "metadata": {
            "tags": []
          },
          "execution_count": 23
        }
      ]
    },
    {
      "cell_type": "markdown",
      "metadata": {
        "id": "yvb0dLFXjNKD"
      },
      "source": [
        "Aqui, concatenamos os nossos clusters com o dataframe inicial para ter uma visualização dos clusters pertencentes as suas respectivas características. \n",
        "\n",
        "Essa é uma visualização muito interessante na nossa segmentação de clientes, pois, conseguimos ver cliente por cliente, em qual cluster ele pertence e quais características ele tem."
      ]
    },
    {
      "cell_type": "code",
      "metadata": {
        "colab": {
          "base_uri": "https://localhost:8080/",
          "height": 265
        },
        "id": "fdQoreJRvTHB",
        "outputId": "99f5119a-50ed-4351-bed9-1a61b77fc4e4"
      },
      "source": [
        "# Visualizando o cluster \n",
        "plt.scatter(df_clean_pca2['P1'], df_clean_pca2['P2'],  \n",
        "           c = KMeans(n_clusters = 3).fit_predict(df_clean_pca2), cmap =plt.cm.rainbow) \n",
        "plt.show() "
      ],
      "execution_count": null,
      "outputs": [
        {
          "output_type": "display_data",
          "data": {
            "image/png": "[encoded data removed]",
            "text/plain": [
              "<Figure size 432x288 with 1 Axes>"
            ]
          },
          "metadata": {
            "tags": [],
            "needs_background": "light"
          }
        }
      ]
    },
    {
      "cell_type": "markdown",
      "metadata": {
        "id": "P275o8XRpMXp"
      },
      "source": [
        "Aqui estão nossos clusters dispostos graficamente em função das nossas variáveis reduzidas com o algoritmo do PCA.\n",
        "\n",
        "Vamos agora, fazer uma análise estatística dos nossos clusters, selecionando algumas variáveis. Nesse caso, vamos tentar selecionar as \"melhores\" variáveis, ou seja, as variáveis que vão melhor descrever o porque dessa segmentação, o porque cada cliente está em seu respectivo cluster.\n",
        "\n",
        "Para fazer isso, vamos primeiro selecionar essas variáveis com base na variância entre elas. As variáveis que possuírem maior variância, serão as que vamos adotar para analisar estatisticamente os clusters."
      ]
    },
    {
      "cell_type": "code",
      "metadata": {
        "colab": {
          "base_uri": "https://localhost:8080/"
        },
        "id": "x5xj68wK1YPg",
        "outputId": "0187b74f-bd35-41b0-b736-8742e223ef54"
      },
      "source": [
        "description = df_final.groupby(\"Cluster_Num\")[\"BALANCE\", \"PURCHASES\", \"CASH_ADVANCE\"]\n",
        "n_clients = description.size()\n",
        "description = print(description.mean())"
      ],
      "execution_count": null,
      "outputs": [
        {
          "output_type": "stream",
          "text": [
            "                 BALANCE    PURCHASES  CASH_ADVANCE\n",
            "Cluster_Num                                        \n",
            "0.0          1148.777500  2723.049403    614.288509\n",
            "1.0           582.160651   721.330781    155.140740\n",
            "2.0          2789.980894   358.492594   2015.198223\n"
          ],
          "name": "stdout"
        }
      ]
    },
    {
      "cell_type": "code",
      "metadata": {
        "colab": {
          "base_uri": "https://localhost:8080/"
        },
        "id": "DJhVzZQ7v5wt",
        "outputId": "090559a4-dafe-4517-9028-0fb8ae849cb3"
      },
      "source": [
        "description = df_final.groupby(\"Cluster_Num\")[\"PRC_FULL_PAYMENT\", \"CREDIT_LIMIT\", \"PAYMENTS\"]\n",
        "n_clients = description.size()\n",
        "description = print(description.mean())"
      ],
      "execution_count": null,
      "outputs": [
        {
          "output_type": "stream",
          "text": [
            "             PRC_FULL_PAYMENT  CREDIT_LIMIT     PAYMENTS\n",
            "Cluster_Num                                             \n",
            "0.0                  0.256802   3762.269234  3696.445865\n",
            "1.0                  0.235724   5226.358330   848.337269\n",
            "2.0                  0.014355   4145.381735  1570.505815\n"
          ],
          "name": "stdout"
        }
      ]
    },
    {
      "cell_type": "markdown",
      "metadata": {
        "id": "ADjniXTE69IW"
      },
      "source": [
        "Selecionamos então, 6 variáveis para fazer essa análise. Lembrando que essa análise pode se estender para todas as variáveis, porém, escolhi as 6 que possuem uma maior variância e/ou fazem mais sentido nesse momento.\n",
        "\n",
        "Os valores apresentados, são uma média dos valores das respectivas variáveis, em cada cluster, por exemplo, os clientes do cluster 1, em média, possuem um limite de crédito de U$ 5226.35.\n",
        "\n",
        "Esse é o momento de deduzir conclusões mais aprofundadas. Essas deduções são subjetivas e irão depender muito do objetivo da empresa, mas vamos aqui fazer algumas análises que possam ser de grande valor:\n",
        "\n",
        "**Cluster 0**: Clientes com limite de crédito baixo; Fazem compras com grandes valores;  Pagam em dia.\n",
        "\n",
        "**Cluster 1**: Clientes com limite de crédito alto; Fazem compras com pequenos valores; Pagam em dia.\n",
        "\n",
        "**Cluster 2**: Clientes com limite de crédito médio; Fazem compras com pequenos valores; Não pagam em dia.\n",
        "\n",
        "**Com essas deduções baseadas nos clusters, podemos pensar em estratégias como:**\n",
        "\n",
        "* Já que os clientes do **cluster 0** fazem compras com grandes valores e pagam em dia, não seria interessante aumentar o limite de crédito desses clientes para que eles possam gastar mais e gerar mais lucro para a empresa?\n",
        "\n",
        "* Já que os clientes do **cluster 1** possuem um alto limite de crédito, porém fazem compras com pequenos valores, não seria interessante, por exemplo, fazer uma parceria com alguma empresa que fornece pontos por gastos em cartões de crédito para fazer com que esses clientes gastem mais?\n",
        "\n",
        "* Já que os clientes do **cluster 2** não pagam em dia e possuem um limite de crédito razoável, não seria interessante diminuir esse limite para que a empresa não sofra com prejuízos maiores?\n",
        "\n",
        "Enfim, essas são algumas das deduções que conseguimos fazer, mas, como sabemos, tudo isso é bem subjetivo e depende do que a empresa quer no momento e se a estratégia x, y ou z faz sentido nesse momento. Não necessariamente existe um certo ou errado nessas análises, isso depende do objetivo final.\n",
        "\n",
        "\n"
      ]
    },
    {
      "cell_type": "markdown",
      "metadata": {
        "id": "UP8Ydr-x5FLd"
      },
      "source": [
        "## Conclusão\n",
        "\n",
        "Ao longo deste projeto vimos uma série de trabalhos que tanto a empresa quanto o cientista de dados tem que fazer. Resumidamente foram:\n",
        "\n",
        "* Estudo do problema para fazer uma clusterização;\n",
        "\n",
        "* Aquisição dos dados;\n",
        "\n",
        "* Análise exploratória dos dados;\n",
        "\n",
        "* Preparação e limpeza dos dados;\n",
        "\n",
        "* Modelo base de machine learning;\n",
        "\n",
        "* Testes de hipóteses modificando diversas variáveis no modelo de machine learning;\n",
        "\n",
        "* Escolha do modelo final;\n",
        "\n",
        "* Conclusão do objetivo e definição do plano de ação.\n",
        "\n",
        "Este projeto é uma pequena amostra do que podemos fazer com uma clusterização, claro que aqui nos limitamos apenas a algumas análises. Fica então, um convite para em uma outra oportunidade explorarmos outras abordagens e outros problemas nesse vasto mundo da clusterização e do aprendizado não supervisionado.\n",
        "\n",
        "Espero ter ajudado !\n",
        "\n",
        "Obrigado !"
      ]
    }
  ]
}