{
  "nbformat": 4,
  "nbformat_minor": 0,
  "metadata": {
    "colab": {
      "name": "Projeto - Análise de risco de crédito.ipynb",
      "provenance": [],
      "authorship_tag": "ABX9TyON6+yBAFgIhQAy/uy9fp8o",
      "include_colab_link": true
    },
    "kernelspec": {
      "name": "python3",
      "display_name": "Python 3"
    },
    "language_info": {
      "name": "python"
    }
  },
  "cells": [
    {
      "cell_type": "markdown",
      "metadata": {
        "id": "view-in-github",
        "colab_type": "text"
      },
      "source": [
        "<a href=\"https://colab.research.google.com/github/vitorbeltrao/VB_data_science/blob/main/Projeto_An%C3%A1lise_de_risco_de_cr%C3%A9dito.ipynb\" target=\"_parent\"><img src=\"https://colab.research.google.com/assets/colab-badge.svg\" alt=\"Open In Colab\"/></a>"
      ]
    },
    {
      "cell_type": "markdown",
      "metadata": {
        "id": "9i5YulEIFHXU"
      },
      "source": [
        "*by [Vitor Beltrão](https://www.linkedin.com/in/v%C3%ADtor-beltr%C3%A3o-56a912178/)*\n",
        "\n",
        "---"
      ]
    },
    {
      "cell_type": "markdown",
      "metadata": {
        "id": "PiNxOgjaFTOT"
      },
      "source": [
        "# Projeto - Análise de risco de crédito\n",
        "\n",
        "Analisar o risco de crédito, é identificar a chance de um contrato ser cumprido ou não pelo cliente (tomador do crédito). Conceder crédito a um cliente, é uma ação que sempre envolve riscos para qualquer empresa mesmo que se tome precauções. Afinal, é praticamente impossível ter total garantia de que o valor concedido será pago.\n",
        "\n",
        "<p align=center>\n",
        "<img src=\"https://img.freepik.com/free-photo/hands-agent-client-shaking-hands-after-signed-contract-buy-new-apartment_1150-14836.jpg\" width=\"40%\"></p>\n",
        "\n",
        "Uma série de variáveis pode incidir sobre esse processo e levar o cliente ao não cumprimento do acordo. A inadimplência não segue um padrão, por isso acaba por surpreender o empresário, que contava com aquele recurso.\n",
        "\n",
        "Esses são alguns dos motivos pelos quais a gestão de risco de crédito é um fator de grande importância com o qual as empresas precisam lidar.\n",
        "\n",
        "Quando o risco de crédito é administrado corretamente, por meio de modelos de gestão apropriados, é possível cumprir com os requisitos regulamentares para concessão do crédito e aumentar a segurança dos seus negócios.\n",
        "\n",
        "**Por meio deste notebook, vou apresentar modelos de machine learning para ajudar a melhorar a análise de risco de crédito para empresas que de forma inteligente, decidiram trabalhar com a oportunidade do big data.** \n",
        "\n",
        "Vale ressaltar que essa avaliação deve ser realizada no momento em que o cliente solicita o cartão (normalmente no primeiro contato com a instituição).\n",
        "\n"
      ]
    },
    {
      "cell_type": "markdown",
      "metadata": {
        "id": "5pMCvNLyMEby"
      },
      "source": [
        "## Aquisição dos Dados\n",
        "\n",
        "O conjunto de dados a ser utilizado neste Projeto de Data Science parte de uma competição realizada pela Startup Nubank.\n",
        "\n",
        "Dentre as principais instituições financeira, o Nubank é uma das que mais tem se destacado no uso de Inteligência Artificial e times de Data Science.\n",
        "\n",
        "<p align=center>\n",
        "<img src=\"http://sigmoidal.ai/wp-content/uploads/2019/10/Nubank_logo.png\" width=\"90px\"></p>\n",
        "\n",
        "**Então, o objetivo do trabalho é: Criar um modelo que forneça a probabilidade de um cliente virar inadimplente.**\n",
        "\n",
        "Espera-se que um modelo seja capaz de minimizar as perdas financeiras do Nubank e também os falsos positivos.\n",
        "\n"
      ]
    },
    {
      "cell_type": "code",
      "metadata": {
        "colab": {
          "base_uri": "https://localhost:8080/",
          "height": 615
        },
        "id": "_N5plpc1Ou-g",
        "outputId": "22acc0f9-5ac4-43b4-c6b2-3c7a8a0e2fa2"
      },
      "source": [
        "# Importar os pacotes necessários\n",
        "import warnings\n",
        "warnings.simplefilter(action='ignore', category=FutureWarning)\n",
        "import pandas as pd\n",
        "import numpy as np\n",
        "import matplotlib.pyplot as plt\n",
        "import seaborn as sns\n",
        "\n",
        "df = pd.read_csv(\"http://dl.dropboxusercontent.com/s/xn2a4kzf0zer0xu/acquisition_train.csv?dl=0\")\n",
        "df.head()"
      ],
      "execution_count": null,
      "outputs": [
        {
          "output_type": "execute_result",
          "data": {
            "text/html": [
              "<div>\n",
              "<style scoped>\n",
              "    .dataframe tbody tr th:only-of-type {\n",
              "        vertical-align: middle;\n",
              "    }\n",
              "\n",
              "    .dataframe tbody tr th {\n",
              "        vertical-align: top;\n",
              "    }\n",
              "\n",
              "    .dataframe thead th {\n",
              "        text-align: right;\n",
              "    }\n",
              "</style>\n",
              "<table border=\"1\" class=\"dataframe\">\n",
              "  <thead>\n",
              "    <tr style=\"text-align: right;\">\n",
              "      <th></th>\n",
              "      <th>ids</th>\n",
              "      <th>target_default</th>\n",
              "      <th>score_1</th>\n",
              "      <th>score_2</th>\n",
              "      <th>score_3</th>\n",
              "      <th>score_4</th>\n",
              "      <th>score_5</th>\n",
              "      <th>score_6</th>\n",
              "      <th>risk_rate</th>\n",
              "      <th>last_amount_borrowed</th>\n",
              "      <th>last_borrowed_in_months</th>\n",
              "      <th>credit_limit</th>\n",
              "      <th>reason</th>\n",
              "      <th>income</th>\n",
              "      <th>facebook_profile</th>\n",
              "      <th>state</th>\n",
              "      <th>zip</th>\n",
              "      <th>channel</th>\n",
              "      <th>job_name</th>\n",
              "      <th>real_state</th>\n",
              "      <th>ok_since</th>\n",
              "      <th>n_bankruptcies</th>\n",
              "      <th>n_defaulted_loans</th>\n",
              "      <th>n_accounts</th>\n",
              "      <th>n_issues</th>\n",
              "      <th>application_time_applied</th>\n",
              "      <th>application_time_in_funnel</th>\n",
              "      <th>email</th>\n",
              "      <th>external_data_provider_credit_checks_last_2_year</th>\n",
              "      <th>external_data_provider_credit_checks_last_month</th>\n",
              "      <th>external_data_provider_credit_checks_last_year</th>\n",
              "      <th>external_data_provider_email_seen_before</th>\n",
              "      <th>external_data_provider_first_name</th>\n",
              "      <th>external_data_provider_fraud_score</th>\n",
              "      <th>lat_lon</th>\n",
              "      <th>marketing_channel</th>\n",
              "      <th>profile_phone_number</th>\n",
              "      <th>reported_income</th>\n",
              "      <th>shipping_state</th>\n",
              "      <th>shipping_zip_code</th>\n",
              "      <th>profile_tags</th>\n",
              "      <th>user_agent</th>\n",
              "      <th>target_fraud</th>\n",
              "    </tr>\n",
              "  </thead>\n",
              "  <tbody>\n",
              "    <tr>\n",
              "      <th>0</th>\n",
              "      <td>343b7e7b-2cf8-e508-b8fd-0a0285af30aa</td>\n",
              "      <td>False</td>\n",
              "      <td>1Rk8w4Ucd5yR3KcqZzLdow==</td>\n",
              "      <td>IOVu8au3ISbo6+zmfnYwMg==</td>\n",
              "      <td>350.0</td>\n",
              "      <td>101.800832</td>\n",
              "      <td>0.259555</td>\n",
              "      <td>108.427273</td>\n",
              "      <td>0.40</td>\n",
              "      <td>25033.92</td>\n",
              "      <td>36.0</td>\n",
              "      <td>0.0</td>\n",
              "      <td>mLVIVxoGY7TUDJ1FyFoSIZi1SFcaBmO01AydRchaEiGYtU...</td>\n",
              "      <td>65014.12</td>\n",
              "      <td>True</td>\n",
              "      <td>sjJbkqJS7cXalHLBFA+EOQ==</td>\n",
              "      <td>Ernn+uVXCMq/6ARrBCcd+A==</td>\n",
              "      <td>NCqL3QBx0pscDnx3ixKwXg==</td>\n",
              "      <td>mLVIVxoGY7TUDJ1FyFoSIZi1SFcaBmO01AydRchaEiGYtU...</td>\n",
              "      <td>N5/CE7lSkAfB04hVFFwllw==</td>\n",
              "      <td>NaN</td>\n",
              "      <td>0.0</td>\n",
              "      <td>0.0</td>\n",
              "      <td>18.0</td>\n",
              "      <td>18.0</td>\n",
              "      <td>07:52:34</td>\n",
              "      <td>444</td>\n",
              "      <td>outlook.com</td>\n",
              "      <td>NaN</td>\n",
              "      <td>2</td>\n",
              "      <td>0.0</td>\n",
              "      <td>51.0</td>\n",
              "      <td>leidelaura</td>\n",
              "      <td>645</td>\n",
              "      <td>(-29.151545708122246, -51.1386461804385)</td>\n",
              "      <td>Invite-email</td>\n",
              "      <td>514-9840782</td>\n",
              "      <td>57849.0</td>\n",
              "      <td>BR-MT</td>\n",
              "      <td>17528</td>\n",
              "      <td>{'tags': ['n19', 'n8']}</td>\n",
              "      <td>Mozilla/5.0 (Linux; Android 6.0.1; SGP771 Buil...</td>\n",
              "      <td>NaN</td>\n",
              "    </tr>\n",
              "    <tr>\n",
              "      <th>1</th>\n",
              "      <td>bc2c7502-bbad-0f8c-39c3-94e881967124</td>\n",
              "      <td>False</td>\n",
              "      <td>DGCQep2AE5QRkNCshIAlFQ==</td>\n",
              "      <td>SaamrHMo23l/3TwXOWgVzw==</td>\n",
              "      <td>370.0</td>\n",
              "      <td>97.062615</td>\n",
              "      <td>0.942655</td>\n",
              "      <td>92.002546</td>\n",
              "      <td>0.24</td>\n",
              "      <td>NaN</td>\n",
              "      <td>NaN</td>\n",
              "      <td>39726.0</td>\n",
              "      <td>mLVIVxoGY7TUDJ1FyFoSIZi1SFcaBmO01AydRchaEiGYtU...</td>\n",
              "      <td>100018.91</td>\n",
              "      <td>False</td>\n",
              "      <td>xsd3ZdsI3356I3xMxZeiqQ==</td>\n",
              "      <td>rlWIXTBO+VOa34+SpGyhlQ==</td>\n",
              "      <td>NCqL3QBx0pscDnx3ixKwXg==</td>\n",
              "      <td>mLVIVxoGY7TUDJ1FyFoSIZi1SFcaBmO01AydRchaEiGYtU...</td>\n",
              "      <td>N5/CE7lSkAfB04hVFFwllw==</td>\n",
              "      <td>50.0</td>\n",
              "      <td>0.0</td>\n",
              "      <td>0.0</td>\n",
              "      <td>14.0</td>\n",
              "      <td>14.0</td>\n",
              "      <td>02:34:29</td>\n",
              "      <td>346</td>\n",
              "      <td>gmail.com</td>\n",
              "      <td>0.0</td>\n",
              "      <td>1</td>\n",
              "      <td>0.0</td>\n",
              "      <td>17.0</td>\n",
              "      <td>diocezio</td>\n",
              "      <td>243</td>\n",
              "      <td>(-19.687710705798963, -47.94151536525154)</td>\n",
              "      <td>Radio-commercial</td>\n",
              "      <td>251-3659293</td>\n",
              "      <td>4902.0</td>\n",
              "      <td>BR-RS</td>\n",
              "      <td>40933</td>\n",
              "      <td>{'tags': ['n6', 'n7', 'nim']}</td>\n",
              "      <td>Mozilla/5.0 (Linux; Android 5.0.2; SAMSUNG SM-...</td>\n",
              "      <td>NaN</td>\n",
              "    </tr>\n",
              "    <tr>\n",
              "      <th>2</th>\n",
              "      <td>669630dd-2e6a-0396-84bf-455e5009c922</td>\n",
              "      <td>True</td>\n",
              "      <td>DGCQep2AE5QRkNCshIAlFQ==</td>\n",
              "      <td>Fv28Bz0YRTVAT5kl1bAV6g==</td>\n",
              "      <td>360.0</td>\n",
              "      <td>100.027073</td>\n",
              "      <td>0.351918</td>\n",
              "      <td>112.892453</td>\n",
              "      <td>0.29</td>\n",
              "      <td>7207.92</td>\n",
              "      <td>36.0</td>\n",
              "      <td>NaN</td>\n",
              "      <td>mLVIVxoGY7TUDJ1FyFoSIZi1SFcaBmO01AydRchaEiGYtU...</td>\n",
              "      <td>65023.65</td>\n",
              "      <td>NaN</td>\n",
              "      <td>Ygq6MsM98oC8yceExr69Ig==</td>\n",
              "      <td>PjTIDfJsK0DKL9fO7vuW2g==</td>\n",
              "      <td>NCqL3QBx0pscDnx3ixKwXg==</td>\n",
              "      <td>mLVIVxoGY7TUDJ1FyFoSIZi1SFcaBmO01AydRchaEiGYtU...</td>\n",
              "      <td>n+xK9CfX0bCn77lClTWviw==</td>\n",
              "      <td>NaN</td>\n",
              "      <td>0.0</td>\n",
              "      <td>0.0</td>\n",
              "      <td>10.0</td>\n",
              "      <td>NaN</td>\n",
              "      <td>00:60:02</td>\n",
              "      <td>6</td>\n",
              "      <td>gmail.com</td>\n",
              "      <td>NaN</td>\n",
              "      <td>2</td>\n",
              "      <td>NaN</td>\n",
              "      <td>9.0</td>\n",
              "      <td>veralucia</td>\n",
              "      <td>65</td>\n",
              "      <td>(-28.748023890412284, -51.867279334353995)</td>\n",
              "      <td>Waiting-list</td>\n",
              "      <td>230-6097993</td>\n",
              "      <td>163679.0</td>\n",
              "      <td>BR-RR</td>\n",
              "      <td>50985</td>\n",
              "      <td>{'tags': ['n0', 'n17', 'nim', 'da']}</td>\n",
              "      <td>Mozilla/5.0 (Linux; Android 6.0.1; SGP771 Buil...</td>\n",
              "      <td>NaN</td>\n",
              "    </tr>\n",
              "    <tr>\n",
              "      <th>3</th>\n",
              "      <td>d235609e-b6cb-0ccc-a329-d4f12e7ebdc1</td>\n",
              "      <td>False</td>\n",
              "      <td>1Rk8w4Ucd5yR3KcqZzLdow==</td>\n",
              "      <td>dCm9hFKfdRm7ej3jW+gyxw==</td>\n",
              "      <td>510.0</td>\n",
              "      <td>101.599485</td>\n",
              "      <td>0.987673</td>\n",
              "      <td>94.902491</td>\n",
              "      <td>0.32</td>\n",
              "      <td>NaN</td>\n",
              "      <td>NaN</td>\n",
              "      <td>54591.0</td>\n",
              "      <td>mLVIVxoGY7TUDJ1FyFoSIZi1SFcaBmO01AydRchaEiGYtU...</td>\n",
              "      <td>68830.01</td>\n",
              "      <td>False</td>\n",
              "      <td>KET/Pmr6rHp1RJ/P9ymztw==</td>\n",
              "      <td>Cc/kWDLQH3dpHv5HU+pLVA==</td>\n",
              "      <td>NCqL3QBx0pscDnx3ixKwXg==</td>\n",
              "      <td>mLVIVxoGY7TUDJ1FyFoSIZi1SFcaBmO01AydRchaEiE56f...</td>\n",
              "      <td>n+xK9CfX0bCn77lClTWviw==</td>\n",
              "      <td>NaN</td>\n",
              "      <td>1.0</td>\n",
              "      <td>0.0</td>\n",
              "      <td>19.0</td>\n",
              "      <td>19.0</td>\n",
              "      <td>11:20:49</td>\n",
              "      <td>406</td>\n",
              "      <td>spgov.com</td>\n",
              "      <td>NaN</td>\n",
              "      <td>3</td>\n",
              "      <td>NaN</td>\n",
              "      <td>38.0</td>\n",
              "      <td>venice</td>\n",
              "      <td>815</td>\n",
              "      <td>(-17.520650158450454, -39.75801139933186)</td>\n",
              "      <td>Waiting-list</td>\n",
              "      <td>261-3543751</td>\n",
              "      <td>1086.0</td>\n",
              "      <td>BR-RN</td>\n",
              "      <td>37825</td>\n",
              "      <td>{'tags': ['n4']}</td>\n",
              "      <td>Mozilla/5.0 (Linux; Android 6.0; HTC One X10 B...</td>\n",
              "      <td>NaN</td>\n",
              "    </tr>\n",
              "    <tr>\n",
              "      <th>4</th>\n",
              "      <td>9e0eb880-e8f4-3faa-67d8-f5cdd2b3932b</td>\n",
              "      <td>False</td>\n",
              "      <td>8k8UDR4Yx0qasAjkGrUZLw==</td>\n",
              "      <td>+CxEO4w7jv3QPI/BQbyqAA==</td>\n",
              "      <td>500.0</td>\n",
              "      <td>98.474289</td>\n",
              "      <td>0.532539</td>\n",
              "      <td>118.126207</td>\n",
              "      <td>0.18</td>\n",
              "      <td>NaN</td>\n",
              "      <td>NaN</td>\n",
              "      <td>NaN</td>\n",
              "      <td>mLVIVxoGY7TUDJ1FyFoSIZi1SFcaBmO01AydRchaEiGYtU...</td>\n",
              "      <td>60011.29</td>\n",
              "      <td>True</td>\n",
              "      <td>xsd3ZdsI3356I3xMxZeiqQ==</td>\n",
              "      <td>i036nmJ7rfxo+3EvCD7Jnw==</td>\n",
              "      <td>NCqL3QBx0pscDnx3ixKwXg==</td>\n",
              "      <td>mLVIVxoGY7TUDJ1FyFoSIZi1SFcaBmO01AydRchaEiGYtU...</td>\n",
              "      <td>n+xK9CfX0bCn77lClTWviw==</td>\n",
              "      <td>NaN</td>\n",
              "      <td>0.0</td>\n",
              "      <td>0.0</td>\n",
              "      <td>11.0</td>\n",
              "      <td>NaN</td>\n",
              "      <td>13:39:03</td>\n",
              "      <td>240</td>\n",
              "      <td>gmail.com</td>\n",
              "      <td>0.0</td>\n",
              "      <td>2</td>\n",
              "      <td>1.0</td>\n",
              "      <td>46.0</td>\n",
              "      <td>darzisa</td>\n",
              "      <td>320</td>\n",
              "      <td>(-16.574259446978008, -39.90990074785962)</td>\n",
              "      <td>Invite-email</td>\n",
              "      <td>102-3660162</td>\n",
              "      <td>198618.0</td>\n",
              "      <td>BR-MT</td>\n",
              "      <td>52827</td>\n",
              "      <td>{'tags': ['pro+aty', 'n19', 'da', 'b19']}</td>\n",
              "      <td>Mozilla/5.0 (Linux; Android 7.0; Pixel C Build...</td>\n",
              "      <td>NaN</td>\n",
              "    </tr>\n",
              "  </tbody>\n",
              "</table>\n",
              "</div>"
            ],
            "text/plain": [
              "                                    ids  ... target_fraud\n",
              "0  343b7e7b-2cf8-e508-b8fd-0a0285af30aa  ...          NaN\n",
              "1  bc2c7502-bbad-0f8c-39c3-94e881967124  ...          NaN\n",
              "2  669630dd-2e6a-0396-84bf-455e5009c922  ...          NaN\n",
              "3  d235609e-b6cb-0ccc-a329-d4f12e7ebdc1  ...          NaN\n",
              "4  9e0eb880-e8f4-3faa-67d8-f5cdd2b3932b  ...          NaN\n",
              "\n",
              "[5 rows x 43 columns]"
            ]
          },
          "metadata": {
            "tags": []
          },
          "execution_count": 27
        }
      ]
    },
    {
      "cell_type": "markdown",
      "metadata": {
        "id": "E22bBdGZ0W8U"
      },
      "source": [
        "## Análise exploratória dos dados\n",
        "\n",
        "Para esta etapa, vamos realizar alguns comandos a fim de fazer uma análise exploratória completa para conseguirmos entender o conjunto de dados em questão.\n",
        "\n",
        "Após isso, vamos dar prosseguimento a fim de executar o nosso modelo de análise de risco de crédito da maneira mais eficaz possível.\n",
        "\n",
        "Serão feitos os seguintes comandos nessa análise exploratória:\n",
        "* Verificar os tipos das varíaveis e valores ausentes;\n",
        "* Verificar o resumo estatístico do dataframe;\n",
        "* Ver a quantidade de valores ausentes;\n",
        "* Ver a porcentagem de valores ausentes;\n",
        "* Analisar as entradas de cada variável;\n",
        "* Plotar um gráfico de barras para ver o balanceamento do dataset;\n",
        "* Plotar um boxplot para analisar outliers;\n",
        "* Estudar a correlação entre as variáveis."
      ]
    },
    {
      "cell_type": "code",
      "metadata": {
        "colab": {
          "base_uri": "https://localhost:8080/"
        },
        "id": "lTJ7Ewop2dd4",
        "outputId": "8ee0c485-05c7-47d0-e6a9-e33687c044e0"
      },
      "source": [
        "# Verificar os tipos das variáveis e valores ausentes\n",
        "df.info()"
      ],
      "execution_count": null,
      "outputs": [
        {
          "output_type": "stream",
          "text": [
            "<class 'pandas.core.frame.DataFrame'>\n",
            "RangeIndex: 45000 entries, 0 to 44999\n",
            "Data columns (total 43 columns):\n",
            " #   Column                                            Non-Null Count  Dtype  \n",
            "---  ------                                            --------------  -----  \n",
            " 0   ids                                               45000 non-null  object \n",
            " 1   target_default                                    41741 non-null  object \n",
            " 2   score_1                                           44438 non-null  object \n",
            " 3   score_2                                           44438 non-null  object \n",
            " 4   score_3                                           44438 non-null  float64\n",
            " 5   score_4                                           45000 non-null  float64\n",
            " 6   score_5                                           45000 non-null  float64\n",
            " 7   score_6                                           45000 non-null  float64\n",
            " 8   risk_rate                                         44438 non-null  float64\n",
            " 9   last_amount_borrowed                              15044 non-null  float64\n",
            " 10  last_borrowed_in_months                           15044 non-null  float64\n",
            " 11  credit_limit                                      31200 non-null  float64\n",
            " 12  reason                                            44434 non-null  object \n",
            " 13  income                                            44438 non-null  float64\n",
            " 14  facebook_profile                                  40542 non-null  object \n",
            " 15  state                                             44438 non-null  object \n",
            " 16  zip                                               44438 non-null  object \n",
            " 17  channel                                           44438 non-null  object \n",
            " 18  job_name                                          41664 non-null  object \n",
            " 19  real_state                                        44438 non-null  object \n",
            " 20  ok_since                                          18455 non-null  float64\n",
            " 21  n_bankruptcies                                    44303 non-null  float64\n",
            " 22  n_defaulted_loans                                 44426 non-null  float64\n",
            " 23  n_accounts                                        44438 non-null  float64\n",
            " 24  n_issues                                          33456 non-null  float64\n",
            " 25  application_time_applied                          45000 non-null  object \n",
            " 26  application_time_in_funnel                        45000 non-null  int64  \n",
            " 27  email                                             45000 non-null  object \n",
            " 28  external_data_provider_credit_checks_last_2_year  22372 non-null  float64\n",
            " 29  external_data_provider_credit_checks_last_month   45000 non-null  int64  \n",
            " 30  external_data_provider_credit_checks_last_year    29876 non-null  float64\n",
            " 31  external_data_provider_email_seen_before          42767 non-null  float64\n",
            " 32  external_data_provider_first_name                 45000 non-null  object \n",
            " 33  external_data_provider_fraud_score                45000 non-null  int64  \n",
            " 34  lat_lon                                           43637 non-null  object \n",
            " 35  marketing_channel                                 41422 non-null  object \n",
            " 36  profile_phone_number                              45000 non-null  object \n",
            " 37  reported_income                                   45000 non-null  float64\n",
            " 38  shipping_state                                    45000 non-null  object \n",
            " 39  shipping_zip_code                                 45000 non-null  int64  \n",
            " 40  profile_tags                                      45000 non-null  object \n",
            " 41  user_agent                                        44278 non-null  object \n",
            " 42  target_fraud                                      1522 non-null   object \n",
            "dtypes: float64(18), int64(4), object(21)\n",
            "memory usage: 14.8+ MB\n"
          ],
          "name": "stdout"
        }
      ]
    },
    {
      "cell_type": "code",
      "metadata": {
        "colab": {
          "base_uri": "https://localhost:8080/",
          "height": 317
        },
        "id": "JeVtF3lt2jWE",
        "outputId": "147ed589-5ef1-43ec-8f30-be4332189708"
      },
      "source": [
        "# Verificar o resumo estatístico do dataframe\n",
        "df.describe()"
      ],
      "execution_count": null,
      "outputs": [
        {
          "output_type": "execute_result",
          "data": {
            "text/html": [
              "<div>\n",
              "<style scoped>\n",
              "    .dataframe tbody tr th:only-of-type {\n",
              "        vertical-align: middle;\n",
              "    }\n",
              "\n",
              "    .dataframe tbody tr th {\n",
              "        vertical-align: top;\n",
              "    }\n",
              "\n",
              "    .dataframe thead th {\n",
              "        text-align: right;\n",
              "    }\n",
              "</style>\n",
              "<table border=\"1\" class=\"dataframe\">\n",
              "  <thead>\n",
              "    <tr style=\"text-align: right;\">\n",
              "      <th></th>\n",
              "      <th>score_3</th>\n",
              "      <th>score_4</th>\n",
              "      <th>score_5</th>\n",
              "      <th>score_6</th>\n",
              "      <th>risk_rate</th>\n",
              "      <th>last_amount_borrowed</th>\n",
              "      <th>last_borrowed_in_months</th>\n",
              "      <th>credit_limit</th>\n",
              "      <th>income</th>\n",
              "      <th>ok_since</th>\n",
              "      <th>n_bankruptcies</th>\n",
              "      <th>n_defaulted_loans</th>\n",
              "      <th>n_accounts</th>\n",
              "      <th>n_issues</th>\n",
              "      <th>application_time_in_funnel</th>\n",
              "      <th>external_data_provider_credit_checks_last_2_year</th>\n",
              "      <th>external_data_provider_credit_checks_last_month</th>\n",
              "      <th>external_data_provider_credit_checks_last_year</th>\n",
              "      <th>external_data_provider_email_seen_before</th>\n",
              "      <th>external_data_provider_fraud_score</th>\n",
              "      <th>reported_income</th>\n",
              "      <th>shipping_zip_code</th>\n",
              "    </tr>\n",
              "  </thead>\n",
              "  <tbody>\n",
              "    <tr>\n",
              "      <th>count</th>\n",
              "      <td>44438.000000</td>\n",
              "      <td>45000.000000</td>\n",
              "      <td>45000.000000</td>\n",
              "      <td>45000.000000</td>\n",
              "      <td>44438.000000</td>\n",
              "      <td>15044.000000</td>\n",
              "      <td>15044.000000</td>\n",
              "      <td>31200.000000</td>\n",
              "      <td>4.443800e+04</td>\n",
              "      <td>18455.000000</td>\n",
              "      <td>44303.000000</td>\n",
              "      <td>44426.000000</td>\n",
              "      <td>44438.000000</td>\n",
              "      <td>33456.000000</td>\n",
              "      <td>45000.000000</td>\n",
              "      <td>22372.0</td>\n",
              "      <td>45000.000000</td>\n",
              "      <td>29876.000000</td>\n",
              "      <td>42767.000000</td>\n",
              "      <td>45000.000000</td>\n",
              "      <td>45000.00</td>\n",
              "      <td>45000.000000</td>\n",
              "    </tr>\n",
              "    <tr>\n",
              "      <th>mean</th>\n",
              "      <td>347.983258</td>\n",
              "      <td>100.006797</td>\n",
              "      <td>0.500037</td>\n",
              "      <td>99.925228</td>\n",
              "      <td>0.296717</td>\n",
              "      <td>13782.341991</td>\n",
              "      <td>41.763893</td>\n",
              "      <td>34381.951154</td>\n",
              "      <td>7.160739e+04</td>\n",
              "      <td>35.069737</td>\n",
              "      <td>0.076270</td>\n",
              "      <td>0.004569</td>\n",
              "      <td>10.696701</td>\n",
              "      <td>11.068119</td>\n",
              "      <td>247.537000</td>\n",
              "      <td>0.0</td>\n",
              "      <td>1.501067</td>\n",
              "      <td>0.503381</td>\n",
              "      <td>12.534781</td>\n",
              "      <td>500.399800</td>\n",
              "      <td>inf</td>\n",
              "      <td>33923.514844</td>\n",
              "    </tr>\n",
              "    <tr>\n",
              "      <th>std</th>\n",
              "      <td>110.429165</td>\n",
              "      <td>3.178080</td>\n",
              "      <td>0.288326</td>\n",
              "      <td>10.016549</td>\n",
              "      <td>0.101933</td>\n",
              "      <td>8077.571933</td>\n",
              "      <td>10.252705</td>\n",
              "      <td>36586.982218</td>\n",
              "      <td>5.185897e+04</td>\n",
              "      <td>21.663194</td>\n",
              "      <td>0.274052</td>\n",
              "      <td>0.079400</td>\n",
              "      <td>4.592463</td>\n",
              "      <td>4.595501</td>\n",
              "      <td>146.118398</td>\n",
              "      <td>0.0</td>\n",
              "      <td>1.114941</td>\n",
              "      <td>0.499997</td>\n",
              "      <td>126.530487</td>\n",
              "      <td>287.968873</td>\n",
              "      <td>NaN</td>\n",
              "      <td>12692.406382</td>\n",
              "    </tr>\n",
              "    <tr>\n",
              "      <th>min</th>\n",
              "      <td>0.000000</td>\n",
              "      <td>86.191572</td>\n",
              "      <td>0.000035</td>\n",
              "      <td>60.663039</td>\n",
              "      <td>0.000000</td>\n",
              "      <td>1005.180000</td>\n",
              "      <td>36.000000</td>\n",
              "      <td>0.000000</td>\n",
              "      <td>4.821180e+03</td>\n",
              "      <td>0.000000</td>\n",
              "      <td>0.000000</td>\n",
              "      <td>0.000000</td>\n",
              "      <td>0.000000</td>\n",
              "      <td>0.000000</td>\n",
              "      <td>0.000000</td>\n",
              "      <td>0.0</td>\n",
              "      <td>0.000000</td>\n",
              "      <td>0.000000</td>\n",
              "      <td>-999.000000</td>\n",
              "      <td>0.000000</td>\n",
              "      <td>403.00</td>\n",
              "      <td>12001.000000</td>\n",
              "    </tr>\n",
              "    <tr>\n",
              "      <th>25%</th>\n",
              "      <td>270.000000</td>\n",
              "      <td>97.867036</td>\n",
              "      <td>0.252150</td>\n",
              "      <td>93.198353</td>\n",
              "      <td>0.220000</td>\n",
              "      <td>7519.502500</td>\n",
              "      <td>36.000000</td>\n",
              "      <td>10000.000000</td>\n",
              "      <td>4.501078e+04</td>\n",
              "      <td>17.000000</td>\n",
              "      <td>0.000000</td>\n",
              "      <td>0.000000</td>\n",
              "      <td>7.000000</td>\n",
              "      <td>8.000000</td>\n",
              "      <td>120.000000</td>\n",
              "      <td>0.0</td>\n",
              "      <td>1.000000</td>\n",
              "      <td>0.000000</td>\n",
              "      <td>11.000000</td>\n",
              "      <td>252.000000</td>\n",
              "      <td>50948.25</td>\n",
              "      <td>22937.000000</td>\n",
              "    </tr>\n",
              "    <tr>\n",
              "      <th>50%</th>\n",
              "      <td>340.000000</td>\n",
              "      <td>100.018900</td>\n",
              "      <td>0.500753</td>\n",
              "      <td>99.974796</td>\n",
              "      <td>0.290000</td>\n",
              "      <td>12023.465000</td>\n",
              "      <td>36.000000</td>\n",
              "      <td>25647.000000</td>\n",
              "      <td>6.126676e+04</td>\n",
              "      <td>32.000000</td>\n",
              "      <td>0.000000</td>\n",
              "      <td>0.000000</td>\n",
              "      <td>10.000000</td>\n",
              "      <td>10.000000</td>\n",
              "      <td>248.000000</td>\n",
              "      <td>0.0</td>\n",
              "      <td>2.000000</td>\n",
              "      <td>1.000000</td>\n",
              "      <td>27.000000</td>\n",
              "      <td>503.000000</td>\n",
              "      <td>101779.00</td>\n",
              "      <td>33896.000000</td>\n",
              "    </tr>\n",
              "    <tr>\n",
              "      <th>75%</th>\n",
              "      <td>420.000000</td>\n",
              "      <td>102.141797</td>\n",
              "      <td>0.748816</td>\n",
              "      <td>106.640275</td>\n",
              "      <td>0.360000</td>\n",
              "      <td>19220.270000</td>\n",
              "      <td>36.000000</td>\n",
              "      <td>47086.750000</td>\n",
              "      <td>8.601923e+04</td>\n",
              "      <td>50.000000</td>\n",
              "      <td>0.000000</td>\n",
              "      <td>0.000000</td>\n",
              "      <td>13.000000</td>\n",
              "      <td>14.000000</td>\n",
              "      <td>375.000000</td>\n",
              "      <td>0.0</td>\n",
              "      <td>2.000000</td>\n",
              "      <td>1.000000</td>\n",
              "      <td>43.000000</td>\n",
              "      <td>747.000000</td>\n",
              "      <td>151337.25</td>\n",
              "      <td>44910.000000</td>\n",
              "    </tr>\n",
              "    <tr>\n",
              "      <th>max</th>\n",
              "      <td>990.000000</td>\n",
              "      <td>113.978234</td>\n",
              "      <td>0.999973</td>\n",
              "      <td>142.192400</td>\n",
              "      <td>0.900000</td>\n",
              "      <td>35059.600000</td>\n",
              "      <td>60.000000</td>\n",
              "      <td>448269.000000</td>\n",
              "      <td>5.000028e+06</td>\n",
              "      <td>141.000000</td>\n",
              "      <td>5.000000</td>\n",
              "      <td>5.000000</td>\n",
              "      <td>49.000000</td>\n",
              "      <td>49.000000</td>\n",
              "      <td>500.000000</td>\n",
              "      <td>0.0</td>\n",
              "      <td>3.000000</td>\n",
              "      <td>1.000000</td>\n",
              "      <td>59.000000</td>\n",
              "      <td>1000.000000</td>\n",
              "      <td>inf</td>\n",
              "      <td>56000.000000</td>\n",
              "    </tr>\n",
              "  </tbody>\n",
              "</table>\n",
              "</div>"
            ],
            "text/plain": [
              "            score_3       score_4  ...  reported_income  shipping_zip_code\n",
              "count  44438.000000  45000.000000  ...         45000.00       45000.000000\n",
              "mean     347.983258    100.006797  ...              inf       33923.514844\n",
              "std      110.429165      3.178080  ...              NaN       12692.406382\n",
              "min        0.000000     86.191572  ...           403.00       12001.000000\n",
              "25%      270.000000     97.867036  ...         50948.25       22937.000000\n",
              "50%      340.000000    100.018900  ...        101779.00       33896.000000\n",
              "75%      420.000000    102.141797  ...        151337.25       44910.000000\n",
              "max      990.000000    113.978234  ...              inf       56000.000000\n",
              "\n",
              "[8 rows x 22 columns]"
            ]
          },
          "metadata": {
            "tags": []
          },
          "execution_count": 29
        }
      ]
    },
    {
      "cell_type": "code",
      "metadata": {
        "colab": {
          "base_uri": "https://localhost:8080/"
        },
        "id": "LskSQArC3CiJ",
        "outputId": "b8ddb6f8-1797-4caf-aed1-e9132a369157"
      },
      "source": [
        "# Quantidade de valores ausentes\n",
        "df.isnull().sum"
      ],
      "execution_count": null,
      "outputs": [
        {
          "output_type": "execute_result",
          "data": {
            "text/plain": [
              "<bound method DataFrame.sum of          ids  target_default  score_1  ...  profile_tags  user_agent  target_fraud\n",
              "0      False           False    False  ...         False       False          True\n",
              "1      False           False    False  ...         False       False          True\n",
              "2      False           False    False  ...         False       False          True\n",
              "3      False           False    False  ...         False       False          True\n",
              "4      False           False    False  ...         False       False          True\n",
              "...      ...             ...      ...  ...           ...         ...           ...\n",
              "44995  False           False    False  ...         False       False          True\n",
              "44996  False           False    False  ...         False       False          True\n",
              "44997  False           False    False  ...         False       False          True\n",
              "44998  False           False    False  ...         False       False          True\n",
              "44999  False           False    False  ...         False       False          True\n",
              "\n",
              "[45000 rows x 43 columns]>"
            ]
          },
          "metadata": {
            "tags": []
          },
          "execution_count": 30
        }
      ]
    },
    {
      "cell_type": "code",
      "metadata": {
        "colab": {
          "base_uri": "https://localhost:8080/"
        },
        "id": "nVX4S1aa4Xhg",
        "outputId": "a2395966-984b-4c24-87c4-f1fc9f5339e7"
      },
      "source": [
        "# Porcentagem de valores ausentes\n",
        "df.isnull().sum() / df.shape[0]"
      ],
      "execution_count": null,
      "outputs": [
        {
          "output_type": "execute_result",
          "data": {
            "text/plain": [
              "ids                                                 0.000000\n",
              "target_default                                      0.072422\n",
              "score_1                                             0.012489\n",
              "score_2                                             0.012489\n",
              "score_3                                             0.012489\n",
              "score_4                                             0.000000\n",
              "score_5                                             0.000000\n",
              "score_6                                             0.000000\n",
              "risk_rate                                           0.012489\n",
              "last_amount_borrowed                                0.665689\n",
              "last_borrowed_in_months                             0.665689\n",
              "credit_limit                                        0.306667\n",
              "reason                                              0.012578\n",
              "income                                              0.012489\n",
              "facebook_profile                                    0.099067\n",
              "state                                               0.012489\n",
              "zip                                                 0.012489\n",
              "channel                                             0.012489\n",
              "job_name                                            0.074133\n",
              "real_state                                          0.012489\n",
              "ok_since                                            0.589889\n",
              "n_bankruptcies                                      0.015489\n",
              "n_defaulted_loans                                   0.012756\n",
              "n_accounts                                          0.012489\n",
              "n_issues                                            0.256533\n",
              "application_time_applied                            0.000000\n",
              "application_time_in_funnel                          0.000000\n",
              "email                                               0.000000\n",
              "external_data_provider_credit_checks_last_2_year    0.502844\n",
              "external_data_provider_credit_checks_last_month     0.000000\n",
              "external_data_provider_credit_checks_last_year      0.336089\n",
              "external_data_provider_email_seen_before            0.049622\n",
              "external_data_provider_first_name                   0.000000\n",
              "external_data_provider_fraud_score                  0.000000\n",
              "lat_lon                                             0.030289\n",
              "marketing_channel                                   0.079511\n",
              "profile_phone_number                                0.000000\n",
              "reported_income                                     0.000000\n",
              "shipping_state                                      0.000000\n",
              "shipping_zip_code                                   0.000000\n",
              "profile_tags                                        0.000000\n",
              "user_agent                                          0.016044\n",
              "target_fraud                                        0.966178\n",
              "dtype: float64"
            ]
          },
          "metadata": {
            "tags": []
          },
          "execution_count": 31
        }
      ]
    },
    {
      "cell_type": "code",
      "metadata": {
        "colab": {
          "base_uri": "https://localhost:8080/"
        },
        "id": "BRHDS5Hy4joR",
        "outputId": "fed38c40-1916-4297-b2cf-fbc0d4a25004"
      },
      "source": [
        "df.value_counts()"
      ],
      "execution_count": null,
      "outputs": [
        {
          "output_type": "execute_result",
          "data": {
            "text/plain": [
              "ids                                   target_default  score_1                   score_2                   score_3  score_4     score_5   score_6     risk_rate  last_amount_borrowed  last_borrowed_in_months  credit_limit  reason                                                                                                                            income     facebook_profile  state                     zip                       channel                   job_name                                                                                                      real_state                ok_since  n_bankruptcies  n_defaulted_loans  n_accounts  n_issues  application_time_applied  application_time_in_funnel  email        external_data_provider_credit_checks_last_2_year  external_data_provider_credit_checks_last_month  external_data_provider_credit_checks_last_year  external_data_provider_email_seen_before  external_data_provider_first_name  external_data_provider_fraud_score  lat_lon                                     marketing_channel  profile_phone_number  reported_income  shipping_state  shipping_zip_code  profile_tags                                  user_agent                                                                                                                                                      target_fraud        \n",
              "fe2ff53a-0875-a0a6-75c4-732a9f5becc9  True            1Rk8w4Ucd5yR3KcqZzLdow==  dCm9hFKfdRm7ej3jW+gyxw==  360.0    98.436434   0.618992  103.676865  0.58       5024.63               36.0                     28784.0       mLVIVxoGY7TUDJ1FyFoSIZi1SFcaBmO01AydRchaEiGYtUhXGgZjtNQMnUXIWhIhmLVIVxoGY7TUDJ1FyFoSIXuusuYraWV4rGB3v/7WqHKeKq5W600DOWmwjMTqsrAW  44024.90   False             xsd3ZdsI3356I3xMxZeiqQ==  h+Pk51hPz8RqUgjRcrR+/Q==  NCqL3QBx0pscDnx3ixKwXg==  mLVIVxoGY7TUDJ1FyFoSIZi1SFcaBmO01AydRchaEiGYtUhXGgZjtNQMnUXIWhIhwM58eF/lhYeY9Df4lB4g4A1gT1e3s24lilttyasDuzc=  n+xK9CfX0bCn77lClTWviw==  30.0      0.0             0.0                11.0        11.0      01:12:07                  51                          hotmail.com  0.0                                               0                                                1.0                                             45.0                                      roseneiri                          294                                 (-5.1048718209202315, -42.802863573187786)  Invite-web         285-2655206           183247.0         BR-BA           43029              {'tags': ['nim']}                             Mozilla/5.0 (Linux; Android 7.0; SM-T827R4 Build/NRD90M) AppleWebKit/537.36 (KHTML, like Gecko) Chrome/60.0.3112.116 Safari/537.367                             fraud_friends_family    1\n",
              "766e0cb9-bc08-d0f4-d88b-72eabda17538  True            8k8UDR4Yx0qasAjkGrUZLw==  OlDYtdljgSSYM/M1L2CRaQ==  490.0    98.301005   0.272299  97.537485   0.28       10018.06              36.0                     37386.0       mLVIVxoGY7TUDJ1FyFoSIZi1SFcaBmO01AydRchaEiGYtUhXGgZjtNQMnUXIWhIhmLVIVxoGY7TUDJ1FyFoSIV42ALOVUfu0H5PX4kcwXiPSr0RxYIn3GRrWnc8Fc8HS  44026.55   False             x6Gw/1I8t3KPgT6s82Kodg==  PC7jR66+ygcMDBsuITKtFg==  NCqL3QBx0pscDnx3ixKwXg==  mLVIVxoGY7TUDJ1FyFoSIZi1SFcaBmO01AydRchaEiGYtUhXGgZjtNQMnUXIWhIhmLVIVxoGY7TUDJ1FyFoSIbrCcPwNrd9FSj4cOqqGbBc=  n+xK9CfX0bCn77lClTWviw==  8.0       0.0             0.0                12.0        12.0      08:47:54                  154                         hotmail.com  0.0                                               1                                                1.0                                             1.0                                       remundo                            411                                 (-4.821622024840304, -38.14829792222185)    Waiting-list       276-5153846           83884.0          BR-RR           53976              {'tags': ['dfa', 'n15', 'n18', 'n13', 'n9']}  Mozilla/5.0 (Linux; Android 5.0.2; LG-V410/V41020c Build/LRX22G) AppleWebKit/537.36 (KHTML, like Gecko) Version/4.0 Chrome/34.0.1847.118 Safari/537.368         fraud_friends_family    1\n",
              "04882fca-5f37-c302-f865-7b78a50fb123  True            smzX0nxh5QlePvtVf6EAeg==  bopP0NxW3+r8tn9xIHTaOw==  470.0    101.486679  0.602916  91.985222   0.41       35038.06              60.0                     35929.0       mLVIVxoGY7TUDJ1FyFoSIZi1SFcaBmO01AydRchaEiGYtUhXGgZjtNQMnUXIWhIhmLVIVxoGY7TUDJ1FyFoSIXuusuYraWV4rGB3v/7WqHIRsMoD5e3RXcnWOgQJkT1p  90011.67   True              xsd3ZdsI3356I3xMxZeiqQ==  7vC150QDqbqnMaYjz/gAAA==  NCqL3QBx0pscDnx3ixKwXg==  mLVIVxoGY7TUDJ1FyFoSIZi1SFcaBmO01AydRchaEiGYtUhXGgZjtNQMnUXIWhIhmLVIVxoGY7TUDJ1FyFoSISPYWXo6tiJwfK6uwkwTSJY=  n+xK9CfX0bCn77lClTWviw==  8.0       0.0             1.0                21.0        21.0      05:29:40                  367                         gmail.com    0.0                                               3                                                1.0                                             13.0                                      mazidy                             780                                 (-5.069679471777946, -37.271750249109225)   Website            200-2521655           156579.0         BR-SP           26879              {'tags': ['n7', 'c55', 'aty', 'n0', 'n9']}    Mozilla/5.0 (X11; CrOS x86_64 8172.45.0) AppleWebKit/537.36 (KHTML, like Gecko) Chrome/51.0.2704.64 Safari/537.367                                              fraud_id                1\n",
              "062a8ca7-309d-1e86-b81d-fc651db1ae92  True            e4NYDor1NOw6XKGE60AWFw==  w1miZqhB5+RSamEQJa0rqg==  290.0    104.297608  0.968574  109.715533  0.42       25016.87              60.0                     192315.0      mLVIVxoGY7TUDJ1FyFoSIZi1SFcaBmO01AydRchaEiGYtUhXGgZjtNQMnUXIWhIhmLVIVxoGY7TUDJ1FyFoSIXuusuYraWV4rGB3v/7WqHKeKq5W600DOWmwjMTqsrAW  170032.83  True              x6Gw/1I8t3KPgT6s82Kodg==  U7kS2ugOoYE/0PivxH3MHQ==  NCqL3QBx0pscDnx3ixKwXg==  mLVIVxoGY7TUDJ1FyFoSIZi1SFcaBmO01AydRchaEiGYtUhXGgZjtNQMnUXIWhIhmLVIVxoGY7TUDJ1FyFoSIeP31Ao+JeGddVzYqHlvjRo=  N5/CE7lSkAfB04hVFFwllw==  5.0       0.0             0.0                15.0        15.0      00:32:44                  402                         hotmail.com  0.0                                               3                                                0.0                                             29.0                                      adilcimar                          270                                 (-8.802268672963237, -63.80989884280086)    Website            266-7823598           36839.0          BR-ES           43647              {'tags': ['da', 'a15', 'aty', 'da', 'da']}    Mozilla/5.0 (iPhone; CPU iPhone OS 11_0 like Mac OS X) AppleWebKit/604.1.34 (KHTML, like Gecko) Version/11.0 Mobile/15A5341f Safari/604.15                      fraud_id                1\n",
              "16d6d799-c7a7-192b-1467-eb6252248dc1  True            1Rk8w4Ucd5yR3KcqZzLdow==  LCak332j+TYFqHC3NDwiqg==  120.0    96.466334   0.157989  95.503640   0.53       10022.95              36.0                     3312.0        mLVIVxoGY7TUDJ1FyFoSIZi1SFcaBmO01AydRchaEiGYtUhXGgZjtNQMnUXIWhIhmLVIVxoGY7TUDJ1FyFoSISKtpGVP0GzO3PnBpupkV8ylUvnhIHnc7bVdlWRKEael  80017.07   False             xsd3ZdsI3356I3xMxZeiqQ==  Vio5NhG+MLFlLYydTTu7qg==  NCqL3QBx0pscDnx3ixKwXg==  mLVIVxoGY7TUDJ1FyFoSIZi1SFcaBmO01AydRchaEiGYtUhXGgZjtNQMnUXIWhIhhPjDt6YwpzTFVmzv82m6C2NWDa9BUUoM5Tqb6YBK/EQ=  n+xK9CfX0bCn77lClTWviw==  40.0      0.0             0.0                10.0        10.0      06:53:33                  3                           outlook.com  0.0                                               3                                                1.0                                             5.0                                       valtiney                           84                                  (-4.913818741248113, -37.83674138737664)    Waiting-list       102-9643755           168847.0         BR-MG           53463              {'tags': ['n1']}                              Mozilla/5.0 (X11; Ubuntu; Linux x86_64; rv:15.0) Gecko/20100101 Firefox/15.0.13                                                                                 fraud_id                1\n",
              "18d47e90-f9a5-ca73-dafd-b6ccaac6818a  False           e4NYDor1NOw6XKGE60AWFw==  ky19q4V1ZqgL3jnHX0wKDw==  450.0    94.552022   0.580906  83.565381   0.38       10026.77              36.0                     122233.0      mLVIVxoGY7TUDJ1FyFoSIZi1SFcaBmO01AydRchaEiGYtUhXGgZjtNQMnUXIWhIhmLVIVxoGY7TUDJ1FyFoSIZi1SFcaBmO01AydRchaEiF6AOG2Dy6IOTjHBBd7RyJX  49325.67   False             OCoEDgPLpDjHcbEmPpAjvA==  lLe2iVfUFZSZusoGCZYB8A==  NCqL3QBx0pscDnx3ixKwXg==  mLVIVxoGY7TUDJ1FyFoSIZi1SFcaBmO01AydRchaEiGYtUhXGgZjtNQMnUXIWhIh5yhQHjsuuqYG7bH8Gpc7yG8UTo837uJtZsaH3nh2H/Q=  n+xK9CfX0bCn77lClTWviw==  73.0      0.0             0.0                26.0        26.0      01:49:17                  57                          hotmail.com  0.0                                               3                                                1.0                                             10.0                                      meuse                              484                                 (-5.227253358629726, -37.44421508702647)    Website            275-1069462           90882.0          BR-SP           27949              {'tags': ['n16', 'dfa']}                      Mozilla/5.0 (Windows NT 6.1; WOW64) AppleWebKit/537.36 (KHTML, like Gecko) Chrome/47.0.2526.111 Safari/537.362                                                  fraud_friends_family    1\n",
              "227ca1ed-b567-3c02-4383-26cd60039d50  True            8k8UDR4Yx0qasAjkGrUZLw==  d/7Hedyz7ovK9Pn1CYN4+A==  350.0    96.852338   0.609554  91.649534   0.35       9027.30               36.0                     0.0           mLVIVxoGY7TUDJ1FyFoSIZi1SFcaBmO01AydRchaEiGYtUhXGgZjtNQMnUXIWhIhmLVIVxoGY7TUDJ1FyFoSIZi1SFcaBmO01AydRchaEiGYPy8jn2X0pda48Sbs4tpc  40021.47   True              kfFcVGcsJmH2n3eYprLkeQ==  uzfL1XDSVwfCcEB62KNrXA==  NCqL3QBx0pscDnx3ixKwXg==  mLVIVxoGY7TUDJ1FyFoSIZi1SFcaBmO01AydRchaEiGYtUhXGgZjtNQMnUXIWhIhmLVIVxoGY7TUDJ1FyFoSIdVZp5QPz+y+l/qi5LyiaYA=  N5/CE7lSkAfB04hVFFwllw==  45.0      0.0             0.0                11.0        11.0      06:08:36                  277                         gmail.com    0.0                                               1                                                1.0                                             7.0                                       jucilia                            413                                 (-8.784834075440312, -63.962273344005666)   Website            183-7796579           92574.0          BR-AP           42868              {'tags': ['da', 'aty']}                       Mozilla/5.0 (Macintosh; Intel Mac OS X 10_11_2) AppleWebKit/601.3.9 (KHTML, like Gecko) Version/9.0.2 Safari/601.3.90                                           fraud_friends_family    1\n",
              "356ce61d-8a15-4646-b34d-1cb709c5f558  True            8k8UDR4Yx0qasAjkGrUZLw==  d/7Hedyz7ovK9Pn1CYN4+A==  360.0    103.988273  0.680429  83.335725   0.43       15630.25              60.0                     88814.0       mLVIVxoGY7TUDJ1FyFoSIZi1SFcaBmO01AydRchaEiGYtUhXGgZjtNQMnUXIWhIhmLVIVxoGY7TUDJ1FyFoSIXuusuYraWV4rGB3v/7WqHKeKq5W600DOWmwjMTqsrAW  60017.17   False             ZVfsutsd1Go0zZEnGp0vEA==  RdNDocXumvzqLlZlkZX6cA==  NCqL3QBx0pscDnx3ixKwXg==  mLVIVxoGY7TUDJ1FyFoSIZi1SFcaBmO01AydRchaEiGYtUhXGgZjtNQMnUXIWhIhmLVIVxoGY7TUDJ1FyFoSIaRr3E4aex+4Q2JdTmjOZ70=  N5/CE7lSkAfB04hVFFwllw==  74.0      0.0             0.0                9.0         9.0       09:16:45                  130                         spgov.com    0.0                                               3                                                0.0                                             8.0                                       renewton                           987                                 (-4.506781117561834, -37.765099728134835)   Website            281-7312070           95621.0          BR-AL           22520              {'tags': ['a15', 'c55']}                      Mozilla/5.0 (Macintosh; Intel Mac OS X 10_11_2) AppleWebKit/601.3.9 (KHTML, like Gecko) Version/9.0.2 Safari/601.3.94                                           fraud_id                1\n",
              "3a1701d5-fd7c-65cf-98db-d414838d0ab6  True            fyrlulOiZ+5hoFqLa6UbDQ==  wjdj2vxjWoDsEIk0l09ynw==  320.0    97.658659   0.013952  94.330949   0.38       10012.87              60.0                     72556.0       mLVIVxoGY7TUDJ1FyFoSIZi1SFcaBmO01AydRchaEiGYtUhXGgZjtNQMnUXIWhIhmLVIVxoGY7TUDJ1FyFoSIZi1SFcaBmO01AydRchaEiHnFeANBTGir5ObHEL/A+iu  105015.40  True              sjJbkqJS7cXalHLBFA+EOQ==  al1q2oDfNCxN3l3SKnXxGw==  NCqL3QBx0pscDnx3ixKwXg==  mLVIVxoGY7TUDJ1FyFoSIZi1SFcaBmO01AydRchaEiGYtUhXGgZjtNQMnUXIWhIhmLVIVxoGY7TUDJ1FyFoSIb+spyzqBdx82vE4CXmXr1g=  N5/CE7lSkAfB04hVFFwllw==  27.0      0.0             0.0                16.0        16.0      05:59:29                  219                         gmail.com    0.0                                               2                                                1.0                                             59.0                                      gleuse                             257                                 (-4.8894647387794485, -38.20101359894759)   Website            270-3772172           128967.0         BR-SP           55706              {'tags': ['n0']}                              Mozilla/5.0 (Linux; Android 7.0; SM-T827R4 Build/NRD90M) AppleWebKit/537.36 (KHTML, like Gecko) Chrome/60.0.3112.116 Safari/537.365                             fraud_friends_family    1\n",
              "3a71fe9c-850d-e9ce-f015-d1867f305b30  True            8k8UDR4Yx0qasAjkGrUZLw==  mX2VRRG38RPiHX+MfjefRw==  190.0    104.336206  0.290275  103.545509  0.30       16129.98              60.0                     0.0           mLVIVxoGY7TUDJ1FyFoSIZi1SFcaBmO01AydRchaEiGYtUhXGgZjtNQMnUXIWhIhmLVIVxoGY7TUDJ1FyFoSITc5JrXFlpcQdxcRB8PQqgeesrmgSTT5Syd83u2AaHqm  43014.81   False             xsd3ZdsI3356I3xMxZeiqQ==  MyiuiHIVhsHyPC3CgqXtWQ==  NCqL3QBx0pscDnx3ixKwXg==  mLVIVxoGY7TUDJ1FyFoSIZi1SFcaBmO01AydRchaEiGYtUhXGgZjtNQMnUXIWhIhmLVIVxoGY7TUDJ1FyFoSIR0kWuv8bB/QYzfe9g0EWd4=  n+xK9CfX0bCn77lClTWviw==  13.0      0.0             0.0                9.0         9.0       08:52:20                  10                          spgov.com    0.0                                               1                                                0.0                                             1.0                                       claucius                           818                                 (-3.1412614537420485, -59.99342051402268)   Facebook           118-3851091           26795.0          BR-PA           18291              {'tags': ['c55', 'nim', 'da']}                Mozilla/5.0 (Linux; Android 5.0.2; SAMSUNG SM-T550 Build/LRX22G) AppleWebKit/537.36 (KHTML, like Gecko) SamsungBrowser/3.3 Chrome/38.0.2125.102 Safari/537.362  fraud_friends_family    1\n",
              "3f6baba7-9349-8225-d29c-bee79af6cbb9  True            8k8UDR4Yx0qasAjkGrUZLw==  wkeCdGeu5sEv4/fjwR0aDg==  430.0    103.245115  0.152571  99.217858   0.42       18025.61              36.0                     9389.0        mLVIVxoGY7TUDJ1FyFoSIZi1SFcaBmO01AydRchaEiGYtUhXGgZjtNQMnUXIWhIhmLVIVxoGY7TUDJ1FyFoSIZi1SFcaBmO01AydRchaEiEGcDMIHvXCo/BOzFdJs5zs  61894.19   False             7bX4XFXmYqoMspxup0CrKA==  qHANjdHx2y8lMMpROPif+Q==  NCqL3QBx0pscDnx3ixKwXg==  mLVIVxoGY7TUDJ1FyFoSIZi1SFcaBmO01AydRchaEiGYtUhXGgZjtNQMnUXIWhIhW7DvToZYDgkFs3VjQk4x+pgPjvsM57TAHOiDWRwWJvM=  N5/CE7lSkAfB04hVFFwllw==  72.0      1.0             0.0                8.0         8.0       05:30:29                  239                         gmail.com    0.0                                               1                                                0.0                                             56.0                                      gledes                             757                                 (-18.643655424424704, -43.536074675479185)  Instagram          156-2648262           158105.0         BR-RO           37560              {'tags': ['n7']}                              Mozilla/5.0 (Linux; Android 5.0.2; SAMSUNG SM-T550 Build/LRX22G) AppleWebKit/537.36 (KHTML, like Gecko) SamsungBrowser/3.3 Chrome/38.0.2125.102 Safari/537.36   fraud_friends_family    1\n",
              "416bce00-216d-417d-1a21-e189f750719e  True            1Rk8w4Ucd5yR3KcqZzLdow==  LCak332j+TYFqHC3NDwiqg==  370.0    93.390540   0.510894  121.556662  0.46       11878.89              36.0                     47004.0       mLVIVxoGY7TUDJ1FyFoSIZi1SFcaBmO01AydRchaEiGYtUhXGgZjtNQMnUXIWhIhmLVIVxoGY7TUDJ1FyFoSIUhgQg1oFWkMewr4GCp/9RmhnzLiReeBo0d1c95BkHz+  40026.06   True              0lQuvmygO68ZFXZjzHEOww==  pt+q5jedFllxq1jKlja0fA==  NCqL3QBx0pscDnx3ixKwXg==  mLVIVxoGY7TUDJ1FyFoSIZi1SFcaBmO01AydRchaEiGYtUhXGgZjtNQMnUXIWhIhlXC5Td2gsEXFZ1TEMdXb2L86nCbIGLCQ7Raxwvo6Czw=  n+xK9CfX0bCn77lClTWviw==  46.0      0.0             0.0                15.0        15.0      21:46:05                  326                         hotmail.com  0.0                                               0                                                1.0                                             2.0                                       leolino                            71                                  (-22.24773065331688, -49.00212643332915)    Website            195-2473286           124082.0         BR-PE           29806              {'tags': ['nim', 'n17', 'n5']}                Mozilla/5.0 (Linux; Android 4.4.3; KFTHWI Build/KTU84M) AppleWebKit/537.36 (KHTML, like Gecko) Silk/47.1.79 like Chrome/47.0.2526.80 Safari/537.365             fraud_id                1\n",
              "51e9f8b4-5a0a-6624-a85a-09946cf01c6b  True            1Rk8w4Ucd5yR3KcqZzLdow==  dCm9hFKfdRm7ej3jW+gyxw==  320.0    105.032163  0.380120  102.159669  0.43       9016.28               36.0                     2500.0        mLVIVxoGY7TUDJ1FyFoSIZi1SFcaBmO01AydRchaEiGYtUhXGgZjtNQMnUXIWhIhmLVIVxoGY7TUDJ1FyFoSISh1HNUD8rMFS6CfMPs/ZM0NtdlPvpfSrzr4iQ4HgTXg  74013.84   True              xsd3ZdsI3356I3xMxZeiqQ==  vjsYtmgFNg/8e4C3S58AiA==  NCqL3QBx0pscDnx3ixKwXg==  mLVIVxoGY7TUDJ1FyFoSIZi1SFcaBmO01AydRchaEiGYtUhXGgZjtNQMnUXIWhIhmLVIVxoGY7TUDJ1FyFoSIYSRQNbeleUHv8Qt8vcCAtc=  N5/CE7lSkAfB04hVFFwllw==  4.0       0.0             0.0                8.0         8.0       16:03:04                  344                         gmail.com    0.0                                               0                                                1.0                                             7.0                                       ezequias                           761                                 (-5.140331790550151, -37.26993190833022)    Website            248-8653619           175944.0         BR-MG           29224              {'tags': ['n17', 'b19', 'n14', 'n5', 'n0']}   Mozilla/5.0 (Windows NT 10.0; Win64; x64) AppleWebKit/537.36 (KHTML, like Gecko) Chrome/42.0.2311.135 Safari/537.36 Edge/12.2462                                fraud_friends_family    1\n",
              "56fbb605-ee5e-e490-5697-560a5834d09a  True            1Rk8w4Ucd5yR3KcqZzLdow==  LCak332j+TYFqHC3NDwiqg==  550.0    101.284382  0.233225  115.450463  0.32       18017.58              36.0                     65295.0       mLVIVxoGY7TUDJ1FyFoSIZi1SFcaBmO01AydRchaEiGYtUhXGgZjtNQMnUXIWhIhmLVIVxoGY7TUDJ1FyFoSIZi1SFcaBmO01AydRchaEiEgeAtoqWTKWalvFmrrbU4g  65016.61   True              VafbDA6D5W2TpGMAUJbW8Q==  pvcStsAtC7wFtfF3yvKsOQ==  NCqL3QBx0pscDnx3ixKwXg==  mLVIVxoGY7TUDJ1FyFoSIZi1SFcaBmO01AydRchaEiGYtUhXGgZjtNQMnUXIWhIhmLVIVxoGY7TUDJ1FyFoSIV56G3kjZxQ0yMeb3IU2UKE=  N5/CE7lSkAfB04hVFFwllw==  36.0      0.0             0.0                24.0        24.0      13:48:60                  353                         gmail.com    0.0                                               0                                                0.0                                             7.0                                       adorisvaldo                        857                                 (-3.0800742394016685, -40.056460422324946)  Twitter            687-3537955           51667.0          BR-MA           37509              {'tags': ['n16', 'n4']}                       Mozilla/5.0 (Windows NT 6.1; WOW64) AppleWebKit/537.36 (KHTML, like Gecko) Chrome/47.0.2526.111 Safari/537.364                                                  fraud_friends_family    1\n",
              "5c1154b4-f76d-8760-7612-9cc24408ea2b  True            fyrlulOiZ+5hoFqLa6UbDQ==  5/uMrqKj3OL/Xk5OrGx9fg==  460.0    100.171965  0.681583  99.854400   0.35       28114.89              60.0                     90967.0       mLVIVxoGY7TUDJ1FyFoSIZi1SFcaBmO01AydRchaEiGYtUhXGgZjtNQMnUXIWhIhmLVIVxoGY7TUDJ1FyFoSIZi1SFcaBmO01AydRchaEiEb0XNUl0Ce0SyrZAP0rR01  75027.26   True              Ygq6MsM98oC8yceExr69Ig==  kCOjWLXna7GBPdIXo3w5KA==  NCqL3QBx0pscDnx3ixKwXg==  mLVIVxoGY7TUDJ1FyFoSIZi1SFcaBmO01AydRchaEiGYtUhXGgZjtNQMnUXIWhIhmLVIVxoGY7TUDJ1FyFoSIW3eu/Uv67OJaEe3UdqrHuY=  n+xK9CfX0bCn77lClTWviw==  56.0      0.0             0.0                14.0        14.0      10:50:10                  438                         outlook.com  0.0                                               3                                                1.0                                             1.0                                       rosenilson                         467                                 (-18.91534594619434, -43.236176217510064)   Facebook           108-7635586           105048.0         BR-GO           36733              {'tags': ['n2', 'n16', 'dfa', 'n12', 'n6']}   Mozilla/5.0 (Linux; Android 7.0; Pixel C Build/NRD90M; wv) AppleWebKit/537.36 (KHTML, like Gecko) Version/4.0 Chrome/52.0.2743.98 Safari/537.363                fraud_friends_family    1\n",
              "76f675c2-1d9b-fb88-0fc6-3ae6be122611  True            8k8UDR4Yx0qasAjkGrUZLw==  +CxEO4w7jv3QPI/BQbyqAA==  460.0    98.479220   0.199088  109.420926  0.21       6276.43               36.0                     45869.0       mLVIVxoGY7TUDJ1FyFoSIZi1SFcaBmO01AydRchaEiGYtUhXGgZjtNQMnUXIWhIhmLVIVxoGY7TUDJ1FyFoSIXDe3b7vL9/Czy8N/mG72mX21gDJR+2L6m3/g3ytpqFE  60016.28   True              BB/zpwTH+8GCIVHlhzOU1Q==  yZNlh0TN03uKx5gMqQcEZA==  NCqL3QBx0pscDnx3ixKwXg==  mLVIVxoGY7TUDJ1FyFoSIZi1SFcaBmO01AydRchaEiGYtUhXGgZjtNQMnUXIWhIhmLVIVxoGY7TUDJ1FyFoSIWLoFL4uHamMt/PqDc/BtAU=  n+xK9CfX0bCn77lClTWviw==  70.0      0.0             0.0                10.0        10.0      05:24:16                  124                         hotmail.com  0.0                                               0                                                0.0                                             6.0                                       diacir                             140                                 (-5.245159111726516, -37.37964456960023)    Website            191-2498839           49236.0          BR-GO           40648              {'tags': ['n5']}                              Mozilla/5.0 (Linux; Android 5.0.2; SAMSUNG SM-T550 Build/LRX22G) AppleWebKit/537.36 (KHTML, like Gecko) SamsungBrowser/3.3 Chrome/38.0.2125.102 Safari/537.365  fraud_friends_family    1\n",
              "f3aa533d-4388-1f1c-f7f2-b119b88ac9e8  True            8k8UDR4Yx0qasAjkGrUZLw==  wkeCdGeu5sEv4/fjwR0aDg==  320.0    100.951077  0.638992  97.398201   0.44       10011.66              36.0                     79788.0       mLVIVxoGY7TUDJ1FyFoSIZi1SFcaBmO01AydRchaEiGYtUhXGgZjtNQMnUXIWhIhmLVIVxoGY7TUDJ1FyFoSIXuusuYraWV4rGB3v/7WqHKeKq5W600DOWmwjMTqsrAW  160020.52  True              xsd3ZdsI3356I3xMxZeiqQ==  rlWIXTBO+VOa34+SpGyhlQ==  NCqL3QBx0pscDnx3ixKwXg==  mLVIVxoGY7TUDJ1FyFoSIZi1SFcaBmO01AydRchaEiGYtUhXGgZjtNQMnUXIWhIh88CGWxzoYbNCPMQLFX8dLI99RpEHoVfVslOgt/++/JQ=  n+xK9CfX0bCn77lClTWviw==  8.0       0.0             0.0                15.0        15.0      06:17:11                  64                          hotmail.com  0.0                                               3                                                1.0                                             2.0                                       ermides                            898                                 (-29.151545708122246, -51.1386461804385)    Instagram          130-2451295           120584.0         BR-MG           51306              {'tags': ['da', 'n6', 'n12', 'n17']}          Mozilla/5.0 (Linux; Android 7.0; Pixel C Build/NRD90M; wv) AppleWebKit/537.36 (KHTML, like Gecko) Version/4.0 Chrome/52.0.2743.98 Safari/537.368                fraud_id                1\n",
              "7a9b75ed-ee5e-2394-89f9-52ce45c21a84  True            8k8UDR4Yx0qasAjkGrUZLw==  OlDYtdljgSSYM/M1L2CRaQ==  460.0    98.800502   0.723698  87.646174   0.22       21675.06              60.0                     43038.0       mLVIVxoGY7TUDJ1FyFoSIZi1SFcaBmO01AydRchaEiGYtUhXGgZjtNQMnUXIWhIhmLVIVxoGY7TUDJ1FyFoSIZi1SFcaBmO01AydRchaEiGhfBVC0C5T6/qjI1tKlKe+  68031.45   False             JrdZzPZEa/YIIGwh8OdTKA==  4iCzrkyjf0D2vo6vycdD3w==  NCqL3QBx0pscDnx3ixKwXg==  mLVIVxoGY7TUDJ1FyFoSIZi1SFcaBmO01AydRchaEiGYtUhXGgZjtNQMnUXIWhIhAEt4w2TEzRW61sRPINkXu00gMage8wXonwKt5CY93/A=  N5/CE7lSkAfB04hVFFwllw==  66.0      0.0             0.0                11.0        11.0      23:03:36                  184                         spgov.com    0.0                                               2                                                1.0                                             10.0                                      vagnir                             900                                 (-8.838570897616895, -63.88545123531831)    Radio-commercial   480-7092031           129390.0         BR-AM           26539              {'tags': ['n17', 'c1', 'n9', 'a15', 'n2']}    Mozilla/5.0 (Linux; Android 5.0.2; SAMSUNG SM-T550 Build/LRX22G) AppleWebKit/537.36 (KHTML, like Gecko) SamsungBrowser/3.3 Chrome/38.0.2125.102 Safari/537.365  fraud_id                1\n",
              "7e03722b-279d-57dd-ee3c-a80ecca52dc1  True            DGCQep2AE5QRkNCshIAlFQ==  osCzpM4hJrxugqWWuZmMWw==  450.0    97.756347   0.688951  98.004336   0.30       10011.82              36.0                     49083.0       mLVIVxoGY7TUDJ1FyFoSIZi1SFcaBmO01AydRchaEiGYtUhXGgZjtNQMnUXIWhIhmLVIVxoGY7TUDJ1FyFoSIXuusuYraWV4rGB3v/7WqHKeKq5W600DOWmwjMTqsrAW  53020.09   False             ZVfsutsd1Go0zZEnGp0vEA==  POqAeqMS5Xsm6gz1HgR5yQ==  NCqL3QBx0pscDnx3ixKwXg==  mLVIVxoGY7TUDJ1FyFoSIZi1SFcaBmO01AydRchaEiGYtUhXGgZjtNQMnUXIWhIh6eZy8mtrF0jxLyByLr71b12CIax8sH/0zIRFYxbTDtQ=  nSpvDsIsslUaX6GE6m6eQA==  49.0      0.0             0.0                15.0        15.0      03:16:15                  296                         outlook.com  0.0                                               3                                                1.0                                             7.0                                       izebina                            7                                   (-12.70323116472373, -38.414332400756905)   Radio-commercial   274-5919231           146795.0         BR-SP           33178              {'tags': ['n8', 'da', 'n19', 'n1', 'n10']}    Mozilla/5.0 (Linux; Android 7.0; Pixel C Build/NRD90M; wv) AppleWebKit/537.36 (KHTML, like Gecko) Version/4.0 Chrome/52.0.2743.98 Safari/537.362                fraud_friends_family    1\n",
              "84f1c4bf-c1fc-e9c1-cea5-78a1d8ae9bb5  True            e4NYDor1NOw6XKGE60AWFw==  NLvAOzzmJba/0zolQnWF5Q==  180.0    102.295466  0.415111  112.722852  0.49       11641.59              36.0                     5500.0        mLVIVxoGY7TUDJ1FyFoSIZi1SFcaBmO01AydRchaEiGYtUhXGgZjtNQMnUXIWhIhmLVIVxoGY7TUDJ1FyFoSIZi1SFcaBmO01AydRchaEiGbKj1Rdh2DKsMUnoNwZS+R  55019.13   True              ZVfsutsd1Go0zZEnGp0vEA==  aq62v2ctSeDofqdVkfOy6g==  NCqL3QBx0pscDnx3ixKwXg==  mLVIVxoGY7TUDJ1FyFoSIZi1SFcaBmO01AydRchaEiGYtUhXGgZjtNQMnUXIWhIhmLVIVxoGY7TUDJ1FyFoSIQ1hlLIU4o5tkbUFH5Vwwzs=  n+xK9CfX0bCn77lClTWviw==  1.0       0.0             0.0                7.0         6.0       23:08:54                  427                         gmail.com    0.0                                               3                                                0.0                                             18.0                                      cleitiano                          559                                 (-5.23377157714395, -37.34535407178499)     Waiting-list       294-4039690           55500000.0       BR-SP           49031              {'tags': ['dfa']}                             Mozilla/5.0 (Linux; Android 6.0.1; SGP771 Build/32.2.A.0.253; wv) AppleWebKit/537.36 (KHTML, like Gecko) Version/4.0 Chrome/52.0.2743.98 Safari/537.364         fraud_friends_family    1\n",
              "8dd5fd0f-69fe-83f9-6201-1ce6e45740d2  True            8k8UDR4Yx0qasAjkGrUZLw==  mX2VRRG38RPiHX+MfjefRw==  530.0    97.994042   0.878869  100.215742  0.38       4030.33               36.0                     0.0           mLVIVxoGY7TUDJ1FyFoSIZi1SFcaBmO01AydRchaEiGYtUhXGgZjtNQMnUXIWhIhmLVIVxoGY7TUDJ1FyFoSIcHY+gkmyyxknS4YFT78n3+zVVBmzuDU4F/6WOEx8L3Q  15508.19   True              OCoEDgPLpDjHcbEmPpAjvA==  lLe2iVfUFZSZusoGCZYB8A==  NCqL3QBx0pscDnx3ixKwXg==  mLVIVxoGY7TUDJ1FyFoSIZi1SFcaBmO01AydRchaEiGYtUhXGgZjtNQMnUXIWhIhmLVIVxoGY7TUDJ1FyFoSISQu7s5FG/a0Ngsgbk5z4Cs=  n+xK9CfX0bCn77lClTWviw==  36.0      0.0             0.0                6.0         6.0       06:40:12                  216                         gmail.com    0.0                                               2                                                0.0                                             1.0                                       natalina                           681                                 (-8.779837515244457, -63.85010119148049)    Instagram          754-7781020           86871.0          BR-SP           29071              {'tags': ['n13', 'n10', 'n8', 'n6', 'n12']}   Mozilla/5.0 (X11; Ubuntu; Linux x86_64; rv:15.0) Gecko/20100101 Firefox/15.0.12                                                                                 fraud_friends_family    1\n",
              "97fd6bf9-5ed0-5d26-2ac0-39e1d247fe03  False           4DLlLW62jReXaqbPaHp1vQ==  7h8PTkrlTWUPP3yuyP4rUg==  390.0    105.800495  0.940667  93.381737   0.19       10021.41              36.0                     0.0           mLVIVxoGY7TUDJ1FyFoSIZi1SFcaBmO01AydRchaEiGYtUhXGgZjtNQMnUXIWhIhmLVIVxoGY7TUDJ1FyFoSIZi1SFcaBmO01AydRchaEiGbKj1Rdh2DKsMUnoNwZS+R  65028.66   True              /L8vvVesB5WyAv190Hw/rQ==  UTaM5Yt+Bi6QpEs5Np0SuA==  NCqL3QBx0pscDnx3ixKwXg==  mLVIVxoGY7TUDJ1FyFoSIZi1SFcaBmO01AydRchaEiGYtUhXGgZjtNQMnUXIWhIhX74mnG2CQrzpisIJvcUmtup34qeCPt24fmOw8SUxa/o=  N5/CE7lSkAfB04hVFFwllw==  61.0      0.0             0.0                15.0        15.0      03:22:31                  182                         gmail.com    0.0                                               0                                                1.0                                             52.0                                      evancarla                          148                                 (-4.839858202787395, -38.09428851038243)    Website            761-6900314           155979.0         BR-SP           23606              {'tags': ['b19', 'dfa']}                      Mozilla/5.0 (Windows NT 10.0; Win64; x64) AppleWebKit/537.36 (KHTML, like Gecko) Chrome/42.0.2311.135 Safari/537.36 Edge/12.2467                                fraud_id                1\n",
              "aa59fbe9-f80e-c2f5-57c5-e8c42b48f636  True            8k8UDR4Yx0qasAjkGrUZLw==  mX2VRRG38RPiHX+MfjefRw==  310.0    101.316864  0.558751  84.933147   0.45       28028.36              60.0                     43834.0       mLVIVxoGY7TUDJ1FyFoSIZi1SFcaBmO01AydRchaEiGYtUhXGgZjtNQMnUXIWhIhmLVIVxoGY7TUDJ1FyFoSIRd8GOItgxlRAUGKcWd5xXCeKq5W600DOWmwjMTqsrAW  85014.89   False             xsd3ZdsI3356I3xMxZeiqQ==  HZbXSFDAy0yez8OSlU+evA==  NCqL3QBx0pscDnx3ixKwXg==  mLVIVxoGY7TUDJ1FyFoSIZi1SFcaBmO01AydRchaEiGYtUhXGgZjtNQMnUXIWhIhmLVIVxoGY7TUDJ1FyFoSIWEXgtCv+RRu7Duzjs1jspw=  n+xK9CfX0bCn77lClTWviw==  50.0      1.0             0.0                14.0        14.0      05:54:54                  419                         gmail.com    0.0                                               3                                                0.0                                             2.0                                       araken                             569                                 (-5.105861253840971, -38.35149984446606)    Website            229-5522935           186897.0         BR-SP           20569              {'tags': ['n15']}                             Mozilla/5.0 (Linux; Android 7.0; Pixel C Build/NRD90M; wv) AppleWebKit/537.36 (KHTML, like Gecko) Version/4.0 Chrome/52.0.2743.98 Safari/537.364                fraud_id                1\n",
              "b0f836b6-45f8-c8b5-cd62-cdad251b3005  True            1Rk8w4Ucd5yR3KcqZzLdow==  rJZgTmANW3PjOCQLCcp4iQ==  330.0    101.315161  0.366136  94.884936   0.20       19571.99              60.0                     0.0           mLVIVxoGY7TUDJ1FyFoSIZi1SFcaBmO01AydRchaEiGYtUhXGgZjtNQMnUXIWhIhmLVIVxoGY7TUDJ1FyFoSIW76/BS2rZFHqQxXY+8F9NKu9aZ57vT61+K2XFrHtvT9  58042.75   True              1DpYl6dtzY0qE33poow3iw==  IvtRWE7TLKqrAj9T90HrUg==  NCqL3QBx0pscDnx3ixKwXg==  mLVIVxoGY7TUDJ1FyFoSIZi1SFcaBmO01AydRchaEiGYtUhXGgZjtNQMnUXIWhIhAPIrjcpWNSBx5BqJRfD3mFv41RxvfuIkzyqmXI7zMvU=  N5/CE7lSkAfB04hVFFwllw==  11.0      0.0             0.0                11.0        11.0      24:24:39                  65                          gmail.com    0.0                                               1                                                0.0                                             5.0                                       delmacio                           116                                 (-5.200544975238949, -37.369493293143066)   Invite-web         139-6326200           100030.0         BR-SP           14912              {'tags': ['c55', 'n8', 'nim', 'da']}          Mozilla/5.0 (iPhone; CPU iPhone OS 11_0 like Mac OS X) AppleWebKit/604.1.34 (KHTML, like Gecko) Version/11.0 Mobile/15A5341f Safari/604.18                      fraud_friends_family    1\n",
              "c9db5db1-7414-551a-0682-1e01be2b4cf9  True            1Rk8w4Ucd5yR3KcqZzLdow==  dCm9hFKfdRm7ej3jW+gyxw==  450.0    101.253913  0.072031  96.245604   0.24       24950.20              60.0                     87415.0       mLVIVxoGY7TUDJ1FyFoSIZi1SFcaBmO01AydRchaEiGYtUhXGgZjtNQMnUXIWhIhmLVIVxoGY7TUDJ1FyFoSIdSFFmSLlUwDY9igJfbhE1dqD9MxsHg8kc2nAUkSBQjr  80027.02   False             xsd3ZdsI3356I3xMxZeiqQ==  3k2JCQ8Bp5oDwaI39ZJgHA==  NCqL3QBx0pscDnx3ixKwXg==  mLVIVxoGY7TUDJ1FyFoSIZi1SFcaBmO01AydRchaEiGYtUhXGgZjtNQMnUXIWhIhmLVIVxoGY7TUDJ1FyFoSIZ3I7CwsOD1IiPwuyvNH83s=  n+xK9CfX0bCn77lClTWviw==  20.0      0.0             0.0                19.0        19.0      06:12:07                  410                         gmail.com    0.0                                               1                                                0.0                                             13.0                                      joffre                             742                                 (-5.027303961218093, -37.712381028036354)   Website            284-9607841           145082.0         BR-GO           37156              {'tags': ['a15']}                             Mozilla/5.0 (Linux; Android 5.0.2; SAMSUNG SM-T550 Build/LRX22G) AppleWebKit/537.36 (KHTML, like Gecko) SamsungBrowser/3.3 Chrome/38.0.2125.102 Safari/537.369  fraud_friends_family    1\n",
              "d1986407-c8bb-0aed-e47a-2340e8a397d1  True            8k8UDR4Yx0qasAjkGrUZLw==  d/7Hedyz7ovK9Pn1CYN4+A==  310.0    96.758397   0.017228  99.894970   0.47       15008.29              36.0                     0.0           mLVIVxoGY7TUDJ1FyFoSIZi1SFcaBmO01AydRchaEiGYtUhXGgZjtNQMnUXIWhIhmLVIVxoGY7TUDJ1FyFoSIXuusuYraWV4rGB3v/7WqHKeKq5W600DOWmwjMTqsrAW  50014.51   False             rrVbgRNTRyB6auEycsRrpA==  MGre4t/HXqyRfPOprm3izA==  NCqL3QBx0pscDnx3ixKwXg==  mLVIVxoGY7TUDJ1FyFoSIZi1SFcaBmO01AydRchaEiGYtUhXGgZjtNQMnUXIWhIhh3pLe6gVZgoco/GuqZTaMfvCZTyHi/ozu0bZn3Kkb8M=  N5/CE7lSkAfB04hVFFwllw==  10.0      0.0             0.0                10.0        10.0      05:19:52                  201                         gmail.com    0.0                                               1                                                0.0                                             49.0                                      herlonjaques                       537                                 (-5.23377157714395, -37.34535407178499)     Invite-web         726-7638375           94068.0          BR-BA           53904              {'tags': ['n16']}                             Mozilla/5.0 (Linux; Android 4.4.3; KFTHWI Build/KTU84M) AppleWebKit/537.36 (KHTML, like Gecko) Silk/47.1.79 like Chrome/47.0.2526.80 Safari/537.369             fraud_friends_family    1\n",
              "d448c1e0-925f-ec98-767b-938d8438703e  True            1Rk8w4Ucd5yR3KcqZzLdow==  /tdlnWjXoZ3OjdtBXzdOJQ==  340.0    102.096935  0.913499  89.475462   0.27       15016.12              36.0                     40210.0       mLVIVxoGY7TUDJ1FyFoSIZi1SFcaBmO01AydRchaEiGYtUhXGgZjtNQMnUXIWhIhmLVIVxoGY7TUDJ1FyFoSIZi1SFcaBmO01AydRchaEiGcnw3wb0YiG5XwePfXOMWC  54024.95   False             P1TKs1aii8osbgO+MszZ2w==  r3ekt+aj3O3sPA5ceTzJyA==  NCqL3QBx0pscDnx3ixKwXg==  mLVIVxoGY7TUDJ1FyFoSIZi1SFcaBmO01AydRchaEiGYtUhXGgZjtNQMnUXIWhIhmLVIVxoGY7TUDJ1FyFoSIdSRc/WPGyzmA/GpEBRO3k0=  N5/CE7lSkAfB04hVFFwllw==  73.0      0.0             0.0                13.0        13.0      00:59:43                  486                         outlook.com  0.0                                               0                                                0.0                                             2.0                                       lindomarcio                        935                                 (-5.230424878911747, -37.41397894581111)    Waiting-list       106-7866613           1209.0           BR-AM           46063              {'tags': ['n11', 'n1', 'n15']}                Mozilla/5.0 (Apple-iPhone7C2/1202.466; U; CPU like Mac OS X; en) AppleWebKit/420+ (KHTML, like Gecko) Version/3.0 Mobile/1A543 Safari/419.36                    fraud_friends_family    1\n",
              "d7c09865-20e5-2839-9446-e38a0a10c569  True            fyrlulOiZ+5hoFqLa6UbDQ==  +2hzpeP1RWr8PEvL1WTUdw==  370.0    100.850115  0.572050  110.933197  0.32       30012.39              60.0                     125545.0      mLVIVxoGY7TUDJ1FyFoSIZi1SFcaBmO01AydRchaEiGYtUhXGgZjtNQMnUXIWhIhmLVIVxoGY7TUDJ1FyFoSIXljGf8wzY1ObI684EE3hpId6YFFMM7gsH+3JFh/TGGg  140031.61  False             1vMmtGURgMcjxQbV2KQiUw==  xKFbYDl5iprg13oyD/ZSUA==  NCqL3QBx0pscDnx3ixKwXg==  mLVIVxoGY7TUDJ1FyFoSIZi1SFcaBmO01AydRchaEiGYtUhXGgZjtNQMnUXIWhIhHn2Nh7Ra89TLykxI/PSEfowuQIMU4oKEYAy6sZV8HTc=  N5/CE7lSkAfB04hVFFwllw==  38.0      1.0             0.0                14.0        14.0      02:28:19                  327                         spgov.com    0.0                                               0                                                1.0                                             0.0                                       giuseppe                           133                                 (-5.024960546488124, -37.07012950093294)    Twitter            142-7095570           55500000.0       BR-PR           50393              {'tags': ['n15', 'aty', 'nim']}               Mozilla/5.0 (Windows NT 6.1; WOW64) AppleWebKit/537.36 (KHTML, like Gecko) Chrome/47.0.2526.111 Safari/537.367                                                  fraud_friends_family    1\n",
              "dbcedf9d-daee-7e3a-a109-a816a4d7a191  True            e4NYDor1NOw6XKGE60AWFw==  NLvAOzzmJba/0zolQnWF5Q==  400.0    100.412321  0.392182  116.197107  0.24       15013.32              36.0                     5250.0        mLVIVxoGY7TUDJ1FyFoSIZi1SFcaBmO01AydRchaEiGYtUhXGgZjtNQMnUXIWhIhmLVIVxoGY7TUDJ1FyFoSIZi1SFcaBmO01AydRchaEiHaIjUSZXP2epclI8HpCyhx  48008.94   False             /EoxQEzy1PWWTtv6DNwr2w==  T1gWYiMFG+KjE1K3DIt5pg==  NCqL3QBx0pscDnx3ixKwXg==  mLVIVxoGY7TUDJ1FyFoSIZi1SFcaBmO01AydRchaEiGYtUhXGgZjtNQMnUXIWhIhABLIbQrUuVmklS+gOnQaGkF1uzvB1L1TsokJNBLlJ4U=  n+xK9CfX0bCn77lClTWviw==  66.0      0.0             0.0                9.0         9.0       05:16:34                  428                         gmail.com    0.0                                               2                                                1.0                                             43.0                                      krytpytiti                         922                                 (-17.37996407173726, -42.865003649804024)   Website            120-7070334           82257.0          BR-SP           23721              {'tags': ['n5']}                              Mozilla/5.0 (X11; CrOS x86_64 8172.45.0) AppleWebKit/537.36 (KHTML, like Gecko) Chrome/51.0.2704.64 Safari/537.363                                              fraud_id                1\n",
              "f1b7a81f-e511-7f51-6e4c-cf00cc46d4d3  True            1Rk8w4Ucd5yR3KcqZzLdow==  dCm9hFKfdRm7ej3jW+gyxw==  230.0    97.495019   0.971747  101.980572  0.22       18415.24              60.0                     4211.0        mLVIVxoGY7TUDJ1FyFoSIZi1SFcaBmO01AydRchaEiGYtUhXGgZjtNQMnUXIWhIhmLVIVxoGY7TUDJ1FyFoSIXuusuYraWV4rGB3v/7WqHIRsMoD5e3RXcnWOgQJkT1p  54003.40   False             ygE7OTdsxRMLeXMa0EZwZw==  1kpZTkvYPSA2xUnaTJu+0A==  NCqL3QBx0pscDnx3ixKwXg==  mLVIVxoGY7TUDJ1FyFoSIZi1SFcaBmO01AydRchaEiGYtUhXGgZjtNQMnUXIWhIhmLVIVxoGY7TUDJ1FyFoSIe1DC9nAiLHfcUfpk8NdBZA=  N5/CE7lSkAfB04hVFFwllw==  34.0      0.0             0.0                11.0        11.0      01:04:11                  436                         gmail.com    0.0                                               3                                                1.0                                             11.0                                      laudjane                           941                                 (-18.531700208291944, -43.456517835222655)  Website            178-3726028           71054.0          BR-PA           45982              {'tags': ['n10', 'nim']}                      Mozilla/5.0 (Linux; Android 4.4.3; KFTHWI Build/KTU84M) AppleWebKit/537.36 (KHTML, like Gecko) Silk/47.1.79 like Chrome/47.0.2526.80 Safari/537.366             fraud_friends_family    1\n",
              "002b83b9-302c-1b64-f441-cfa545803746  True            e4NYDor1NOw6XKGE60AWFw==  A+QuW1n/ABeiVVe/9CRZ9Q==  540.0    100.738462  0.261940  93.797211   0.35       17101.03              60.0                     21765.0       mLVIVxoGY7TUDJ1FyFoSIZi1SFcaBmO01AydRchaEiGYtUhXGgZjtNQMnUXIWhIhmLVIVxoGY7TUDJ1FyFoSIXuusuYraWV4rGB3v/7WqHIRsMoD5e3RXcnWOgQJkT1p  40019.36   True              rrVbgRNTRyB6auEycsRrpA==  +SS6hjDwJ2sxbGOQn42TIQ==  NCqL3QBx0pscDnx3ixKwXg==  mLVIVxoGY7TUDJ1FyFoSIZi1SFcaBmO01AydRchaEiGYtUhXGgZjtNQMnUXIWhIh7ltUJpmtaqw+jgyXQ+wblaIBd6/rwCNmnsz/bp8EBbE=  n+xK9CfX0bCn77lClTWviw==  10.0      0.0             0.0                5.0         5.0       22:42:40                  341                         gmail.com    0.0                                               3                                                1.0                                             32.0                                      genizio                            537                                 (-4.965565205636985, -37.7506490407695)     Invite-web         271-1340493           120075.0         BR-RR           30829              {'tags': ['n3', 'n8']}                        Mozilla/5.0 (Windows NT 6.1; WOW64) AppleWebKit/537.36 (KHTML, like Gecko) Chrome/47.0.2526.111 Safari/537.368                                                  fraud_friends_family    1\n",
              "dtype: int64"
            ]
          },
          "metadata": {
            "tags": []
          },
          "execution_count": 32
        }
      ]
    },
    {
      "cell_type": "code",
      "metadata": {
        "colab": {
          "base_uri": "https://localhost:8080/"
        },
        "id": "VKBkcmxtaTaG",
        "outputId": "7a2092b4-f4cc-424b-93c0-6f0a93a8597b"
      },
      "source": [
        "# Verificar os valores únicos de cada coluna\n",
        "print(\"\\nVALORES ÚNICOS:\")\n",
        "print(df.nunique().sort_values())"
      ],
      "execution_count": null,
      "outputs": [
        {
          "output_type": "stream",
          "text": [
            "\n",
            "VALORES ÚNICOS:\n",
            "external_data_provider_credit_checks_last_2_year        1\n",
            "channel                                                 1\n",
            "target_fraud                                            2\n",
            "target_default                                          2\n",
            "external_data_provider_credit_checks_last_year          2\n",
            "facebook_profile                                        2\n",
            "last_borrowed_in_months                                 2\n",
            "external_data_provider_credit_checks_last_month         4\n",
            "n_defaulted_loans                                       5\n",
            "real_state                                              5\n",
            "email                                                   6\n",
            "n_bankruptcies                                          6\n",
            "score_1                                                 7\n",
            "marketing_channel                                       9\n",
            "shipping_state                                         25\n",
            "score_2                                                35\n",
            "n_issues                                               44\n",
            "n_accounts                                             44\n",
            "state                                                  50\n",
            "external_data_provider_email_seen_before               62\n",
            "risk_rate                                              82\n",
            "score_3                                                88\n",
            "ok_since                                              100\n",
            "user_agent                                            297\n",
            "application_time_in_funnel                            501\n",
            "zip                                                   823\n",
            "external_data_provider_fraud_score                   1001\n",
            "last_amount_borrowed                                14325\n",
            "reason                                              14874\n",
            "credit_limit                                        20928\n",
            "lat_lon                                             22412\n",
            "profile_tags                                        26131\n",
            "shipping_zip_code                                   28263\n",
            "job_name                                            32265\n",
            "external_data_provider_first_name                   32886\n",
            "application_time_applied                            35543\n",
            "reported_income                                     40025\n",
            "income                                              41211\n",
            "score_4                                             45000\n",
            "score_5                                             45000\n",
            "score_6                                             45000\n",
            "profile_phone_number                                45000\n",
            "ids                                                 45000\n",
            "dtype: int64\n"
          ],
          "name": "stdout"
        }
      ]
    },
    {
      "cell_type": "code",
      "metadata": {
        "colab": {
          "base_uri": "https://localhost:8080/",
          "height": 369
        },
        "id": "kx18r-Mh6BFv",
        "outputId": "a808f9d5-62d4-4b32-87a5-5027b5ab1d48"
      },
      "source": [
        "# Balanceamento do dataset\n",
        "print(df.target_default.value_counts())\n",
        "fig, ax = plt.subplots()\n",
        "sns.countplot('target_default', data=df, ax=ax)\n",
        "ax.set_title('Distribuição de inadimplência')\n",
        "plt.plot()"
      ],
      "execution_count": null,
      "outputs": [
        {
          "output_type": "stream",
          "text": [
            "False    35080\n",
            "True      6661\n",
            "Name: target_default, dtype: int64\n"
          ],
          "name": "stdout"
        },
        {
          "output_type": "execute_result",
          "data": {
            "text/plain": [
              "[]"
            ]
          },
          "metadata": {
            "tags": []
          },
          "execution_count": 34
        },
        {
          "output_type": "display_data",
          "data": {
            "image/png": "[encoded data removed]",
            "text/plain": [
              "<Figure size 432x288 with 1 Axes>"
            ]
          },
          "metadata": {
            "tags": []
          }
        }
      ]
    },
    {
      "cell_type": "code",
      "metadata": {
        "colab": {
          "base_uri": "https://localhost:8080/",
          "height": 786
        },
        "id": "cjPVKWJU7KPv",
        "outputId": "e72c4a6d-43b6-497b-8669-aa0d32fe5b22"
      },
      "source": [
        "# Plotar bloxplot para análise de outliers\n",
        "f, ax = plt.subplots(figsize=(7, 6))\n",
        "sns.boxplot(x=\"target_default\", y=\"credit_limit\", data=df,whis=[0, 100], width=.6, palette=\"vlag\")\n",
        "plt.ylim((-20, 500000))\n",
        "sns.stripplot(x=\"target_default\", y=\"credit_limit\", data=df,size=4, color=\".3\", linewidth=0)\n",
        "ax.xaxis.grid(True)\n",
        "ax.set(ylabel=\"credit_limit\")\n",
        "sns.despine(trim=True, left=True)\n",
        "\n",
        "f, ax = plt.subplots(figsize=(7, 6))\n",
        "sns.boxplot(x=\"target_default\", y=\"income\", data=df,whis=[0, 100], width=.6, palette=\"vlag\")\n",
        "plt.ylim((-20, 1000000))\n",
        "sns.stripplot(x=\"target_default\", y=\"income\", data=df,size=4, color=\".3\", linewidth=0)\n",
        "ax.xaxis.grid(True)\n",
        "ax.set(ylabel=\"income\")\n",
        "sns.despine(trim=True, left=True)"
      ],
      "execution_count": null,
      "outputs": [
        {
          "output_type": "display_data",
          "data": {
            "image/png": "[encoded data removed]",
            "text/plain": [
              "<Figure size 504x432 with 1 Axes>"
            ]
          },
          "metadata": {
            "tags": []
          }
        },
        {
          "output_type": "display_data",
          "data": {
            "image/png": "[encoded data removed]",
            "text/plain": [
              "<Figure size 504x432 with 1 Axes>"
            ]
          },
          "metadata": {
            "tags": []
          }
        }
      ]
    },
    {
      "cell_type": "code",
      "metadata": {
        "colab": {
          "base_uri": "https://localhost:8080/",
          "height": 700
        },
        "id": "jsM5gXvi8xuW",
        "outputId": "5ffcf25e-0580-4f6b-fcf5-0286c148ca2d"
      },
      "source": [
        "# Estudar a correlação entre as variáveis\n",
        "sns.set_theme(style=\"whitegrid\")\n",
        "used_columns = (df.columns)\n",
        "df = df.loc[:, used_columns]\n",
        "corr_mat = df.corr().stack().reset_index(name=\"correlation\")\n",
        "g = sns.relplot(\n",
        "    data=corr_mat,\n",
        "    x=\"level_0\", y=\"level_1\", hue=\"correlation\", size=\"correlation\",\n",
        "    palette=\"vlag\", hue_norm=(-1, 1), edgecolor=\".7\",\n",
        "    height=10, sizes=(50, 250), size_norm=(-.2, .8),\n",
        ")\n",
        "g.set(xlabel=\"\", ylabel=\"\", aspect=\"equal\")\n",
        "g.despine(left=True, bottom=True)\n",
        "g.ax.margins(.02)\n",
        "for label in g.ax.get_xticklabels():\n",
        "    label.set_rotation(90)\n",
        "for artist in g.legend.legendHandles:\n",
        "    artist.set_edgecolor(\".7\")"
      ],
      "execution_count": null,
      "outputs": [
        {
          "output_type": "display_data",
          "data": {
            "image/png": "[encoded data removed]",
            "text/plain": [
              "<Figure size 793.3x720 with 1 Axes>"
            ]
          },
          "metadata": {
            "tags": []
          }
        }
      ]
    },
    {
      "cell_type": "markdown",
      "metadata": {
        "id": "riixEuAMALwb"
      },
      "source": [
        "Ao passar por toda essa análise exploratória, conseguimos perceber que:\n",
        "\n",
        "* O dataset possui, 43 colunas (variáveis) e 45000 linhas (entradas);\n",
        "* Temos variáveis do tipo 'object' , 'int' e 'float';\n",
        "* O dataset apresenta muitos valores ausentes em algumas colunas. Será necessário um tratamento para as mesmas;\n",
        "* Há algumas colunas com entradas codificadas, sem valor para nossa análise, estas irão ser excluídas;\n",
        "* A variável alvo é 'target_default', percebemos que o dataset está desbalanceado;\n",
        "* Algumas variáveis, devem ser transformadas para numéricas;\n",
        "* Há possíveis outliers nas variáveis 'credit_limit' e 'income';\n",
        "\n",
        "**Neste resumo acima, conseguimos extrair informações extremamente relevantes do dataset em questão. Vamos dar sequência no trabalho fazendo uma preparação e limpeza do nosso dataset, pois, descobrimos diversos pontos que precisam ser tratados no mesmo para, assim, conseguirmos montar um modelo de machine learning.**"
      ]
    },
    {
      "cell_type": "markdown",
      "metadata": {
        "id": "iqx6mXYEG06P"
      },
      "source": [
        "## Preparação dos Dados\n",
        "\n",
        "Nesta etapa vamos focar em fazer os seguintes comandos:\n",
        "\n",
        "* Criar uma cópia do dataset original;\n",
        "* Eliminar colunas que não contém informações úteis;\n",
        "* Tratar os valores ausentes;\n",
        "* Transformar coluna 'lat_lon' em númerica;\n",
        "* Alterar as variáveis categóricas para numéricas;\n",
        "* Balancear o conjunto de dados;\n",
        "* Dividir o conjunto de dados entre treino e teste;\n",
        "* Fazer nova matriz de correlação."
      ]
    },
    {
      "cell_type": "code",
      "metadata": {
        "colab": {
          "base_uri": "https://localhost:8080/",
          "height": 309
        },
        "id": "L6rn6btLHHzU",
        "outputId": "84a2266c-d712-4582-8d13-2df91c5e32c1"
      },
      "source": [
        "# Criar uma cópia do dataset\n",
        "df_clean = df.copy()\n",
        "\n",
        "# Eliminar colunas que não contém informações úteis para o modelo\n",
        "df_clean = df_clean.drop([\"ids\" , \"score_1\" , \"score_2\" , \"reason\" , \"state\" , \"zip\" , \"channel\" , \"job_name\" , \"real_state\" , \"application_time_applied\" ,\n",
        "                          \"external_data_provider_first_name\" , \"profile_phone_number\" , \"profile_tags\" , \"user_agent\" , \"target_fraud\" , \n",
        "                          \"shipping_state\" , \"marketing_channel\" , \"external_data_provider_credit_checks_last_2_year\"], axis=1)\n",
        "\n",
        "#  substituir -999 em external_data_provider_email_seen_before por NaN\n",
        "df_clean.loc[df_clean['external_data_provider_email_seen_before'] == -999.0,\n",
        "             'external_data_provider_email_seen_before'] = np.nan\n",
        "\n",
        "# substituir inf por nan em reported_income \n",
        "df_clean['reported_income'] = df_clean['reported_income'].replace(np.inf,\n",
        "                                                                  np.nan)\n",
        "# Verificar dataset modificado\n",
        "df_clean.head()"
      ],
      "execution_count": null,
      "outputs": [
        {
          "output_type": "execute_result",
          "data": {
            "text/html": [
              "<div>\n",
              "<style scoped>\n",
              "    .dataframe tbody tr th:only-of-type {\n",
              "        vertical-align: middle;\n",
              "    }\n",
              "\n",
              "    .dataframe tbody tr th {\n",
              "        vertical-align: top;\n",
              "    }\n",
              "\n",
              "    .dataframe thead th {\n",
              "        text-align: right;\n",
              "    }\n",
              "</style>\n",
              "<table border=\"1\" class=\"dataframe\">\n",
              "  <thead>\n",
              "    <tr style=\"text-align: right;\">\n",
              "      <th></th>\n",
              "      <th>target_default</th>\n",
              "      <th>score_3</th>\n",
              "      <th>score_4</th>\n",
              "      <th>score_5</th>\n",
              "      <th>score_6</th>\n",
              "      <th>risk_rate</th>\n",
              "      <th>last_amount_borrowed</th>\n",
              "      <th>last_borrowed_in_months</th>\n",
              "      <th>credit_limit</th>\n",
              "      <th>income</th>\n",
              "      <th>facebook_profile</th>\n",
              "      <th>ok_since</th>\n",
              "      <th>n_bankruptcies</th>\n",
              "      <th>n_defaulted_loans</th>\n",
              "      <th>n_accounts</th>\n",
              "      <th>n_issues</th>\n",
              "      <th>application_time_in_funnel</th>\n",
              "      <th>email</th>\n",
              "      <th>external_data_provider_credit_checks_last_month</th>\n",
              "      <th>external_data_provider_credit_checks_last_year</th>\n",
              "      <th>external_data_provider_email_seen_before</th>\n",
              "      <th>external_data_provider_fraud_score</th>\n",
              "      <th>lat_lon</th>\n",
              "      <th>reported_income</th>\n",
              "      <th>shipping_zip_code</th>\n",
              "    </tr>\n",
              "  </thead>\n",
              "  <tbody>\n",
              "    <tr>\n",
              "      <th>0</th>\n",
              "      <td>False</td>\n",
              "      <td>350.0</td>\n",
              "      <td>101.800832</td>\n",
              "      <td>0.259555</td>\n",
              "      <td>108.427273</td>\n",
              "      <td>0.40</td>\n",
              "      <td>25033.92</td>\n",
              "      <td>36.0</td>\n",
              "      <td>0.0</td>\n",
              "      <td>65014.12</td>\n",
              "      <td>True</td>\n",
              "      <td>NaN</td>\n",
              "      <td>0.0</td>\n",
              "      <td>0.0</td>\n",
              "      <td>18.0</td>\n",
              "      <td>18.0</td>\n",
              "      <td>444</td>\n",
              "      <td>outlook.com</td>\n",
              "      <td>2</td>\n",
              "      <td>0.0</td>\n",
              "      <td>51.0</td>\n",
              "      <td>645</td>\n",
              "      <td>(-29.151545708122246, -51.1386461804385)</td>\n",
              "      <td>57849.0</td>\n",
              "      <td>17528</td>\n",
              "    </tr>\n",
              "    <tr>\n",
              "      <th>1</th>\n",
              "      <td>False</td>\n",
              "      <td>370.0</td>\n",
              "      <td>97.062615</td>\n",
              "      <td>0.942655</td>\n",
              "      <td>92.002546</td>\n",
              "      <td>0.24</td>\n",
              "      <td>NaN</td>\n",
              "      <td>NaN</td>\n",
              "      <td>39726.0</td>\n",
              "      <td>100018.91</td>\n",
              "      <td>False</td>\n",
              "      <td>50.0</td>\n",
              "      <td>0.0</td>\n",
              "      <td>0.0</td>\n",
              "      <td>14.0</td>\n",
              "      <td>14.0</td>\n",
              "      <td>346</td>\n",
              "      <td>gmail.com</td>\n",
              "      <td>1</td>\n",
              "      <td>0.0</td>\n",
              "      <td>17.0</td>\n",
              "      <td>243</td>\n",
              "      <td>(-19.687710705798963, -47.94151536525154)</td>\n",
              "      <td>4902.0</td>\n",
              "      <td>40933</td>\n",
              "    </tr>\n",
              "    <tr>\n",
              "      <th>2</th>\n",
              "      <td>True</td>\n",
              "      <td>360.0</td>\n",
              "      <td>100.027073</td>\n",
              "      <td>0.351918</td>\n",
              "      <td>112.892453</td>\n",
              "      <td>0.29</td>\n",
              "      <td>7207.92</td>\n",
              "      <td>36.0</td>\n",
              "      <td>NaN</td>\n",
              "      <td>65023.65</td>\n",
              "      <td>NaN</td>\n",
              "      <td>NaN</td>\n",
              "      <td>0.0</td>\n",
              "      <td>0.0</td>\n",
              "      <td>10.0</td>\n",
              "      <td>NaN</td>\n",
              "      <td>6</td>\n",
              "      <td>gmail.com</td>\n",
              "      <td>2</td>\n",
              "      <td>NaN</td>\n",
              "      <td>9.0</td>\n",
              "      <td>65</td>\n",
              "      <td>(-28.748023890412284, -51.867279334353995)</td>\n",
              "      <td>163679.0</td>\n",
              "      <td>50985</td>\n",
              "    </tr>\n",
              "    <tr>\n",
              "      <th>3</th>\n",
              "      <td>False</td>\n",
              "      <td>510.0</td>\n",
              "      <td>101.599485</td>\n",
              "      <td>0.987673</td>\n",
              "      <td>94.902491</td>\n",
              "      <td>0.32</td>\n",
              "      <td>NaN</td>\n",
              "      <td>NaN</td>\n",
              "      <td>54591.0</td>\n",
              "      <td>68830.01</td>\n",
              "      <td>False</td>\n",
              "      <td>NaN</td>\n",
              "      <td>1.0</td>\n",
              "      <td>0.0</td>\n",
              "      <td>19.0</td>\n",
              "      <td>19.0</td>\n",
              "      <td>406</td>\n",
              "      <td>spgov.com</td>\n",
              "      <td>3</td>\n",
              "      <td>NaN</td>\n",
              "      <td>38.0</td>\n",
              "      <td>815</td>\n",
              "      <td>(-17.520650158450454, -39.75801139933186)</td>\n",
              "      <td>1086.0</td>\n",
              "      <td>37825</td>\n",
              "    </tr>\n",
              "    <tr>\n",
              "      <th>4</th>\n",
              "      <td>False</td>\n",
              "      <td>500.0</td>\n",
              "      <td>98.474289</td>\n",
              "      <td>0.532539</td>\n",
              "      <td>118.126207</td>\n",
              "      <td>0.18</td>\n",
              "      <td>NaN</td>\n",
              "      <td>NaN</td>\n",
              "      <td>NaN</td>\n",
              "      <td>60011.29</td>\n",
              "      <td>True</td>\n",
              "      <td>NaN</td>\n",
              "      <td>0.0</td>\n",
              "      <td>0.0</td>\n",
              "      <td>11.0</td>\n",
              "      <td>NaN</td>\n",
              "      <td>240</td>\n",
              "      <td>gmail.com</td>\n",
              "      <td>2</td>\n",
              "      <td>1.0</td>\n",
              "      <td>46.0</td>\n",
              "      <td>320</td>\n",
              "      <td>(-16.574259446978008, -39.90990074785962)</td>\n",
              "      <td>198618.0</td>\n",
              "      <td>52827</td>\n",
              "    </tr>\n",
              "  </tbody>\n",
              "</table>\n",
              "</div>"
            ],
            "text/plain": [
              "  target_default  score_3  ...  reported_income  shipping_zip_code\n",
              "0          False    350.0  ...          57849.0              17528\n",
              "1          False    370.0  ...           4902.0              40933\n",
              "2           True    360.0  ...         163679.0              50985\n",
              "3          False    510.0  ...           1086.0              37825\n",
              "4          False    500.0  ...         198618.0              52827\n",
              "\n",
              "[5 rows x 25 columns]"
            ]
          },
          "metadata": {
            "tags": []
          },
          "execution_count": 37
        }
      ]
    },
    {
      "cell_type": "code",
      "metadata": {
        "id": "SMNG235FNBHk"
      },
      "source": [
        "# Substituir valores ausentes\n",
        "from sklearn.impute import SimpleImputer\n",
        "\n",
        "num_df = df_clean.select_dtypes(exclude='object').columns\n",
        "cat_df = df_clean.select_dtypes(include='object').columns\n",
        "\n",
        "# substituição de valores ausentes\n",
        "df_clean.last_amount_borrowed.fillna(value=0, inplace=True)\n",
        "df_clean.last_borrowed_in_months.fillna(value=0, inplace=True)\n",
        "df_clean.n_issues.fillna(value=0, inplace=True)\n",
        "\n",
        "# variáveis numéricas\n",
        "imputer = SimpleImputer(missing_values=np.nan, strategy='median')\n",
        "imputer = imputer.fit(df_clean.loc[:,num_df])\n",
        "df_clean.loc[:,num_df] = imputer.transform(df_clean.loc[:,num_df])\n",
        "\n",
        "# variáveis categóricas\n",
        "imputer = SimpleImputer(missing_values=np.nan, strategy='most_frequent')\n",
        "imputer = imputer.fit(df_clean.loc[:,cat_df])\n",
        "df_clean.loc[:,cat_df] = imputer.transform(df_clean.loc[:,cat_df])"
      ],
      "execution_count": null,
      "outputs": []
    },
    {
      "cell_type": "code",
      "metadata": {
        "colab": {
          "base_uri": "https://localhost:8080/"
        },
        "id": "NR2e3IeWzAJN",
        "outputId": "39925069-570a-4bf4-8ec8-a43447e23ae0"
      },
      "source": [
        "# Verificar os valores ausentes\n",
        "df_clean.isnull().sum() / df_clean.shape[0]"
      ],
      "execution_count": null,
      "outputs": [
        {
          "output_type": "execute_result",
          "data": {
            "text/plain": [
              "target_default                                     0.0\n",
              "score_3                                            0.0\n",
              "score_4                                            0.0\n",
              "score_5                                            0.0\n",
              "score_6                                            0.0\n",
              "risk_rate                                          0.0\n",
              "last_amount_borrowed                               0.0\n",
              "last_borrowed_in_months                            0.0\n",
              "credit_limit                                       0.0\n",
              "income                                             0.0\n",
              "facebook_profile                                   0.0\n",
              "ok_since                                           0.0\n",
              "n_bankruptcies                                     0.0\n",
              "n_defaulted_loans                                  0.0\n",
              "n_accounts                                         0.0\n",
              "n_issues                                           0.0\n",
              "application_time_in_funnel                         0.0\n",
              "email                                              0.0\n",
              "external_data_provider_credit_checks_last_month    0.0\n",
              "external_data_provider_credit_checks_last_year     0.0\n",
              "external_data_provider_email_seen_before           0.0\n",
              "external_data_provider_fraud_score                 0.0\n",
              "lat_lon                                            0.0\n",
              "reported_income                                    0.0\n",
              "shipping_zip_code                                  0.0\n",
              "dtype: float64"
            ]
          },
          "metadata": {
            "tags": []
          },
          "execution_count": 39
        }
      ]
    },
    {
      "cell_type": "code",
      "metadata": {
        "id": "dIjwpHmO3Jj4",
        "colab": {
          "base_uri": "https://localhost:8080/",
          "height": 224
        },
        "outputId": "0b7673a1-5d26-4388-d9a1-9c6efc3bd6b2"
      },
      "source": [
        "# Separar a coluna 'lat_lon'\n",
        "divisao = df_clean['lat_lon'].str.split(',')\n",
        "divisao.head()\n",
        "lat = divisao.str.get(0)\n",
        "lon = divisao.str.get(1)\n",
        "df_clean[\"lat\"] = lat\n",
        "df_clean[\"lon\"] = lon\n",
        "df_clean = df_clean.drop(['lat_lon'] , axis=1)\n",
        "df_clean.head()"
      ],
      "execution_count": null,
      "outputs": [
        {
          "output_type": "execute_result",
          "data": {
            "text/html": [
              "<div>\n",
              "<style scoped>\n",
              "    .dataframe tbody tr th:only-of-type {\n",
              "        vertical-align: middle;\n",
              "    }\n",
              "\n",
              "    .dataframe tbody tr th {\n",
              "        vertical-align: top;\n",
              "    }\n",
              "\n",
              "    .dataframe thead th {\n",
              "        text-align: right;\n",
              "    }\n",
              "</style>\n",
              "<table border=\"1\" class=\"dataframe\">\n",
              "  <thead>\n",
              "    <tr style=\"text-align: right;\">\n",
              "      <th></th>\n",
              "      <th>target_default</th>\n",
              "      <th>score_3</th>\n",
              "      <th>score_4</th>\n",
              "      <th>score_5</th>\n",
              "      <th>score_6</th>\n",
              "      <th>risk_rate</th>\n",
              "      <th>last_amount_borrowed</th>\n",
              "      <th>last_borrowed_in_months</th>\n",
              "      <th>credit_limit</th>\n",
              "      <th>income</th>\n",
              "      <th>facebook_profile</th>\n",
              "      <th>ok_since</th>\n",
              "      <th>n_bankruptcies</th>\n",
              "      <th>n_defaulted_loans</th>\n",
              "      <th>n_accounts</th>\n",
              "      <th>n_issues</th>\n",
              "      <th>application_time_in_funnel</th>\n",
              "      <th>email</th>\n",
              "      <th>external_data_provider_credit_checks_last_month</th>\n",
              "      <th>external_data_provider_credit_checks_last_year</th>\n",
              "      <th>external_data_provider_email_seen_before</th>\n",
              "      <th>external_data_provider_fraud_score</th>\n",
              "      <th>reported_income</th>\n",
              "      <th>shipping_zip_code</th>\n",
              "      <th>lat</th>\n",
              "      <th>lon</th>\n",
              "    </tr>\n",
              "  </thead>\n",
              "  <tbody>\n",
              "    <tr>\n",
              "      <th>0</th>\n",
              "      <td>False</td>\n",
              "      <td>350.0</td>\n",
              "      <td>101.800832</td>\n",
              "      <td>0.259555</td>\n",
              "      <td>108.427273</td>\n",
              "      <td>0.40</td>\n",
              "      <td>25033.92</td>\n",
              "      <td>36.0</td>\n",
              "      <td>0.0</td>\n",
              "      <td>65014.12</td>\n",
              "      <td>True</td>\n",
              "      <td>32.0</td>\n",
              "      <td>0.0</td>\n",
              "      <td>0.0</td>\n",
              "      <td>18.0</td>\n",
              "      <td>18.0</td>\n",
              "      <td>444.0</td>\n",
              "      <td>outlook.com</td>\n",
              "      <td>2.0</td>\n",
              "      <td>0.0</td>\n",
              "      <td>51.0</td>\n",
              "      <td>645.0</td>\n",
              "      <td>57849.0</td>\n",
              "      <td>17528.0</td>\n",
              "      <td>(-29.151545708122246</td>\n",
              "      <td>-51.1386461804385)</td>\n",
              "    </tr>\n",
              "    <tr>\n",
              "      <th>1</th>\n",
              "      <td>False</td>\n",
              "      <td>370.0</td>\n",
              "      <td>97.062615</td>\n",
              "      <td>0.942655</td>\n",
              "      <td>92.002546</td>\n",
              "      <td>0.24</td>\n",
              "      <td>0.00</td>\n",
              "      <td>0.0</td>\n",
              "      <td>39726.0</td>\n",
              "      <td>100018.91</td>\n",
              "      <td>False</td>\n",
              "      <td>50.0</td>\n",
              "      <td>0.0</td>\n",
              "      <td>0.0</td>\n",
              "      <td>14.0</td>\n",
              "      <td>14.0</td>\n",
              "      <td>346.0</td>\n",
              "      <td>gmail.com</td>\n",
              "      <td>1.0</td>\n",
              "      <td>0.0</td>\n",
              "      <td>17.0</td>\n",
              "      <td>243.0</td>\n",
              "      <td>4902.0</td>\n",
              "      <td>40933.0</td>\n",
              "      <td>(-19.687710705798963</td>\n",
              "      <td>-47.94151536525154)</td>\n",
              "    </tr>\n",
              "    <tr>\n",
              "      <th>2</th>\n",
              "      <td>True</td>\n",
              "      <td>360.0</td>\n",
              "      <td>100.027073</td>\n",
              "      <td>0.351918</td>\n",
              "      <td>112.892453</td>\n",
              "      <td>0.29</td>\n",
              "      <td>7207.92</td>\n",
              "      <td>36.0</td>\n",
              "      <td>25647.0</td>\n",
              "      <td>65023.65</td>\n",
              "      <td>False</td>\n",
              "      <td>32.0</td>\n",
              "      <td>0.0</td>\n",
              "      <td>0.0</td>\n",
              "      <td>10.0</td>\n",
              "      <td>0.0</td>\n",
              "      <td>6.0</td>\n",
              "      <td>gmail.com</td>\n",
              "      <td>2.0</td>\n",
              "      <td>1.0</td>\n",
              "      <td>9.0</td>\n",
              "      <td>65.0</td>\n",
              "      <td>163679.0</td>\n",
              "      <td>50985.0</td>\n",
              "      <td>(-28.748023890412284</td>\n",
              "      <td>-51.867279334353995)</td>\n",
              "    </tr>\n",
              "    <tr>\n",
              "      <th>3</th>\n",
              "      <td>False</td>\n",
              "      <td>510.0</td>\n",
              "      <td>101.599485</td>\n",
              "      <td>0.987673</td>\n",
              "      <td>94.902491</td>\n",
              "      <td>0.32</td>\n",
              "      <td>0.00</td>\n",
              "      <td>0.0</td>\n",
              "      <td>54591.0</td>\n",
              "      <td>68830.01</td>\n",
              "      <td>False</td>\n",
              "      <td>32.0</td>\n",
              "      <td>1.0</td>\n",
              "      <td>0.0</td>\n",
              "      <td>19.0</td>\n",
              "      <td>19.0</td>\n",
              "      <td>406.0</td>\n",
              "      <td>spgov.com</td>\n",
              "      <td>3.0</td>\n",
              "      <td>1.0</td>\n",
              "      <td>38.0</td>\n",
              "      <td>815.0</td>\n",
              "      <td>1086.0</td>\n",
              "      <td>37825.0</td>\n",
              "      <td>(-17.520650158450454</td>\n",
              "      <td>-39.75801139933186)</td>\n",
              "    </tr>\n",
              "    <tr>\n",
              "      <th>4</th>\n",
              "      <td>False</td>\n",
              "      <td>500.0</td>\n",
              "      <td>98.474289</td>\n",
              "      <td>0.532539</td>\n",
              "      <td>118.126207</td>\n",
              "      <td>0.18</td>\n",
              "      <td>0.00</td>\n",
              "      <td>0.0</td>\n",
              "      <td>25647.0</td>\n",
              "      <td>60011.29</td>\n",
              "      <td>True</td>\n",
              "      <td>32.0</td>\n",
              "      <td>0.0</td>\n",
              "      <td>0.0</td>\n",
              "      <td>11.0</td>\n",
              "      <td>0.0</td>\n",
              "      <td>240.0</td>\n",
              "      <td>gmail.com</td>\n",
              "      <td>2.0</td>\n",
              "      <td>1.0</td>\n",
              "      <td>46.0</td>\n",
              "      <td>320.0</td>\n",
              "      <td>198618.0</td>\n",
              "      <td>52827.0</td>\n",
              "      <td>(-16.574259446978008</td>\n",
              "      <td>-39.90990074785962)</td>\n",
              "    </tr>\n",
              "  </tbody>\n",
              "</table>\n",
              "</div>"
            ],
            "text/plain": [
              "   target_default  score_3  ...                   lat                    lon\n",
              "0           False    350.0  ...  (-29.151545708122246     -51.1386461804385)\n",
              "1           False    370.0  ...  (-19.687710705798963    -47.94151536525154)\n",
              "2            True    360.0  ...  (-28.748023890412284   -51.867279334353995)\n",
              "3           False    510.0  ...  (-17.520650158450454    -39.75801139933186)\n",
              "4           False    500.0  ...  (-16.574259446978008    -39.90990074785962)\n",
              "\n",
              "[5 rows x 26 columns]"
            ]
          },
          "metadata": {
            "tags": []
          },
          "execution_count": 40
        }
      ]
    },
    {
      "cell_type": "code",
      "metadata": {
        "id": "lzO56EK2gtb1"
      },
      "source": [
        "# Eliminar caracteres indesejados na coluna 'lat'\n",
        "def corrigir_nomes(nome):\n",
        "    nome = nome.replace('(', '')\n",
        "    return nome\n",
        "df_clean['lat'] = df_clean['lat'].apply(corrigir_nomes).astype(float)"
      ],
      "execution_count": null,
      "outputs": []
    },
    {
      "cell_type": "code",
      "metadata": {
        "id": "Rknk1IT0hRis"
      },
      "source": [
        "# Eliminar caracteres indesejados na coluna 'lon'\n",
        "def corrigir_nomes_2(nome_2):\n",
        "    nome_2 = nome_2.replace(')', '')\n",
        "    return nome_2\n",
        "df_clean['lon'] = df_clean['lon'].apply(corrigir_nomes_2).astype(float)"
      ],
      "execution_count": null,
      "outputs": []
    },
    {
      "cell_type": "code",
      "metadata": {
        "colab": {
          "base_uri": "https://localhost:8080/",
          "height": 224
        },
        "id": "onnIMNNejT5c",
        "outputId": "756386ed-9890-4856-e506-416b44315c96"
      },
      "source": [
        "# Alterar as variáveis categóricas para numéricas\n",
        "# Colunas a serem transformadas em binárias\n",
        "object_cols_bin = ['target_default' , 'facebook_profile']\n",
        "\n",
        "# Criar uma cópia do dataframe\n",
        "df_mod = df_clean.copy()\n",
        "\n",
        "# 1. Transformar as variáveis binárias\n",
        "from sklearn.preprocessing import LabelEncoder\n",
        "label_encoder = LabelEncoder()\n",
        "for col in object_cols_bin:\n",
        "  df_mod[col] = label_encoder.fit_transform(df_mod[col])\n",
        "\n",
        "# 2. Transformar as variáveis não binárias\n",
        "object_cols_nbin = ['email']\n",
        "df_mod_2 = df_mod[object_cols_nbin]\n",
        "df_mod_2 = pd.get_dummies(df_mod)\n",
        "\n",
        "# 3. Excluir as colunas não binárias do df_mod\n",
        "df_mod = df_mod.drop(columns=['email'])\n",
        "\n",
        "#4. Unir os dois dataframes formados\n",
        "df_final = pd.merge(df_mod , df_mod_2)\n",
        "df_final.head()"
      ],
      "execution_count": null,
      "outputs": [
        {
          "output_type": "execute_result",
          "data": {
            "text/html": [
              "<div>\n",
              "<style scoped>\n",
              "    .dataframe tbody tr th:only-of-type {\n",
              "        vertical-align: middle;\n",
              "    }\n",
              "\n",
              "    .dataframe tbody tr th {\n",
              "        vertical-align: top;\n",
              "    }\n",
              "\n",
              "    .dataframe thead th {\n",
              "        text-align: right;\n",
              "    }\n",
              "</style>\n",
              "<table border=\"1\" class=\"dataframe\">\n",
              "  <thead>\n",
              "    <tr style=\"text-align: right;\">\n",
              "      <th></th>\n",
              "      <th>target_default</th>\n",
              "      <th>score_3</th>\n",
              "      <th>score_4</th>\n",
              "      <th>score_5</th>\n",
              "      <th>score_6</th>\n",
              "      <th>risk_rate</th>\n",
              "      <th>last_amount_borrowed</th>\n",
              "      <th>last_borrowed_in_months</th>\n",
              "      <th>credit_limit</th>\n",
              "      <th>income</th>\n",
              "      <th>facebook_profile</th>\n",
              "      <th>ok_since</th>\n",
              "      <th>n_bankruptcies</th>\n",
              "      <th>n_defaulted_loans</th>\n",
              "      <th>n_accounts</th>\n",
              "      <th>n_issues</th>\n",
              "      <th>application_time_in_funnel</th>\n",
              "      <th>external_data_provider_credit_checks_last_month</th>\n",
              "      <th>external_data_provider_credit_checks_last_year</th>\n",
              "      <th>external_data_provider_email_seen_before</th>\n",
              "      <th>external_data_provider_fraud_score</th>\n",
              "      <th>reported_income</th>\n",
              "      <th>shipping_zip_code</th>\n",
              "      <th>lat</th>\n",
              "      <th>lon</th>\n",
              "      <th>email_gmail.com</th>\n",
              "      <th>email_gmaill.com</th>\n",
              "      <th>email_hotmail.com</th>\n",
              "      <th>email_hotmaill.com</th>\n",
              "      <th>email_outlook.com</th>\n",
              "      <th>email_spgov.com</th>\n",
              "    </tr>\n",
              "  </thead>\n",
              "  <tbody>\n",
              "    <tr>\n",
              "      <th>0</th>\n",
              "      <td>0</td>\n",
              "      <td>350.0</td>\n",
              "      <td>101.800832</td>\n",
              "      <td>0.259555</td>\n",
              "      <td>108.427273</td>\n",
              "      <td>0.40</td>\n",
              "      <td>25033.92</td>\n",
              "      <td>36.0</td>\n",
              "      <td>0.0</td>\n",
              "      <td>65014.12</td>\n",
              "      <td>1</td>\n",
              "      <td>32.0</td>\n",
              "      <td>0.0</td>\n",
              "      <td>0.0</td>\n",
              "      <td>18.0</td>\n",
              "      <td>18.0</td>\n",
              "      <td>444.0</td>\n",
              "      <td>2.0</td>\n",
              "      <td>0.0</td>\n",
              "      <td>51.0</td>\n",
              "      <td>645.0</td>\n",
              "      <td>57849.0</td>\n",
              "      <td>17528.0</td>\n",
              "      <td>-29.151546</td>\n",
              "      <td>-51.138646</td>\n",
              "      <td>0</td>\n",
              "      <td>0</td>\n",
              "      <td>0</td>\n",
              "      <td>0</td>\n",
              "      <td>1</td>\n",
              "      <td>0</td>\n",
              "    </tr>\n",
              "    <tr>\n",
              "      <th>1</th>\n",
              "      <td>0</td>\n",
              "      <td>370.0</td>\n",
              "      <td>97.062615</td>\n",
              "      <td>0.942655</td>\n",
              "      <td>92.002546</td>\n",
              "      <td>0.24</td>\n",
              "      <td>0.00</td>\n",
              "      <td>0.0</td>\n",
              "      <td>39726.0</td>\n",
              "      <td>100018.91</td>\n",
              "      <td>0</td>\n",
              "      <td>50.0</td>\n",
              "      <td>0.0</td>\n",
              "      <td>0.0</td>\n",
              "      <td>14.0</td>\n",
              "      <td>14.0</td>\n",
              "      <td>346.0</td>\n",
              "      <td>1.0</td>\n",
              "      <td>0.0</td>\n",
              "      <td>17.0</td>\n",
              "      <td>243.0</td>\n",
              "      <td>4902.0</td>\n",
              "      <td>40933.0</td>\n",
              "      <td>-19.687711</td>\n",
              "      <td>-47.941515</td>\n",
              "      <td>1</td>\n",
              "      <td>0</td>\n",
              "      <td>0</td>\n",
              "      <td>0</td>\n",
              "      <td>0</td>\n",
              "      <td>0</td>\n",
              "    </tr>\n",
              "    <tr>\n",
              "      <th>2</th>\n",
              "      <td>1</td>\n",
              "      <td>360.0</td>\n",
              "      <td>100.027073</td>\n",
              "      <td>0.351918</td>\n",
              "      <td>112.892453</td>\n",
              "      <td>0.29</td>\n",
              "      <td>7207.92</td>\n",
              "      <td>36.0</td>\n",
              "      <td>25647.0</td>\n",
              "      <td>65023.65</td>\n",
              "      <td>0</td>\n",
              "      <td>32.0</td>\n",
              "      <td>0.0</td>\n",
              "      <td>0.0</td>\n",
              "      <td>10.0</td>\n",
              "      <td>0.0</td>\n",
              "      <td>6.0</td>\n",
              "      <td>2.0</td>\n",
              "      <td>1.0</td>\n",
              "      <td>9.0</td>\n",
              "      <td>65.0</td>\n",
              "      <td>163679.0</td>\n",
              "      <td>50985.0</td>\n",
              "      <td>-28.748024</td>\n",
              "      <td>-51.867279</td>\n",
              "      <td>1</td>\n",
              "      <td>0</td>\n",
              "      <td>0</td>\n",
              "      <td>0</td>\n",
              "      <td>0</td>\n",
              "      <td>0</td>\n",
              "    </tr>\n",
              "    <tr>\n",
              "      <th>3</th>\n",
              "      <td>0</td>\n",
              "      <td>510.0</td>\n",
              "      <td>101.599485</td>\n",
              "      <td>0.987673</td>\n",
              "      <td>94.902491</td>\n",
              "      <td>0.32</td>\n",
              "      <td>0.00</td>\n",
              "      <td>0.0</td>\n",
              "      <td>54591.0</td>\n",
              "      <td>68830.01</td>\n",
              "      <td>0</td>\n",
              "      <td>32.0</td>\n",
              "      <td>1.0</td>\n",
              "      <td>0.0</td>\n",
              "      <td>19.0</td>\n",
              "      <td>19.0</td>\n",
              "      <td>406.0</td>\n",
              "      <td>3.0</td>\n",
              "      <td>1.0</td>\n",
              "      <td>38.0</td>\n",
              "      <td>815.0</td>\n",
              "      <td>1086.0</td>\n",
              "      <td>37825.0</td>\n",
              "      <td>-17.520650</td>\n",
              "      <td>-39.758011</td>\n",
              "      <td>0</td>\n",
              "      <td>0</td>\n",
              "      <td>0</td>\n",
              "      <td>0</td>\n",
              "      <td>0</td>\n",
              "      <td>1</td>\n",
              "    </tr>\n",
              "    <tr>\n",
              "      <th>4</th>\n",
              "      <td>0</td>\n",
              "      <td>500.0</td>\n",
              "      <td>98.474289</td>\n",
              "      <td>0.532539</td>\n",
              "      <td>118.126207</td>\n",
              "      <td>0.18</td>\n",
              "      <td>0.00</td>\n",
              "      <td>0.0</td>\n",
              "      <td>25647.0</td>\n",
              "      <td>60011.29</td>\n",
              "      <td>1</td>\n",
              "      <td>32.0</td>\n",
              "      <td>0.0</td>\n",
              "      <td>0.0</td>\n",
              "      <td>11.0</td>\n",
              "      <td>0.0</td>\n",
              "      <td>240.0</td>\n",
              "      <td>2.0</td>\n",
              "      <td>1.0</td>\n",
              "      <td>46.0</td>\n",
              "      <td>320.0</td>\n",
              "      <td>198618.0</td>\n",
              "      <td>52827.0</td>\n",
              "      <td>-16.574259</td>\n",
              "      <td>-39.909901</td>\n",
              "      <td>1</td>\n",
              "      <td>0</td>\n",
              "      <td>0</td>\n",
              "      <td>0</td>\n",
              "      <td>0</td>\n",
              "      <td>0</td>\n",
              "    </tr>\n",
              "  </tbody>\n",
              "</table>\n",
              "</div>"
            ],
            "text/plain": [
              "   target_default  score_3  ...  email_outlook.com  email_spgov.com\n",
              "0               0    350.0  ...                  1                0\n",
              "1               0    370.0  ...                  0                0\n",
              "2               1    360.0  ...                  0                0\n",
              "3               0    510.0  ...                  0                1\n",
              "4               0    500.0  ...                  0                0\n",
              "\n",
              "[5 rows x 31 columns]"
            ]
          },
          "metadata": {
            "tags": []
          },
          "execution_count": 43
        }
      ]
    },
    {
      "cell_type": "code",
      "metadata": {
        "colab": {
          "base_uri": "https://localhost:8080/"
        },
        "id": "rvmdyd9SkZ6d",
        "outputId": "b7c70e4b-847b-4833-d72d-dc27c759af22"
      },
      "source": [
        "df_final.info()"
      ],
      "execution_count": null,
      "outputs": [
        {
          "output_type": "stream",
          "text": [
            "<class 'pandas.core.frame.DataFrame'>\n",
            "Int64Index: 45000 entries, 0 to 44999\n",
            "Data columns (total 31 columns):\n",
            " #   Column                                           Non-Null Count  Dtype  \n",
            "---  ------                                           --------------  -----  \n",
            " 0   target_default                                   45000 non-null  int64  \n",
            " 1   score_3                                          45000 non-null  float64\n",
            " 2   score_4                                          45000 non-null  float64\n",
            " 3   score_5                                          45000 non-null  float64\n",
            " 4   score_6                                          45000 non-null  float64\n",
            " 5   risk_rate                                        45000 non-null  float64\n",
            " 6   last_amount_borrowed                             45000 non-null  float64\n",
            " 7   last_borrowed_in_months                          45000 non-null  float64\n",
            " 8   credit_limit                                     45000 non-null  float64\n",
            " 9   income                                           45000 non-null  float64\n",
            " 10  facebook_profile                                 45000 non-null  int64  \n",
            " 11  ok_since                                         45000 non-null  float64\n",
            " 12  n_bankruptcies                                   45000 non-null  float64\n",
            " 13  n_defaulted_loans                                45000 non-null  float64\n",
            " 14  n_accounts                                       45000 non-null  float64\n",
            " 15  n_issues                                         45000 non-null  float64\n",
            " 16  application_time_in_funnel                       45000 non-null  float64\n",
            " 17  external_data_provider_credit_checks_last_month  45000 non-null  float64\n",
            " 18  external_data_provider_credit_checks_last_year   45000 non-null  float64\n",
            " 19  external_data_provider_email_seen_before         45000 non-null  float64\n",
            " 20  external_data_provider_fraud_score               45000 non-null  float64\n",
            " 21  reported_income                                  45000 non-null  float64\n",
            " 22  shipping_zip_code                                45000 non-null  float64\n",
            " 23  lat                                              45000 non-null  float64\n",
            " 24  lon                                              45000 non-null  float64\n",
            " 25  email_gmail.com                                  45000 non-null  uint8  \n",
            " 26  email_gmaill.com                                 45000 non-null  uint8  \n",
            " 27  email_hotmail.com                                45000 non-null  uint8  \n",
            " 28  email_hotmaill.com                               45000 non-null  uint8  \n",
            " 29  email_outlook.com                                45000 non-null  uint8  \n",
            " 30  email_spgov.com                                  45000 non-null  uint8  \n",
            "dtypes: float64(23), int64(2), uint8(6)\n",
            "memory usage: 9.2 MB\n"
          ],
          "name": "stdout"
        }
      ]
    },
    {
      "cell_type": "code",
      "metadata": {
        "id": "xjV-FV3AlcC0"
      },
      "source": [
        "# Dividir o conjunto de dados entre treino e teste\n",
        "from sklearn.model_selection import train_test_split\n",
        "X = df_final.drop(\"target_default\" , axis=1)\n",
        "y = df_final[\"target_default\"]\n",
        "X_train , X_test , y_train , y_test = train_test_split(X , y)"
      ],
      "execution_count": null,
      "outputs": []
    },
    {
      "cell_type": "code",
      "metadata": {
        "id": "8EKiSk8-_eME"
      },
      "source": [
        "# Padronizar os dados de treino\n",
        "from sklearn.preprocessing import StandardScaler, MinMaxScaler\n",
        "from sklearn import preprocessing\n",
        "scaler = preprocessing.StandardScaler().fit(X_train)\n",
        "X_train_transformed = scaler.transform(X_train)"
      ],
      "execution_count": null,
      "outputs": []
    },
    {
      "cell_type": "code",
      "metadata": {
        "colab": {
          "base_uri": "https://localhost:8080/",
          "height": 268
        },
        "id": "ssZNZBz54rM3",
        "outputId": "aa5d1fdd-d30d-467a-c32e-5551f50e2790"
      },
      "source": [
        "# Balanceamento do dataset\n",
        "from imblearn.under_sampling import NearMiss\n",
        "nr = NearMiss()\n",
        "X_near, y_near = nr.fit_sample(X_train_transformed, y_train)\n",
        "ax = sns.countplot(y_near)"
      ],
      "execution_count": null,
      "outputs": [
        {
          "output_type": "display_data",
          "data": {
            "image/png": "[encoded data removed]",
            "text/plain": [
              "<Figure size 432x288 with 1 Axes>"
            ]
          },
          "metadata": {
            "tags": []
          }
        }
      ]
    },
    {
      "cell_type": "markdown",
      "metadata": {
        "id": "1gGPzHP2nB2t"
      },
      "source": [
        "**Nesta etapa de preparação dos dados conseguimos deixar o nosso dataframe pronto e organizado para a próxima etapa, que é executar um modelo de machine learning.**\n",
        "\n",
        "Gostaria de ressaltar o quanto foi importante as duas etapas feitas acima que foram a análise exploratória e a preparação dos dados. A preparação dos dados só foi possível graças as conclusões que chegamos na análise exploratória e o modelo de machine learning só será possível por causa da etapa de preparação dos dados, sem ela nosso modelo não teria a eficácia que agora ele tem condições de ter."
      ]
    },
    {
      "cell_type": "markdown",
      "metadata": {
        "id": "cqmzOZfMnHI8"
      },
      "source": [
        "## Modelo de Machine Learning\n",
        "\n",
        "Chegamos finalmente na etapa da criação do modelo de machine learning. Nessa etapa a intenção é criar alguns modelos de classificação e compara-los, assim teremos condições de adotar o que tenha uma melhor eficácia.\n",
        "\n",
        "Vamos adotar os seguintes modelos:\n",
        "\n",
        "* Random forest;\n",
        "* Decision tree;\n",
        "* Stochastic Gradient Descent;\n",
        "* SVC;\n",
        "* Regressão Logística;\n",
        "* XGB\n",
        "* LightGBM.\n",
        "\n",
        "Para avaliar os desempenhos do modelo, neste trabalho iremos aplicar a validação cruzada."
      ]
    },
    {
      "cell_type": "code",
      "metadata": {
        "id": "78Kqod9A6Wvu"
      },
      "source": [
        "# Construindo função de avaliação dos modelos\n",
        "from sklearn.model_selection import cross_val_score\n",
        "from sklearn.pipeline import make_pipeline\n",
        "from sklearn.metrics import accuracy_score, f1_score, confusion_matrix, classification_report\n",
        "def val_model(X , y , clf , quite=False):\n",
        "    X = np.array(X)\n",
        "    y = np.array(y)\n",
        "    pipeline = make_pipeline(StandardScaler(), clf)\n",
        "    scores = cross_val_score(pipeline, X , y , scoring='accuracy')\n",
        "    if quite == False:\n",
        "        print(\"Acurácia: {:.4f} (+/- {:.2f})\".format(scores.mean(), scores.std()))\n",
        "    return scores.mean()"
      ],
      "execution_count": null,
      "outputs": []
    },
    {
      "cell_type": "code",
      "metadata": {
        "colab": {
          "base_uri": "https://localhost:8080/",
          "height": 266
        },
        "id": "XE8nVgBb6cM-",
        "outputId": "cae9b83d-20de-47fe-9483-f65a1b9578fe"
      },
      "source": [
        "# Avaliação dos modelos\n",
        "from sklearn.svm import SVC\n",
        "from lightgbm import LGBMClassifier\n",
        "from sklearn.linear_model import SGDClassifier\n",
        "from sklearn.tree import DecisionTreeClassifier\n",
        "from sklearn.linear_model import LogisticRegression\n",
        "from xgboost import XGBClassifier\n",
        "from sklearn.ensemble import RandomForestClassifier\n",
        "\n",
        "# 1. Instanciar os modelos\n",
        "rf = RandomForestClassifier()\n",
        "dt = DecisionTreeClassifier()\n",
        "sgdc = SGDClassifier()\n",
        "svc = SVC()\n",
        "lr = LogisticRegression()\n",
        "xgb = XGBClassifier()\n",
        "lgbm = LGBMClassifier()\n",
        "model = []\n",
        "acc = []\n",
        "\n",
        "# avaliar o desempenho\n",
        "for clf in (rf, dt, sgdc, svc, lr, xgb, lgbm):\n",
        "    model.append(clf.__class__.__name__)\n",
        "    acc.append(val_model(X_near, y_near, clf, quite=True))\n",
        "\n",
        "pd.DataFrame(data=acc, index=model, columns=['acc'])"
      ],
      "execution_count": null,
      "outputs": [
        {
          "output_type": "execute_result",
          "data": {
            "text/html": [
              "<div>\n",
              "<style scoped>\n",
              "    .dataframe tbody tr th:only-of-type {\n",
              "        vertical-align: middle;\n",
              "    }\n",
              "\n",
              "    .dataframe tbody tr th {\n",
              "        vertical-align: top;\n",
              "    }\n",
              "\n",
              "    .dataframe thead th {\n",
              "        text-align: right;\n",
              "    }\n",
              "</style>\n",
              "<table border=\"1\" class=\"dataframe\">\n",
              "  <thead>\n",
              "    <tr style=\"text-align: right;\">\n",
              "      <th></th>\n",
              "      <th>acc</th>\n",
              "    </tr>\n",
              "  </thead>\n",
              "  <tbody>\n",
              "    <tr>\n",
              "      <th>RandomForestClassifier</th>\n",
              "      <td>0.776721</td>\n",
              "    </tr>\n",
              "    <tr>\n",
              "      <th>DecisionTreeClassifier</th>\n",
              "      <td>0.683251</td>\n",
              "    </tr>\n",
              "    <tr>\n",
              "      <th>SGDClassifier</th>\n",
              "      <td>0.713114</td>\n",
              "    </tr>\n",
              "    <tr>\n",
              "      <th>SVC</th>\n",
              "      <td>0.799119</td>\n",
              "    </tr>\n",
              "    <tr>\n",
              "      <th>LogisticRegression</th>\n",
              "      <td>0.727746</td>\n",
              "    </tr>\n",
              "    <tr>\n",
              "      <th>XGBClassifier</th>\n",
              "      <td>0.793644</td>\n",
              "    </tr>\n",
              "    <tr>\n",
              "      <th>LGBMClassifier</th>\n",
              "      <td>0.795733</td>\n",
              "    </tr>\n",
              "  </tbody>\n",
              "</table>\n",
              "</div>"
            ],
            "text/plain": [
              "                             acc\n",
              "RandomForestClassifier  0.776721\n",
              "DecisionTreeClassifier  0.683251\n",
              "SGDClassifier           0.713114\n",
              "SVC                     0.799119\n",
              "LogisticRegression      0.727746\n",
              "XGBClassifier           0.793644\n",
              "LGBMClassifier          0.795733"
            ]
          },
          "metadata": {
            "tags": []
          },
          "execution_count": 52
        }
      ]
    },
    {
      "cell_type": "markdown",
      "metadata": {
        "id": "b0TocwfthDGZ"
      },
      "source": [
        "Acima, temos a acurácia de todos os modelos, o que apresentou melhor desempenho foi o modelo SVC, porém, vou seguir com o XGBoost, pois, nele temos mais opções de parâmetros e mais chances de superar os outros modelos."
      ]
    },
    {
      "cell_type": "markdown",
      "metadata": {
        "id": "h948dKKohg0-"
      },
      "source": [
        "## Otimização do modelo adotado - XGBoost\n",
        "\n",
        "Antes de executar o modelo preditivo com o XGBoost, vamos tentar otimizar alguns parâmetros. Nesse caso, por ser um modelo de classificação, vamos otimizar alguns parâmetros para o tree booster.\n"
      ]
    },
    {
      "cell_type": "code",
      "metadata": {
        "colab": {
          "base_uri": "https://localhost:8080/"
        },
        "id": "RqYNQea6BtBr",
        "outputId": "a3c1d64f-27b6-4db6-e029-58f4d4997f31"
      },
      "source": [
        "# 1. Avaliação e otimização dos parâmetros (Deixando todos os parâmetros como default e estudando apenas o parâmetro 'n_estimators')\n",
        "from sklearn.model_selection import StratifiedKFold\n",
        "from sklearn.model_selection import GridSearchCV\n",
        "xgb = XGBClassifier()\n",
        "param_grid = {'n_estimators':[100, 500, 1000]}\n",
        "kfold = StratifiedKFold(n_splits=10 , shuffle=True)\n",
        "grid_search = GridSearchCV(xgb, param_grid, scoring=\"accuracy\", n_jobs=-1, cv=kfold)\n",
        "grid_result = grid_search.fit(X_near , y_near)\n",
        "print(\"Melhor: {} para {}\".format(grid_result.best_score_, grid_result.best_params_))"
      ],
      "execution_count": null,
      "outputs": [
        {
          "output_type": "stream",
          "text": [
            "Melhor: 0.8161452696675981 para {'n_estimators': 500}\n"
          ],
          "name": "stdout"
        }
      ]
    },
    {
      "cell_type": "code",
      "metadata": {
        "colab": {
          "base_uri": "https://localhost:8080/"
        },
        "id": "zY3DqyBxCNAK",
        "outputId": "808ecd02-9496-43e7-bdb7-4999e9a8d2d3"
      },
      "source": [
        "# 2. Otimizar o parâmetro max_depth, ele representa a profundidade de cada árvore, que é o número máximo de recursos diferentes usados em cada árvore\n",
        "xgb = XGBClassifier(n_estimators=500)\n",
        "param_grid = {'max_depth':range(10)}\n",
        "kfold = StratifiedKFold(n_splits=10 , shuffle=True)\n",
        "grid_search = GridSearchCV(xgb, param_grid, scoring=\"accuracy\", n_jobs=-1, cv=kfold)\n",
        "grid_result = grid_search.fit(X_near , y_near)\n",
        "print(\"Melhor: {} para {}\".format(grid_result.best_score_, grid_result.best_params_))"
      ],
      "execution_count": null,
      "outputs": [
        {
          "output_type": "stream",
          "text": [
            "Melhor: 0.816044776119403 para {'max_depth': 3}\n"
          ],
          "name": "stdout"
        }
      ]
    },
    {
      "cell_type": "code",
      "metadata": {
        "colab": {
          "base_uri": "https://localhost:8080/"
        },
        "id": "Da0nsQodC6r8",
        "outputId": "f28731c8-722c-4261-b0a0-6d14ec4491c9"
      },
      "source": [
        "# 3. Otimizar o parâmetro learning_rate(normalmente entre 0,1 e 0,01)\n",
        "xgb = XGBClassifier(n_estimators=500 , max_depth=3)\n",
        "param_grid = {'learning_rate':[0.001 , 0.01 , 0.05 , 0.1 , 0.3]}\n",
        "kfold = StratifiedKFold(n_splits=10 , shuffle=True)\n",
        "grid_search = GridSearchCV(xgb, param_grid, scoring=\"accuracy\", n_jobs=-1, cv=kfold)\n",
        "grid_result = grid_search.fit(X_near , y_near)\n",
        "print(\"Melhor: {} para {}\".format(grid_result.best_score_, grid_result.best_params_))"
      ],
      "execution_count": null,
      "outputs": [
        {
          "output_type": "stream",
          "text": [
            "Melhor: 0.8147526312659809 para {'learning_rate': 0.1}\n"
          ],
          "name": "stdout"
        }
      ]
    },
    {
      "cell_type": "code",
      "metadata": {
        "colab": {
          "base_uri": "https://localhost:8080/"
        },
        "id": "N7mQ3G3SGA-k",
        "outputId": "9cc6448b-8d27-4f6f-b175-fb2529244d8f"
      },
      "source": [
        "# 4. Otimizar o parâmetro subsample(normalmente entre 0,8 a 1)\n",
        "xgb = XGBClassifier(n_estimators=500 , max_depth=3 , learning_rate=0.1)\n",
        "param_grid = {'subsample':[0.8 , 0.9 , 1]}\n",
        "kfold = StratifiedKFold(n_splits=10 , shuffle=True)\n",
        "grid_search = GridSearchCV(xgb, param_grid, scoring=\"accuracy\", n_jobs=-1, cv=kfold)\n",
        "grid_result = grid_search.fit(X_near, y_near)\n",
        "print(\"Melhor: {} para {}\".format(grid_result.best_score_, grid_result.best_params_))"
      ],
      "execution_count": null,
      "outputs": [
        {
          "output_type": "stream",
          "text": [
            "Melhor: 0.8166435749539156 para {'subsample': 0.9}\n"
          ],
          "name": "stdout"
        }
      ]
    },
    {
      "cell_type": "code",
      "metadata": {
        "colab": {
          "base_uri": "https://localhost:8080/"
        },
        "id": "dQ3AUptlGV3B",
        "outputId": "55d20531-69d5-46e6-8409-832eb65dda00"
      },
      "source": [
        "# 5. Otimizar o parâmetro colsample_bytree(normalmente entre 0,3 a 0,8)\n",
        "xgb = XGBClassifier(n_estimators=500 , max_depth=3 , learning_rate=0.1 , subsample=0.9)\n",
        "param_grid = {'colsample_bytree':[0.3 , 0.4 , 0.5 , 0.6 , 0.7 , 0.8]}\n",
        "kfold = StratifiedKFold(n_splits=10 , shuffle=True)\n",
        "grid_search = GridSearchCV(xgb, param_grid, scoring=\"accuracy\", n_jobs=-1, cv=kfold)\n",
        "grid_result = grid_search.fit(X_near , y_near)\n",
        "print(\"Melhor: {} para {}\".format(grid_result.best_score_, grid_result.best_params_))"
      ],
      "execution_count": null,
      "outputs": [
        {
          "output_type": "stream",
          "text": [
            "Melhor: 0.8144510515153318 para {'colsample_bytree': 0.6}\n"
          ],
          "name": "stdout"
        }
      ]
    },
    {
      "cell_type": "code",
      "metadata": {
        "colab": {
          "base_uri": "https://localhost:8080/"
        },
        "id": "R_zIUcJYHD4x",
        "outputId": "5a491316-9ed2-46eb-d49d-998ff0344174"
      },
      "source": [
        "# 6. Otimizar o parâmetro gamma(normalmente 0,1 ou 5)\n",
        "xgb = XGBClassifier(n_estimators=500 , max_depth=3 , learning_rate=0.1 , subsample=0.9 , colsample_bytree=0.6)\n",
        "param_grid = {'gamma':[0 , 0.1 , 5]}\n",
        "kfold = StratifiedKFold(n_splits=10 , shuffle=True)\n",
        "grid_search = GridSearchCV(xgb, param_grid, scoring=\"accuracy\", n_jobs=-1, cv=kfold)\n",
        "grid_result = grid_search.fit(X_near , y_near)\n",
        "print(\"Melhor: {} para {}\".format(grid_result.best_score_, grid_result.best_params_))"
      ],
      "execution_count": null,
      "outputs": [
        {
          "output_type": "stream",
          "text": [
            "Melhor: 0.8169428752651087 para {'gamma': 5}\n"
          ],
          "name": "stdout"
        }
      ]
    },
    {
      "cell_type": "code",
      "metadata": {
        "colab": {
          "base_uri": "https://localhost:8080/",
          "height": 508
        },
        "id": "Qd6y-sWBIq35",
        "outputId": "c0b7a45f-f8cb-46f9-ad06-18031ead2be2"
      },
      "source": [
        "# Modelo final\n",
        "xgb = XGBClassifier(n_estimators=500 , max_depth=3 , learning_rate=0.1 , subsample=0.9 , colsample_bytree=0.6 , gamma=5)\n",
        "xgb.fit(X_near , y_near)\n",
        "\n",
        "# Fazer previsões em cima de novos dados\n",
        "X_test = scaler.transform(X_test)\n",
        "y_pred = xgb.predict(X_test)\n",
        "\n",
        "# Imprimir relatório de classificação\n",
        "print(classification_report(y_test , y_pred))\n",
        "\n",
        "# Plotar matriz de confusão\n",
        "fig , ax = plt.subplots()\n",
        "sns.heatmap(confusion_matrix(y_test , y_pred) , annot=True , ax=ax)\n",
        "ax.set_title(\"Matriz de confusão\")\n",
        "ax.set_ylabel(\"Verdadeiro\")\n",
        "ax.set_xlabel(\"Previsto\")\n",
        "plt.show()"
      ],
      "execution_count": null,
      "outputs": [
        {
          "output_type": "stream",
          "text": [
            "/usr/local/lib/python3.7/dist-packages/sklearn/metrics/_classification.py:1272: UndefinedMetricWarning: Precision and F-score are ill-defined and being set to 0.0 in labels with no predicted samples. Use `zero_division` parameter to control this behavior.\n",
            "  _warn_prf(average, modifier, msg_start, len(result))\n"
          ],
          "name": "stderr"
        },
        {
          "output_type": "stream",
          "text": [
            "              precision    recall  f1-score   support\n",
            "\n",
            "           0       0.00      0.00      0.00      9612\n",
            "           1       0.15      1.00      0.25      1638\n",
            "\n",
            "    accuracy                           0.15     11250\n",
            "   macro avg       0.07      0.50      0.13     11250\n",
            "weighted avg       0.02      0.15      0.04     11250\n",
            "\n"
          ],
          "name": "stdout"
        },
        {
          "output_type": "display_data",
          "data": {
            "image/png": "[encoded data removed]",
            "text/plain": [
              "<Figure size 432x288 with 2 Axes>"
            ]
          },
          "metadata": {
            "tags": []
          }
        }
      ]
    },
    {
      "cell_type": "markdown",
      "metadata": {
        "id": "AUd72Z6v9XVm"
      },
      "source": [
        "## Conclusão\n",
        "\n"
      ]
    }
  ]
}